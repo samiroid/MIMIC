{
 "cells": [
  {
   "cell_type": "code",
   "execution_count": null,
   "metadata": {},
   "outputs": [],
   "source": [
    "import os\n",
    "import pandas as pd\n",
    "import matplotlib.pyplot as plt\n",
    "import numpy as np\n",
    "from sklearn.linear_model import SGDClassifier \n",
    "from sklearn.metrics import f1_score, accuracy_score\n",
    "from sklearn.metrics import precision_recall_fscore_support as score\n",
    "from datetime import datetime\n",
    "\n",
    "import seaborn as sns\n",
    "sns.set(style=\"darkgrid\")\n",
    "#local\n",
    "from tadat.pipeline import plots\n",
    "from tadat.core import data, vectorizer, features, helpers, embeddings\n",
    "\n",
    "%matplotlib inline\n",
    "%load_ext autoreload\n",
    "%autoreload 2"
   ]
  },
  {
   "cell_type": "code",
   "execution_count": null,
   "metadata": {},
   "outputs": [],
   "source": [
    "def ethnicity_multi_labels(x):\n",
    "    if \"ASIAN\" in x:\n",
    "        return \"ASIAN\"\n",
    "    elif \"AFRICAN\" in x:\n",
    "        return \"BLACK\"\n",
    "    elif \"HISPANIC\" in x:\n",
    "        return \"HISPANIC\"\n",
    "    elif \"WHITE\" in x:\n",
    "        return \"WHITE\"\n",
    "    elif \"NATIVE\" in x:\n",
    "        return \"OTHER\"\n",
    "        return \"NATIVE\"\n",
    "    else:\n",
    "        return \"OTHER\"\n",
    "\n",
    "def ethnicity_binary_labels(x):\n",
    "    if \"ASIAN\" in x or \"AFRICAN\" in x or \"HISPANIC\" in x or \"NATIVE\" in x: \n",
    "        return \"NON-WHITE\"\n",
    "    elif \"WHITE\" in x:\n",
    "        return \"WHITE\"\n",
    "    else:\n",
    "        return \"OTHER\"\n",
    "\n",
    "def get_ethnicity_dataset(df, path_out=None):\n",
    "    df[\"ETHNICITY_LABEL\"] = df[\"ETHNICITY\"].apply(lambda x:ethnicity_binary_labels(x))\n",
    "    df_ethnicity = df[[\"ETHNICITY_LABEL\",\"TEXT\"]]\n",
    "    if path_out:\n",
    "        df_ethnicity.to_csv(path_out,index=False, sep=\"\\t\", header=False)\n",
    "        \n",
    "    return df_ethnicity\n",
    "\n",
    "def get_mortality_dataset(df, path_out=None):\n",
    "    df[\"EXPIRE\"] = df[\"HOSPITAL_EXPIRE_FLAG\"]\n",
    "    df_mortality = df[[\"EXPIRE\",\"TEXT\",\"GENDER\",\"ETHNICITY_LABEL\",\"ETHNICITY_BINARY\"]]\n",
    "    if path_out:\n",
    "        df_mortality.to_csv(path_out,index=False, sep=\"\\t\", header=False)\n",
    "    return df_mortality\n",
    "\n",
    "def get_readmissions_dataset(mimic_path, patients_df, path_out=None):\n",
    "    admissions_df = pd.read_csv(mimic_path+\"ADMISSIONS.CSV.gz\")\n",
    "    data = []\n",
    "    READMISSION_DELTA = float(\"inf\")\n",
    "    for _, patient in patients_df.iterrows():\n",
    "        adm = admissions_df[admissions_df[\"SUBJECT_ID\"] == patient[\"SUBJECT_ID\"]]\n",
    "        if len(adm) > 1:\n",
    "            admission_times = list(adm.sort_values(\"ADMITTIME\")[\"ADMITTIME\"])\n",
    "            for i in range(len(admission_times)-1):\n",
    "                d1 = admission_times[i]\n",
    "                d2 = admission_times[i+1]\n",
    "                d1 = datetime.strptime(d1, \"%Y-%m-%d %H:%M:%S\")\n",
    "                d2 = datetime.strptime(d2, \"%Y-%m-%d %H:%M:%S\")\n",
    "                delta = d2 - d1\n",
    "                if delta.days < READMISSION_DELTA:\n",
    "                    data.append([1,patient[\"TEXT\"],patient[\"GENDER\"]])\n",
    "                    break             \n",
    "        else:\n",
    "            data.append([0,patient[\"TEXT\"],patient[\"GENDER\"], \n",
    "                           patient[\"ETHNICITY_LABEL\"], patient[\"ETHNICITY_BINARY\"]])\n",
    "    readm_df = pd.DataFrame(data, columns=[\"READMISSION\",\"TEXT\",\"GENDER\",\"ETHNICITY_LABEL\",\"ETHNICITY_BINARY\"])\n",
    "    if path_out:\n",
    "        readm_df.to_csv(path_out,index=False, sep=\"\\t\", header=False)    \n",
    "    return readm_df\n",
    "    \n",
    "\n",
    "def extract_patients(mimic_path, sample_size=None, path_out=None):\n",
    "    all_notes = pd.read_csv(mimic_path+\"NOTEEVENTS.CSV.gz\")\n",
    "    all_patients = pd.read_csv(mimic_path+\"PATIENTS.CSV.gz\")\n",
    "    all_admissions = pd.read_csv(mimic_path+\"ADMISSIONS.CSV.gz\")\n",
    "    #filter relevant columns\n",
    "    notes = all_notes[[\"TEXT\"]]\n",
    "    notes[\"TEXT\"] = notes[\"TEXT\"].apply(lambda x: x.replace(\"\\n\",\"\").replace(\"\\t\",\"\").lower())\n",
    "    patients = all_patients[[\"SUBJECT_ID\",\"GENDER\"]]\n",
    "    admissions = all_admissions[[\"INSURANCE\",\"ETHNICITY\",\"HOSPITAL_EXPIRE_FLAG\"]]\n",
    "    #subsample?\n",
    "    if sample_size:        \n",
    "        patients = patients[:sample_size]\n",
    "    #join dataframes\n",
    "    patients = patients.join(admissions, how=\"inner\", on=\"SUBJECT_ID\",rsuffix=\"A_\")\n",
    "    patients = patients.join(notes, how=\"inner\", on=\"SUBJECT_ID\",rsuffix=\"N_\")\n",
    "    patients[\"ETHNICITY_LABEL\"] = patients[\"ETHNICITY\"].apply(lambda x:ethnicity_multi_labels(x))\n",
    "    patients[\"ETHNICITY_BINARY\"] = patients[\"ETHNICITY\"].apply(lambda x:ethnicity_binary_labels(x))\n",
    "    \n",
    "    if path_out:\n",
    "        patients.to_csv(path_out,index=False, sep=\"\\t\", header=False)    \n",
    "    \n",
    "    return patients\n",
    "\n",
    "def subsample(df, label, ratio=1, path_out=None):\n",
    "    minority_size = min(df.groupby(label).size())\n",
    "    minority_class = np.argmin(df.groupby(label).size())\n",
    "    \n",
    "    majority_size = int(minority_size * ratio)\n",
    "    majority_class = np.argmax(df.groupby(label).size())\n",
    "    all_size = minority_size + majority_size\n",
    "  \n",
    "    print(\"{} > Minority: {}/{} | Majority: {}/{}\".format(label, minority_size, all_size,\n",
    "                                                           majority_size,all_size))\n",
    "\n",
    "    df_maj = df[df[label] == majority_class].head(majority_size)\n",
    "    df_min = df[df[label] == minority_class]\n",
    "    df_all = df_min.append(df_maj, ignore_index=True)\n",
    "    if path_out:\n",
    "        df_all.to_csv(path_out,index=False, sep=\"\\t\", header=False)    \n",
    "    return df_all\n",
    "\n",
    "def split_data(df, y_label, split=0.8):\n",
    "    #split into training and test sets\n",
    "    train_split, test_split = data.shuffle_split_idx(df[y_label], split)\n",
    "    df_train = df.iloc[train_split, :]\n",
    "    df_test = df.iloc[test_split, :]\n",
    "    train_split2, val_split = data.shuffle_split_idx(df_train[y_label], split)\n",
    "    df_train2 = df_train.iloc[train_split2, :]\n",
    "    df_val = df_train.iloc[val_split, :]\n",
    "    return df_train2, df_test, df_val\n"
   ]
  },
  {
   "cell_type": "code",
   "execution_count": null,
   "metadata": {},
   "outputs": [],
   "source": [
    "raw_data_path = \"/Users/samir/Dev/resources/datasets/MIMIC/full/\"\n",
    "out_data_path = \"/Users/samir/Dev/projects/MIMIC/MIMIC/DATA/input/\""
   ]
  },
  {
   "cell_type": "markdown",
   "metadata": {},
   "source": [
    "## Extract Data"
   ]
  },
  {
   "cell_type": "code",
   "execution_count": null,
   "metadata": {
    "scrolled": true
   },
   "outputs": [],
   "source": [
    "# PATIENT_SAMPLE_SIZE = 20000\n",
    "# mini_patients = extract_patients(raw_data_path, PATIENT_SAMPLE_SIZE,out_data_path+\"mini_patients.csv\")\n",
    "patients = extract_patients(raw_data_path, None,out_data_path+\"patients.csv\")\n",
    "patients\n",
    "# col_names = [\"SUBJECT_ID\",\"GENDER\",\"INSURANCE\",\"ETHNICITY\",\"HOSPITAL_EXPIRE_FLAG\",\"TEXT\",\"ETHNICITY_LABEL\",\"ETHNICITY_BINARY\"]\n",
    "# mini_patients = pd.read_csv(out_data_path+\"mini_patients.csv\", header=None, \n",
    "#                             sep=\"\\t\", names=col_names)\n",
    "# mini_patients"
   ]
  },
  {
   "cell_type": "markdown",
   "metadata": {},
   "source": [
    "## Mortality"
   ]
  },
  {
   "cell_type": "code",
   "execution_count": null,
   "metadata": {
    "scrolled": true
   },
   "outputs": [],
   "source": [
    "# df_mortality = get_mortality_dataset(mini_patients, out_data_path+\"mini_mortality.csv\")\n",
    "df_mortality = get_mortality_dataset(patients)\n",
    "df_mortality"
   ]
  },
  {
   "cell_type": "code",
   "execution_count": null,
   "metadata": {
    "scrolled": false
   },
   "outputs": [],
   "source": [
    "fig, ax = plt.subplots(1,1, figsize=(10,5))\n",
    "\n",
    "df_mg = df_mortality.groupby(\"EXPIRE\").size()/df_mortality.groupby(\"EXPIRE\").size().sum()\n",
    "df_mg.plot(ax=ax,kind=\"bar\", title=\"Hospital Deaths\", rot=0)\n",
    "plt.tight_layout()"
   ]
  },
  {
   "cell_type": "code",
   "execution_count": null,
   "metadata": {
    "scrolled": false
   },
   "outputs": [],
   "source": [
    "df_mortality.groupby(\"GENDER\").size().plot(kind=\"bar\", rot=0)"
   ]
  },
  {
   "cell_type": "code",
   "execution_count": null,
   "metadata": {},
   "outputs": [],
   "source": [
    "df_mortality.groupby(\"ETHNICITY_BINARY\").size().plot(kind=\"bar\", rot=0)"
   ]
  },
  {
   "cell_type": "code",
   "execution_count": null,
   "metadata": {
    "scrolled": true
   },
   "outputs": [],
   "source": [
    "df_mortality.groupby(\"ETHNICITY_LABEL\").size().plot(kind=\"bar\", rot=0)"
   ]
  },
  {
   "cell_type": "markdown",
   "metadata": {},
   "source": [
    "## Split Data"
   ]
  },
  {
   "cell_type": "code",
   "execution_count": null,
   "metadata": {},
   "outputs": [],
   "source": [
    "SAMPLE=5000\n",
    "df_mortality_train, df_mortality_test, df_mortality_val = split_data(df_mortality.head(SAMPLE), \"EXPIRE\")\n",
    "\n",
    "df_mortality_train.to_csv(out_data_path+\"mini_mortality_train.csv\",index=False, sep=\"\\t\", header=True)    \n",
    "df_mortality_test.to_csv(out_data_path+\"mini_mortality_test.csv\",index=False, sep=\"\\t\", header=True)    \n",
    "df_mortality_val.to_csv(out_data_path+\"mini_mortality_val.csv\",index=False, sep=\"\\t\", header=True)    "
   ]
  },
  {
   "cell_type": "code",
   "execution_count": null,
   "metadata": {},
   "outputs": [],
   "source": [
    "df_mortality_train, df_mortality_test, df_mortality_val = split_data(df_mortality, \"EXPIRE\")\n",
    "\n",
    "df_mortality_train.to_csv(out_data_path+\"mortality_train.csv\",index=False, sep=\"\\t\", header=True)    \n",
    "df_mortality_test.to_csv(out_data_path+\"mortality_test.csv\",index=False, sep=\"\\t\", header=True)    \n",
    "df_mortality_val.to_csv(out_data_path+\"mortality_val.csv\",index=False, sep=\"\\t\", header=True)    "
   ]
  },
  {
   "cell_type": "code",
   "execution_count": null,
   "metadata": {},
   "outputs": [],
   "source": [
    "fig, ax = plt.subplots(1,3, figsize=(10,5), sharey=True)\n",
    "\n",
    "df_mg_tr = df_mortality_train.groupby(\"EXPIRE\").size()/df_mortality_train.groupby(\"EXPIRE\").size().sum()\n",
    "df_mg_ts = df_mortality_test.groupby(\"EXPIRE\").size()/df_mortality_test.groupby(\"EXPIRE\").size().sum()\n",
    "df_mg_val = df_mortality_val.groupby(\"EXPIRE\").size()/df_mortality_val.groupby(\"EXPIRE\").size().sum()\n",
    "df_mg_tr.plot(ax=ax[0],kind=\"bar\", title=\"Hospital Deaths Train\", rot=0)\n",
    "df_mg_ts.plot(ax=ax[1],kind=\"bar\", title=\"Hospital Deaths Test\", rot=0)\n",
    "df_mg_val.plot(ax=ax[2],kind=\"bar\", title=\"Hospital Deaths Val\", rot=0)\n",
    "plt.tight_layout()"
   ]
  },
  {
   "cell_type": "code",
   "execution_count": null,
   "metadata": {},
   "outputs": [],
   "source": [
    "fig, ax = plt.subplots(1,2, figsize=(15,5))\n",
    "df_mortality_train.groupby(\"GENDER\").size().plot(kind=\"bar\", rot=0, ax=ax[0])\n",
    "df_mortality_test.groupby(\"GENDER\").size().plot(kind=\"bar\", rot=0, ax=ax[1],color=\"r\")\n",
    "plt.tight_layout()"
   ]
  },
  {
   "cell_type": "code",
   "execution_count": null,
   "metadata": {},
   "outputs": [],
   "source": [
    "fig, ax = plt.subplots(1,2, figsize=(15,5))\n",
    "df_mortality_train.groupby(\"ETHNICITY_BINARY\").size().plot(kind=\"bar\", rot=0, ax=ax[0])\n",
    "df_mortality_test.groupby(\"ETHNICITY_BINARY\").size().plot(kind=\"bar\", rot=0, ax=ax[1],color=\"r\")\n",
    "plt.tight_layout()"
   ]
  },
  {
   "cell_type": "code",
   "execution_count": null,
   "metadata": {
    "scrolled": false
   },
   "outputs": [],
   "source": [
    "fig, ax = plt.subplots(1,2, figsize=(15,5))\n",
    "df_mortality_train.groupby(\"ETHNICITY_LABEL\").size().plot(kind=\"bar\", rot=0, ax=ax[0])\n",
    "df_mortality_test.groupby(\"ETHNICITY_LABEL\").size().plot(kind=\"bar\", rot=0, ax=ax[1],color=\"r\")\n",
    "plt.tight_layout()"
   ]
  },
  {
   "cell_type": "markdown",
   "metadata": {},
   "source": [
    "## Readmissions"
   ]
  },
  {
   "cell_type": "code",
   "execution_count": null,
   "metadata": {
    "scrolled": false
   },
   "outputs": [],
   "source": [
    "mimic_path = \"/Users/samir/Dev/resources/datasets/MIMIC/full/\"\n",
    "# df_readm = get_readmissions_dataset(mimic_path, mini_patients, path_out=out_data_path+\"/mini_readmissions.csv\")\n",
    "df_readm = get_readmissions_dataset(mimic_path, patients, path_out=out_data_path+\"/readmissions.csv\")\n",
    "df_readm"
   ]
  },
  {
   "cell_type": "code",
   "execution_count": null,
   "metadata": {
    "scrolled": false
   },
   "outputs": [],
   "source": [
    "fig, ax = plt.subplots(1,1, figsize=(10,5))\n",
    "\n",
    "df_rg = df_readm.groupby(\"READMISSION\").size()/df_readm.groupby(\"READMISSION\").size().sum()\n",
    "df_rg.plot(ax=ax,kind=\"bar\", title=\"Readmissions\", rot=0)\n",
    "plt.tight_layout()"
   ]
  },
  {
   "cell_type": "code",
   "execution_count": null,
   "metadata": {
    "scrolled": false
   },
   "outputs": [],
   "source": [
    "df_readm.groupby(\"GENDER\").size().plot(kind=\"bar\", rot=0)"
   ]
  },
  {
   "cell_type": "code",
   "execution_count": null,
   "metadata": {},
   "outputs": [],
   "source": [
    "df_readm.groupby(\"ETHNICITY_BINARY\").size().plot(kind=\"bar\", rot=0)"
   ]
  },
  {
   "cell_type": "code",
   "execution_count": null,
   "metadata": {
    "scrolled": true
   },
   "outputs": [],
   "source": [
    "df_readm.groupby(\"ETHNICITY_LABEL\").size().plot(kind=\"bar\", rot=0)"
   ]
  },
  {
   "cell_type": "markdown",
   "metadata": {},
   "source": [
    "## Split Data"
   ]
  },
  {
   "cell_type": "code",
   "execution_count": null,
   "metadata": {},
   "outputs": [],
   "source": [
    "df_readm_train, df_readm_test, df_readm_val = split_data(df_readm, \"READMISSION\")\n",
    "\n",
    "df_readm_train.to_csv(out_data_path+\"readmissions_train.csv\",index=False, sep=\"\\t\", header=True)    \n",
    "df_readm_test.to_csv(out_data_path+\"readmissions_test.csv\",index=False, sep=\"\\t\", header=True)    \n",
    "df_readm_val.to_csv(out_data_path+\"readmissions_val.csv\",index=False, sep=\"\\t\", header=True)    "
   ]
  },
  {
   "cell_type": "code",
   "execution_count": null,
   "metadata": {},
   "outputs": [],
   "source": [
    "SAMPLE=5000\n",
    "df_readm_train, df_readm_test, df_readm_val = split_data(df_readm.head(SAMPLE), \"READMISSION\")\n",
    "\n",
    "df_readm_train.to_csv(out_data_path+\"mini_readmissions_train.csv\",index=False, sep=\"\\t\", header=True)    \n",
    "df_readm_test.to_csv(out_data_path+\"mini_readmissions_test.csv\",index=False, sep=\"\\t\", header=True)    \n",
    "df_readm_val.to_csv(out_data_path+\"mini_readmissions_val.csv\",index=False, sep=\"\\t\", header=True)    "
   ]
  },
  {
   "cell_type": "code",
   "execution_count": null,
   "metadata": {},
   "outputs": [],
   "source": [
    "fig, ax = plt.subplots(1,3, figsize=(10,5), sharey=True)\n",
    "\n",
    "df_mg_tr = df_readm_train.groupby(\"READMISSION\").size() #/df_readm_train.groupby(\"READMISSION\").size().sum()\n",
    "df_mg_ts = df_readm_test.groupby(\"READMISSION\").size() #/df_readm_test.groupby(\"READMISSION\").size().sum()\n",
    "df_mg_val = df_readm_val.groupby(\"READMISSION\").size() #/df_readm_val.groupby(\"READMISSION\").size().sum()\n",
    "df_mg_tr.plot(ax=ax[0],kind=\"bar\", title=\"Readmissions Train\", rot=0)\n",
    "df_mg_ts.plot(ax=ax[1],kind=\"bar\", title=\"Readmissions Test\", rot=0)\n",
    "df_mg_val.plot(ax=ax[2],kind=\"bar\", title=\"Readmissions Val\", rot=0)\n",
    "plt.tight_layout()"
   ]
  },
  {
   "cell_type": "code",
   "execution_count": null,
   "metadata": {
    "scrolled": false
   },
   "outputs": [],
   "source": [
    "fig, ax = plt.subplots(1,2, figsize=(15,5), sharey=True)\n",
    "df_readm_train.groupby(\"GENDER\").size().plot(kind=\"bar\", rot=0, ax=ax[0])\n",
    "df_readm_test.groupby(\"GENDER\").size().plot(kind=\"bar\", rot=0, ax=ax[1],color=\"r\")\n",
    "plt.tight_layout()"
   ]
  },
  {
   "cell_type": "code",
   "execution_count": null,
   "metadata": {},
   "outputs": [],
   "source": [
    "fig, ax = plt.subplots(1,2, figsize=(15,5), sharey=True)\n",
    "df_readm_train.groupby(\"ETHNICITY_BINARY\").size().plot(kind=\"bar\", rot=0, ax=ax[0])\n",
    "df_readm_test.groupby(\"ETHNICITY_BINARY\").size().plot(kind=\"bar\", rot=0, ax=ax[1],color=\"r\")\n",
    "plt.tight_layout()"
   ]
  },
  {
   "cell_type": "code",
   "execution_count": null,
   "metadata": {
    "scrolled": false
   },
   "outputs": [],
   "source": [
    "fig, ax = plt.subplots(1,2, figsize=(15,5), sharey=True)\n",
    "df_readm_train.groupby(\"ETHNICITY_LABEL\").size().plot(kind=\"bar\", rot=0, ax=ax[0])\n",
    "df_readm_test.groupby(\"ETHNICITY_LABEL\").size().plot(kind=\"bar\", rot=0, ax=ax[1],color=\"r\")\n",
    "plt.tight_layout()"
   ]
  },
  {
   "cell_type": "code",
   "execution_count": null,
   "metadata": {},
   "outputs": [],
   "source": [
    "#subsample majority class (negative)\n",
    "# df_mortality_balanced = subsample(df_mortality,\"EXPIRE\",1, out_data_path+\"/mini_mortality_balanced.csv\")\n"
   ]
  },
  {
   "cell_type": "code",
   "execution_count": null,
   "metadata": {},
   "outputs": [],
   "source": [
    "#subsample majority class (negative)\n",
    "# df_readm_balanced = subsample(df_readm,\"READMISSION\",1, out_data_path+\"/mini_readmissions_balanced.csv\")\n"
   ]
  },
  {
   "cell_type": "code",
   "execution_count": null,
   "metadata": {},
   "outputs": [],
   "source": []
  }
 ],
 "metadata": {
  "kernelspec": {
   "display_name": "Python 3",
   "language": "python",
   "name": "python3"
  },
  "language_info": {
   "codemirror_mode": {
    "name": "ipython",
    "version": 3
   },
   "file_extension": ".py",
   "mimetype": "text/x-python",
   "name": "python",
   "nbconvert_exporter": "python",
   "pygments_lexer": "ipython3",
   "version": "3.6.8"
  }
 },
 "nbformat": 4,
 "nbformat_minor": 2
}
