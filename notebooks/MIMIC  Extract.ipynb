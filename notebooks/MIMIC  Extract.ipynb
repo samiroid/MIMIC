{
 "cells": [
  {
   "cell_type": "code",
   "execution_count": 12,
   "metadata": {},
   "outputs": [
    {
     "name": "stdout",
     "output_type": "stream",
     "text": [
      "The autoreload extension is already loaded. To reload it, use:\n",
      "  %reload_ext autoreload\n"
     ]
    }
   ],
   "source": [
    "import os\n",
    "import pandas as pd\n",
    "import matplotlib.pyplot as plt\n",
    "import numpy as np\n",
    "from sklearn.linear_model import SGDClassifier \n",
    "from sklearn.metrics import f1_score, accuracy_score\n",
    "from sklearn.metrics import precision_recall_fscore_support as score\n",
    "from datetime import datetime\n",
    "\n",
    "import seaborn as sns\n",
    "sns.set(style=\"darkgrid\")\n",
    "#local\n",
    "from tadat.pipeline import plots\n",
    "from tadat.core import data, vectorizer, features, helpers, embeddings\n",
    "\n",
    "%matplotlib inline\n",
    "%load_ext autoreload\n",
    "%autoreload 2"
   ]
  },
  {
   "cell_type": "code",
   "execution_count": 2,
   "metadata": {},
   "outputs": [],
   "source": [
    "def ethnicity_multi_labels(x):\n",
    "    if \"ASIAN\" in x:\n",
    "        return \"ASIAN\"\n",
    "    elif \"AFRICAN\" in x:\n",
    "        return \"BLACK\"\n",
    "    elif \"HISPANIC\" in x:\n",
    "        return \"HISPANIC\"\n",
    "    elif \"WHITE\" in x:\n",
    "        return \"WHITE\"\n",
    "    elif \"NATIVE\" in x:\n",
    "        return \"OTHER\"\n",
    "        return \"NATIVE\"\n",
    "    else:\n",
    "        return \"OTHER\"\n",
    "\n",
    "def ethnicity_binary_labels(x):\n",
    "    if \"ASIAN\" in x or \"AFRICAN\" in x or \"HISPANIC\" in x or \"NATIVE\" in x: \n",
    "        return \"NON-WHITE\"\n",
    "    elif \"WHITE\" in x:\n",
    "        return \"WHITE\"\n",
    "    else:\n",
    "        return \"OTHER\"\n",
    "\n",
    "def get_ethnicity_dataset(df, path_out=None):\n",
    "    df[\"ETHNICITY_LABEL\"] = df[\"ETHNICITY\"].apply(lambda x:ethnicity_binary_labels(x))\n",
    "    df_ethnicity = df[[\"ETHNICITY_LABEL\",\"TEXT\"]]\n",
    "    if path_out:\n",
    "        df_ethnicity.to_csv(path_out,index=False, sep=\"\\t\", header=False)\n",
    "        \n",
    "    return df_ethnicity\n",
    "\n",
    "def get_mortality_dataset(df, path_out=None):\n",
    "    df[\"EXPIRE\"] = df[\"HOSPITAL_EXPIRE_FLAG\"]\n",
    "    df_mortality = df[[\"EXPIRE\",\"TEXT\",\"GENDER\",\"ETHNICITY_LABEL\",\"ETHNICITY_BINARY\"]]\n",
    "    if path_out:\n",
    "        df_mortality.to_csv(path_out,index=False, sep=\"\\t\", header=False)\n",
    "    return df_mortality\n",
    "\n",
    "def get_readmissions_dataset(mimic_path, patients_df, path_out=None):\n",
    "    admissions_df = pd.read_csv(mimic_path+\"ADMISSIONS.CSV.gz\")\n",
    "    data = []\n",
    "    READMISSION_DELTA = float(\"inf\")\n",
    "    for _, patient in patients_df.iterrows():\n",
    "        adm = admissions_df[admissions_df[\"SUBJECT_ID\"] == patient[\"SUBJECT_ID\"]]\n",
    "        if len(adm) > 1:\n",
    "            admission_times = list(adm.sort_values(\"ADMITTIME\")[\"ADMITTIME\"])\n",
    "            for i in range(len(admission_times)-1):\n",
    "                d1 = admission_times[i]\n",
    "                d2 = admission_times[i+1]\n",
    "                d1 = datetime.strptime(d1, \"%Y-%m-%d %H:%M:%S\")\n",
    "                d2 = datetime.strptime(d2, \"%Y-%m-%d %H:%M:%S\")\n",
    "                delta = d2 - d1\n",
    "                if delta.days < READMISSION_DELTA:\n",
    "                    data.append([1,patient[\"TEXT\"],patient[\"GENDER\"]])\n",
    "                    break             \n",
    "        else:\n",
    "            data.append([0,patient[\"TEXT\"],patient[\"GENDER\"], \n",
    "                           patient[\"ETHNICITY_LABEL\"], patient[\"ETHNICITY_BINARY\"]])\n",
    "    readm_df = pd.DataFrame(data, columns=[\"READMISSION\",\"TEXT\",\"GENDER\",\"ETHNICITY_LABEL\",\"ETHNICITY_BINARY\"])\n",
    "    if path_out:\n",
    "        readm_df.to_csv(path_out,index=False, sep=\"\\t\", header=False)    \n",
    "    return readm_df\n",
    "    \n",
    "\n",
    "def extract_patients(mimic_path, sample_size=None, path_out=None):\n",
    "    all_notes = pd.read_csv(mimic_path+\"NOTEEVENTS.CSV.gz\")\n",
    "    all_patients = pd.read_csv(mimic_path+\"PATIENTS.CSV.gz\")\n",
    "    all_admissions = pd.read_csv(mimic_path+\"ADMISSIONS.CSV.gz\")\n",
    "    #filter relevant columns\n",
    "    notes = all_notes[[\"TEXT\"]]\n",
    "    notes[\"TEXT\"] = notes[\"TEXT\"].apply(lambda x: x.replace(\"\\n\",\"\").replace(\"\\t\",\"\").lower())\n",
    "    patients = all_patients[[\"SUBJECT_ID\",\"GENDER\"]]\n",
    "    admissions = all_admissions[[\"INSURANCE\",\"ETHNICITY\",\"HOSPITAL_EXPIRE_FLAG\"]]\n",
    "    #subsample?\n",
    "    if sample_size:        \n",
    "        patients = patients[:sample_size]\n",
    "    #join dataframes\n",
    "    patients = patients.join(admissions, how=\"inner\", on=\"SUBJECT_ID\",rsuffix=\"A_\")\n",
    "    patients = patients.join(notes, how=\"inner\", on=\"SUBJECT_ID\",rsuffix=\"N_\")\n",
    "    patients[\"ETHNICITY_LABEL\"] = patients[\"ETHNICITY\"].apply(lambda x:ethnicity_multi_labels(x))\n",
    "    patients[\"ETHNICITY_BINARY\"] = patients[\"ETHNICITY\"].apply(lambda x:ethnicity_binary_labels(x))\n",
    "    \n",
    "    if path_out:\n",
    "        patients.to_csv(path_out,index=False, sep=\"\\t\", header=False)    \n",
    "    \n",
    "    return patients\n",
    "\n",
    "def subsample(df, label, ratio=1, path_out=None):\n",
    "    minority_size = min(df.groupby(label).size())\n",
    "    minority_class = np.argmin(df.groupby(label).size())\n",
    "    \n",
    "    majority_size = int(minority_size * ratio)\n",
    "    majority_class = np.argmax(df.groupby(label).size())\n",
    "    all_size = minority_size + majority_size\n",
    "  \n",
    "    print(\"{} > Minority: {}/{} | Majority: {}/{}\".format(label, minority_size, all_size,\n",
    "                                                           majority_size,all_size))\n",
    "\n",
    "    df_maj = df[df[label] == majority_class].head(majority_size)\n",
    "    df_min = df[df[label] == minority_class]\n",
    "    df_all = df_min.append(df_maj, ignore_index=True)\n",
    "    if path_out:\n",
    "        df_all.to_csv(path_out,index=False, sep=\"\\t\", header=False)    \n",
    "    return df_all\n",
    "\n",
    "def split_data(df, y_label, split=0.8):\n",
    "    #split into training and test sets\n",
    "    train_split, test_split = data.shuffle_split_idx(df[y_label], split)\n",
    "    df_train = df.iloc[train_split, :]\n",
    "    df_test = df.iloc[test_split, :]\n",
    "    train_split2, val_split = data.shuffle_split_idx(df_train[y_label], split)\n",
    "    df_train2 = df_train.iloc[train_split2, :]\n",
    "    df_val = df_train.iloc[val_split, :]\n",
    "    return df_train2, df_test, df_val\n"
   ]
  },
  {
   "cell_type": "code",
   "execution_count": 3,
   "metadata": {},
   "outputs": [],
   "source": [
    "raw_data_path = \"/Users/samir/Dev/resources/datasets/MIMIC/full/\"\n",
    "out_data_path = \"/Users/samir/Dev/projects/MIMIC/MIMIC/DATA/input/\""
   ]
  },
  {
   "cell_type": "markdown",
   "metadata": {},
   "source": [
    "## Extract Data"
   ]
  },
  {
   "cell_type": "code",
   "execution_count": 5,
   "metadata": {
    "scrolled": true
   },
   "outputs": [
    {
     "name": "stderr",
     "output_type": "stream",
     "text": [
      "/Users/samir/anaconda3/lib/python3.6/site-packages/IPython/core/interactiveshell.py:2903: DtypeWarning: Columns (4,5) have mixed types.Specify dtype option on import or set low_memory=False.\n",
      "  if self.run_code(code, result):\n",
      "/Users/samir/anaconda3/lib/python3.6/site-packages/ipykernel_launcher.py:71: SettingWithCopyWarning: \n",
      "A value is trying to be set on a copy of a slice from a DataFrame.\n",
      "Try using .loc[row_indexer,col_indexer] = value instead\n",
      "\n",
      "See the caveats in the documentation: https://pandas.pydata.org/pandas-docs/stable/user_guide/indexing.html#returning-a-view-versus-a-copy\n"
     ]
    },
    {
     "data": {
      "text/html": [
       "<div>\n",
       "<style scoped>\n",
       "    .dataframe tbody tr th:only-of-type {\n",
       "        vertical-align: middle;\n",
       "    }\n",
       "\n",
       "    .dataframe tbody tr th {\n",
       "        vertical-align: top;\n",
       "    }\n",
       "\n",
       "    .dataframe thead th {\n",
       "        text-align: right;\n",
       "    }\n",
       "</style>\n",
       "<table border=\"1\" class=\"dataframe\">\n",
       "  <thead>\n",
       "    <tr style=\"text-align: right;\">\n",
       "      <th></th>\n",
       "      <th>SUBJECT_ID</th>\n",
       "      <th>GENDER</th>\n",
       "      <th>INSURANCE</th>\n",
       "      <th>ETHNICITY</th>\n",
       "      <th>HOSPITAL_EXPIRE_FLAG</th>\n",
       "      <th>TEXT</th>\n",
       "      <th>ETHNICITY_LABEL</th>\n",
       "      <th>ETHNICITY_BINARY</th>\n",
       "    </tr>\n",
       "  </thead>\n",
       "  <tbody>\n",
       "    <tr>\n",
       "      <th>0</th>\n",
       "      <td>249</td>\n",
       "      <td>F</td>\n",
       "      <td>Medicaid</td>\n",
       "      <td>BLACK/AFRICAN AMERICAN</td>\n",
       "      <td>0</td>\n",
       "      <td>admission date:  [**2149-6-2**]       discharg...</td>\n",
       "      <td>BLACK</td>\n",
       "      <td>NON-WHITE</td>\n",
       "    </tr>\n",
       "    <tr>\n",
       "      <th>1</th>\n",
       "      <td>250</td>\n",
       "      <td>F</td>\n",
       "      <td>Medicare</td>\n",
       "      <td>UNKNOWN/NOT SPECIFIED</td>\n",
       "      <td>0</td>\n",
       "      <td>admission date:  [**2149-9-2**]       discharg...</td>\n",
       "      <td>OTHER</td>\n",
       "      <td>OTHER</td>\n",
       "    </tr>\n",
       "    <tr>\n",
       "      <th>2</th>\n",
       "      <td>251</td>\n",
       "      <td>M</td>\n",
       "      <td>Medicaid</td>\n",
       "      <td>BLACK/AFRICAN AMERICAN</td>\n",
       "      <td>0</td>\n",
       "      <td>admission date:  [**2193-1-8**]              d...</td>\n",
       "      <td>BLACK</td>\n",
       "      <td>NON-WHITE</td>\n",
       "    </tr>\n",
       "    <tr>\n",
       "      <th>3</th>\n",
       "      <td>252</td>\n",
       "      <td>M</td>\n",
       "      <td>Medicare</td>\n",
       "      <td>OTHER</td>\n",
       "      <td>0</td>\n",
       "      <td>admission date:  [**2133-9-3**]              d...</td>\n",
       "      <td>OTHER</td>\n",
       "      <td>OTHER</td>\n",
       "    </tr>\n",
       "    <tr>\n",
       "      <th>4</th>\n",
       "      <td>253</td>\n",
       "      <td>F</td>\n",
       "      <td>Private</td>\n",
       "      <td>HISPANIC OR LATINO</td>\n",
       "      <td>0</td>\n",
       "      <td>admission date:  [**2103-8-16**]     discharge...</td>\n",
       "      <td>HISPANIC</td>\n",
       "      <td>NON-WHITE</td>\n",
       "    </tr>\n",
       "    <tr>\n",
       "      <th>...</th>\n",
       "      <td>...</td>\n",
       "      <td>...</td>\n",
       "      <td>...</td>\n",
       "      <td>...</td>\n",
       "      <td>...</td>\n",
       "      <td>...</td>\n",
       "      <td>...</td>\n",
       "      <td>...</td>\n",
       "    </tr>\n",
       "    <tr>\n",
       "      <th>46515</th>\n",
       "      <td>44089</td>\n",
       "      <td>M</td>\n",
       "      <td>Medicare</td>\n",
       "      <td>UNKNOWN/NOT SPECIFIED</td>\n",
       "      <td>0</td>\n",
       "      <td>admission date:  [**2176-1-21**]       dischar...</td>\n",
       "      <td>OTHER</td>\n",
       "      <td>OTHER</td>\n",
       "    </tr>\n",
       "    <tr>\n",
       "      <th>46516</th>\n",
       "      <td>44115</td>\n",
       "      <td>F</td>\n",
       "      <td>Private</td>\n",
       "      <td>WHITE</td>\n",
       "      <td>0</td>\n",
       "      <td>admission date:  [**2140-6-28**]       dischar...</td>\n",
       "      <td>WHITE</td>\n",
       "      <td>WHITE</td>\n",
       "    </tr>\n",
       "    <tr>\n",
       "      <th>46517</th>\n",
       "      <td>44123</td>\n",
       "      <td>F</td>\n",
       "      <td>Private</td>\n",
       "      <td>WHITE</td>\n",
       "      <td>0</td>\n",
       "      <td>admission date:  [**2116-8-10**]              ...</td>\n",
       "      <td>WHITE</td>\n",
       "      <td>WHITE</td>\n",
       "    </tr>\n",
       "    <tr>\n",
       "      <th>46518</th>\n",
       "      <td>44126</td>\n",
       "      <td>F</td>\n",
       "      <td>Medicare</td>\n",
       "      <td>WHITE</td>\n",
       "      <td>0</td>\n",
       "      <td>admission date:  [**2201-5-26**]              ...</td>\n",
       "      <td>WHITE</td>\n",
       "      <td>WHITE</td>\n",
       "    </tr>\n",
       "    <tr>\n",
       "      <th>46519</th>\n",
       "      <td>44128</td>\n",
       "      <td>M</td>\n",
       "      <td>Medicare</td>\n",
       "      <td>WHITE</td>\n",
       "      <td>1</td>\n",
       "      <td>admission date:  [**2122-6-5**]              d...</td>\n",
       "      <td>WHITE</td>\n",
       "      <td>WHITE</td>\n",
       "    </tr>\n",
       "  </tbody>\n",
       "</table>\n",
       "<p>35832 rows × 8 columns</p>\n",
       "</div>"
      ],
      "text/plain": [
       "       SUBJECT_ID GENDER INSURANCE               ETHNICITY  \\\n",
       "0             249      F  Medicaid  BLACK/AFRICAN AMERICAN   \n",
       "1             250      F  Medicare   UNKNOWN/NOT SPECIFIED   \n",
       "2             251      M  Medicaid  BLACK/AFRICAN AMERICAN   \n",
       "3             252      M  Medicare                   OTHER   \n",
       "4             253      F   Private      HISPANIC OR LATINO   \n",
       "...           ...    ...       ...                     ...   \n",
       "46515       44089      M  Medicare   UNKNOWN/NOT SPECIFIED   \n",
       "46516       44115      F   Private                   WHITE   \n",
       "46517       44123      F   Private                   WHITE   \n",
       "46518       44126      F  Medicare                   WHITE   \n",
       "46519       44128      M  Medicare                   WHITE   \n",
       "\n",
       "       HOSPITAL_EXPIRE_FLAG  \\\n",
       "0                         0   \n",
       "1                         0   \n",
       "2                         0   \n",
       "3                         0   \n",
       "4                         0   \n",
       "...                     ...   \n",
       "46515                     0   \n",
       "46516                     0   \n",
       "46517                     0   \n",
       "46518                     0   \n",
       "46519                     1   \n",
       "\n",
       "                                                    TEXT ETHNICITY_LABEL  \\\n",
       "0      admission date:  [**2149-6-2**]       discharg...           BLACK   \n",
       "1      admission date:  [**2149-9-2**]       discharg...           OTHER   \n",
       "2      admission date:  [**2193-1-8**]              d...           BLACK   \n",
       "3      admission date:  [**2133-9-3**]              d...           OTHER   \n",
       "4      admission date:  [**2103-8-16**]     discharge...        HISPANIC   \n",
       "...                                                  ...             ...   \n",
       "46515  admission date:  [**2176-1-21**]       dischar...           OTHER   \n",
       "46516  admission date:  [**2140-6-28**]       dischar...           WHITE   \n",
       "46517  admission date:  [**2116-8-10**]              ...           WHITE   \n",
       "46518  admission date:  [**2201-5-26**]              ...           WHITE   \n",
       "46519  admission date:  [**2122-6-5**]              d...           WHITE   \n",
       "\n",
       "      ETHNICITY_BINARY  \n",
       "0            NON-WHITE  \n",
       "1                OTHER  \n",
       "2            NON-WHITE  \n",
       "3                OTHER  \n",
       "4            NON-WHITE  \n",
       "...                ...  \n",
       "46515            OTHER  \n",
       "46516            WHITE  \n",
       "46517            WHITE  \n",
       "46518            WHITE  \n",
       "46519            WHITE  \n",
       "\n",
       "[35832 rows x 8 columns]"
      ]
     },
     "execution_count": 5,
     "metadata": {},
     "output_type": "execute_result"
    }
   ],
   "source": [
    "# PATIENT_SAMPLE_SIZE = 20000\n",
    "# mini_patients = extract_patients(raw_data_path, PATIENT_SAMPLE_SIZE,out_data_path+\"mini_patients.csv\")\n",
    "patients = extract_patients(raw_data_path, None,out_data_path+\"patients.csv\")\n",
    "patients\n",
    "# col_names = [\"SUBJECT_ID\",\"GENDER\",\"INSURANCE\",\"ETHNICITY\",\"HOSPITAL_EXPIRE_FLAG\",\"TEXT\",\"ETHNICITY_LABEL\",\"ETHNICITY_BINARY\"]\n",
    "# mini_patients = pd.read_csv(out_data_path+\"mini_patients.csv\", header=None, \n",
    "#                             sep=\"\\t\", names=col_names)\n",
    "# mini_patients"
   ]
  },
  {
   "cell_type": "markdown",
   "metadata": {},
   "source": [
    "## Mortality"
   ]
  },
  {
   "cell_type": "code",
   "execution_count": 6,
   "metadata": {
    "scrolled": true
   },
   "outputs": [
    {
     "data": {
      "text/html": [
       "<div>\n",
       "<style scoped>\n",
       "    .dataframe tbody tr th:only-of-type {\n",
       "        vertical-align: middle;\n",
       "    }\n",
       "\n",
       "    .dataframe tbody tr th {\n",
       "        vertical-align: top;\n",
       "    }\n",
       "\n",
       "    .dataframe thead th {\n",
       "        text-align: right;\n",
       "    }\n",
       "</style>\n",
       "<table border=\"1\" class=\"dataframe\">\n",
       "  <thead>\n",
       "    <tr style=\"text-align: right;\">\n",
       "      <th></th>\n",
       "      <th>EXPIRE</th>\n",
       "      <th>TEXT</th>\n",
       "      <th>GENDER</th>\n",
       "      <th>ETHNICITY_LABEL</th>\n",
       "      <th>ETHNICITY_BINARY</th>\n",
       "    </tr>\n",
       "  </thead>\n",
       "  <tbody>\n",
       "    <tr>\n",
       "      <th>0</th>\n",
       "      <td>0</td>\n",
       "      <td>admission date:  [**2149-6-2**]       discharg...</td>\n",
       "      <td>F</td>\n",
       "      <td>BLACK</td>\n",
       "      <td>NON-WHITE</td>\n",
       "    </tr>\n",
       "    <tr>\n",
       "      <th>1</th>\n",
       "      <td>0</td>\n",
       "      <td>admission date:  [**2149-9-2**]       discharg...</td>\n",
       "      <td>F</td>\n",
       "      <td>OTHER</td>\n",
       "      <td>OTHER</td>\n",
       "    </tr>\n",
       "    <tr>\n",
       "      <th>2</th>\n",
       "      <td>0</td>\n",
       "      <td>admission date:  [**2193-1-8**]              d...</td>\n",
       "      <td>M</td>\n",
       "      <td>BLACK</td>\n",
       "      <td>NON-WHITE</td>\n",
       "    </tr>\n",
       "    <tr>\n",
       "      <th>3</th>\n",
       "      <td>0</td>\n",
       "      <td>admission date:  [**2133-9-3**]              d...</td>\n",
       "      <td>M</td>\n",
       "      <td>OTHER</td>\n",
       "      <td>OTHER</td>\n",
       "    </tr>\n",
       "    <tr>\n",
       "      <th>4</th>\n",
       "      <td>0</td>\n",
       "      <td>admission date:  [**2103-8-16**]     discharge...</td>\n",
       "      <td>F</td>\n",
       "      <td>HISPANIC</td>\n",
       "      <td>NON-WHITE</td>\n",
       "    </tr>\n",
       "    <tr>\n",
       "      <th>...</th>\n",
       "      <td>...</td>\n",
       "      <td>...</td>\n",
       "      <td>...</td>\n",
       "      <td>...</td>\n",
       "      <td>...</td>\n",
       "    </tr>\n",
       "    <tr>\n",
       "      <th>46515</th>\n",
       "      <td>0</td>\n",
       "      <td>admission date:  [**2176-1-21**]       dischar...</td>\n",
       "      <td>M</td>\n",
       "      <td>OTHER</td>\n",
       "      <td>OTHER</td>\n",
       "    </tr>\n",
       "    <tr>\n",
       "      <th>46516</th>\n",
       "      <td>0</td>\n",
       "      <td>admission date:  [**2140-6-28**]       dischar...</td>\n",
       "      <td>F</td>\n",
       "      <td>WHITE</td>\n",
       "      <td>WHITE</td>\n",
       "    </tr>\n",
       "    <tr>\n",
       "      <th>46517</th>\n",
       "      <td>0</td>\n",
       "      <td>admission date:  [**2116-8-10**]              ...</td>\n",
       "      <td>F</td>\n",
       "      <td>WHITE</td>\n",
       "      <td>WHITE</td>\n",
       "    </tr>\n",
       "    <tr>\n",
       "      <th>46518</th>\n",
       "      <td>0</td>\n",
       "      <td>admission date:  [**2201-5-26**]              ...</td>\n",
       "      <td>F</td>\n",
       "      <td>WHITE</td>\n",
       "      <td>WHITE</td>\n",
       "    </tr>\n",
       "    <tr>\n",
       "      <th>46519</th>\n",
       "      <td>1</td>\n",
       "      <td>admission date:  [**2122-6-5**]              d...</td>\n",
       "      <td>M</td>\n",
       "      <td>WHITE</td>\n",
       "      <td>WHITE</td>\n",
       "    </tr>\n",
       "  </tbody>\n",
       "</table>\n",
       "<p>35832 rows × 5 columns</p>\n",
       "</div>"
      ],
      "text/plain": [
       "       EXPIRE                                               TEXT GENDER  \\\n",
       "0           0  admission date:  [**2149-6-2**]       discharg...      F   \n",
       "1           0  admission date:  [**2149-9-2**]       discharg...      F   \n",
       "2           0  admission date:  [**2193-1-8**]              d...      M   \n",
       "3           0  admission date:  [**2133-9-3**]              d...      M   \n",
       "4           0  admission date:  [**2103-8-16**]     discharge...      F   \n",
       "...       ...                                                ...    ...   \n",
       "46515       0  admission date:  [**2176-1-21**]       dischar...      M   \n",
       "46516       0  admission date:  [**2140-6-28**]       dischar...      F   \n",
       "46517       0  admission date:  [**2116-8-10**]              ...      F   \n",
       "46518       0  admission date:  [**2201-5-26**]              ...      F   \n",
       "46519       1  admission date:  [**2122-6-5**]              d...      M   \n",
       "\n",
       "      ETHNICITY_LABEL ETHNICITY_BINARY  \n",
       "0               BLACK        NON-WHITE  \n",
       "1               OTHER            OTHER  \n",
       "2               BLACK        NON-WHITE  \n",
       "3               OTHER            OTHER  \n",
       "4            HISPANIC        NON-WHITE  \n",
       "...               ...              ...  \n",
       "46515           OTHER            OTHER  \n",
       "46516           WHITE            WHITE  \n",
       "46517           WHITE            WHITE  \n",
       "46518           WHITE            WHITE  \n",
       "46519           WHITE            WHITE  \n",
       "\n",
       "[35832 rows x 5 columns]"
      ]
     },
     "execution_count": 6,
     "metadata": {},
     "output_type": "execute_result"
    }
   ],
   "source": [
    "# df_mortality = get_mortality_dataset(mini_patients, out_data_path+\"mini_mortality.csv\")\n",
    "df_mortality = get_mortality_dataset(patients)\n",
    "df_mortality"
   ]
  },
  {
   "cell_type": "code",
   "execution_count": 11,
   "metadata": {
    "scrolled": false
   },
   "outputs": [
    {
     "data": {
      "image/png": "[encoded data removed]",
      "text/plain": [
       "<Figure size 720x360 with 1 Axes>"
      ]
     },
     "metadata": {},
     "output_type": "display_data"
    }
   ],
   "source": [
    "fig, ax = plt.subplots(1,1, figsize=(10,5))\n",
    "\n",
    "df_mg = df_mortality.groupby(\"EXPIRE\").size()/df_mortality.groupby(\"EXPIRE\").size().sum()\n",
    "df_mg.plot(ax=ax,kind=\"bar\", title=\"Hospital Deaths\", rot=0)\n",
    "plt.tight_layout()"
   ]
  },
  {
   "cell_type": "code",
   "execution_count": 12,
   "metadata": {
    "scrolled": false
   },
   "outputs": [
    {
     "data": {
      "text/plain": [
       "<matplotlib.axes._subplots.AxesSubplot at 0x7fb6e8896cc0>"
      ]
     },
     "execution_count": 12,
     "metadata": {},
     "output_type": "execute_result"
    },
    {
     "data": {
      "image/png": "[encoded data removed]",
      "text/plain": [
       "<Figure size 432x288 with 1 Axes>"
      ]
     },
     "metadata": {},
     "output_type": "display_data"
    }
   ],
   "source": [
    "df_mortality.groupby(\"GENDER\").size().plot(kind=\"bar\", rot=0)"
   ]
  },
  {
   "cell_type": "code",
   "execution_count": 13,
   "metadata": {},
   "outputs": [
    {
     "data": {
      "text/plain": [
       "<matplotlib.axes._subplots.AxesSubplot at 0x7fb49f57c240>"
      ]
     },
     "execution_count": 13,
     "metadata": {},
     "output_type": "execute_result"
    },
    {
     "data": {
      "image/png": "[encoded data removed]",
      "text/plain": [
       "<Figure size 432x288 with 1 Axes>"
      ]
     },
     "metadata": {},
     "output_type": "display_data"
    }
   ],
   "source": [
    "df_mortality.groupby(\"ETHNICITY_BINARY\").size().plot(kind=\"bar\", rot=0)"
   ]
  },
  {
   "cell_type": "code",
   "execution_count": 14,
   "metadata": {
    "scrolled": true
   },
   "outputs": [
    {
     "data": {
      "text/plain": [
       "<matplotlib.axes._subplots.AxesSubplot at 0x7fb5cb7bbfd0>"
      ]
     },
     "execution_count": 14,
     "metadata": {},
     "output_type": "execute_result"
    },
    {
     "data": {
      "image/png": "[encoded data removed]",
      "text/plain": [
       "<Figure size 432x288 with 1 Axes>"
      ]
     },
     "metadata": {},
     "output_type": "display_data"
    }
   ],
   "source": [
    "df_mortality.groupby(\"ETHNICITY_LABEL\").size().plot(kind=\"bar\", rot=0)"
   ]
  },
  {
   "cell_type": "markdown",
   "metadata": {},
   "source": [
    "## Split Data"
   ]
  },
  {
   "cell_type": "code",
   "execution_count": 49,
   "metadata": {},
   "outputs": [],
   "source": [
    "SAMPLE=5000\n",
    "df_mortality_train, df_mortality_test, df_mortality_val = split_data(df_mortality.head(SAMPLE), \"EXPIRE\")\n",
    "\n",
    "df_mortality_train.to_csv(out_data_path+\"mini_mortality_train.csv\",index=False, sep=\"\\t\", header=True)    \n",
    "df_mortality_test.to_csv(out_data_path+\"mini_mortality_test.csv\",index=False, sep=\"\\t\", header=True)    \n",
    "df_mortality_val.to_csv(out_data_path+\"mini_mortality_val.csv\",index=False, sep=\"\\t\", header=True)    "
   ]
  },
  {
   "cell_type": "code",
   "execution_count": 46,
   "metadata": {},
   "outputs": [],
   "source": [
    "df_mortality_train, df_mortality_test, df_mortality_val = split_data(df_mortality, \"EXPIRE\")\n",
    "\n",
    "df_mortality_train.to_csv(out_data_path+\"mortality_train.csv\",index=False, sep=\"\\t\", header=True)    \n",
    "df_mortality_test.to_csv(out_data_path+\"mortality_test.csv\",index=False, sep=\"\\t\", header=True)    \n",
    "df_mortality_val.to_csv(out_data_path+\"mortality_val.csv\",index=False, sep=\"\\t\", header=True)    "
   ]
  },
  {
   "cell_type": "code",
   "execution_count": 40,
   "metadata": {},
   "outputs": [
    {
     "data": {
      "image/png": "[encoded data removed]",
      "text/plain": [
       "<Figure size 720x360 with 3 Axes>"
      ]
     },
     "metadata": {},
     "output_type": "display_data"
    }
   ],
   "source": [
    "fig, ax = plt.subplots(1,3, figsize=(10,5), sharey=True)\n",
    "\n",
    "df_mg_tr = df_mortality_train.groupby(\"EXPIRE\").size()/df_mortality_train.groupby(\"EXPIRE\").size().sum()\n",
    "df_mg_ts = df_mortality_test.groupby(\"EXPIRE\").size()/df_mortality_test.groupby(\"EXPIRE\").size().sum()\n",
    "df_mg_val = df_mortality_val.groupby(\"EXPIRE\").size()/df_mortality_val.groupby(\"EXPIRE\").size().sum()\n",
    "df_mg_tr.plot(ax=ax[0],kind=\"bar\", title=\"Hospital Deaths Train\", rot=0)\n",
    "df_mg_ts.plot(ax=ax[1],kind=\"bar\", title=\"Hospital Deaths Test\", rot=0)\n",
    "df_mg_val.plot(ax=ax[2],kind=\"bar\", title=\"Hospital Deaths Val\", rot=0)\n",
    "plt.tight_layout()"
   ]
  },
  {
   "cell_type": "code",
   "execution_count": 20,
   "metadata": {},
   "outputs": [
    {
     "data": {
      "image/png": "[encoded data removed]",
      "text/plain": [
       "<Figure size 1080x360 with 2 Axes>"
      ]
     },
     "metadata": {},
     "output_type": "display_data"
    }
   ],
   "source": [
    "fig, ax = plt.subplots(1,2, figsize=(15,5))\n",
    "df_mortality_train.groupby(\"GENDER\").size().plot(kind=\"bar\", rot=0, ax=ax[0])\n",
    "df_mortality_test.groupby(\"GENDER\").size().plot(kind=\"bar\", rot=0, ax=ax[1],color=\"r\")\n",
    "plt.tight_layout()"
   ]
  },
  {
   "cell_type": "code",
   "execution_count": 18,
   "metadata": {},
   "outputs": [
    {
     "data": {
      "image/png": "[encoded data removed]",
      "text/plain": [
       "<Figure size 1080x360 with 2 Axes>"
      ]
     },
     "metadata": {},
     "output_type": "display_data"
    }
   ],
   "source": [
    "fig, ax = plt.subplots(1,2, figsize=(15,5))\n",
    "df_mortality_train.groupby(\"ETHNICITY_BINARY\").size().plot(kind=\"bar\", rot=0, ax=ax[0])\n",
    "df_mortality_test.groupby(\"ETHNICITY_BINARY\").size().plot(kind=\"bar\", rot=0, ax=ax[1],color=\"r\")\n",
    "plt.tight_layout()"
   ]
  },
  {
   "cell_type": "code",
   "execution_count": 19,
   "metadata": {
    "scrolled": false
   },
   "outputs": [
    {
     "data": {
      "image/png": "[encoded data removed]",
      "text/plain": [
       "<Figure size 1080x360 with 2 Axes>"
      ]
     },
     "metadata": {},
     "output_type": "display_data"
    }
   ],
   "source": [
    "fig, ax = plt.subplots(1,2, figsize=(15,5))\n",
    "df_mortality_train.groupby(\"ETHNICITY_LABEL\").size().plot(kind=\"bar\", rot=0, ax=ax[0])\n",
    "df_mortality_test.groupby(\"ETHNICITY_LABEL\").size().plot(kind=\"bar\", rot=0, ax=ax[1],color=\"r\")\n",
    "plt.tight_layout()"
   ]
  },
  {
   "cell_type": "markdown",
   "metadata": {},
   "source": [
    "## Readmissions"
   ]
  },
  {
   "cell_type": "code",
   "execution_count": 21,
   "metadata": {
    "scrolled": false
   },
   "outputs": [
    {
     "data": {
      "text/html": [
       "<div>\n",
       "<style scoped>\n",
       "    .dataframe tbody tr th:only-of-type {\n",
       "        vertical-align: middle;\n",
       "    }\n",
       "\n",
       "    .dataframe tbody tr th {\n",
       "        vertical-align: top;\n",
       "    }\n",
       "\n",
       "    .dataframe thead th {\n",
       "        text-align: right;\n",
       "    }\n",
       "</style>\n",
       "<table border=\"1\" class=\"dataframe\">\n",
       "  <thead>\n",
       "    <tr style=\"text-align: right;\">\n",
       "      <th></th>\n",
       "      <th>READMISSION</th>\n",
       "      <th>TEXT</th>\n",
       "      <th>GENDER</th>\n",
       "      <th>ETHNICITY_LABEL</th>\n",
       "      <th>ETHNICITY_BINARY</th>\n",
       "    </tr>\n",
       "  </thead>\n",
       "  <tbody>\n",
       "    <tr>\n",
       "      <th>0</th>\n",
       "      <td>1</td>\n",
       "      <td>admission date:  [**2149-6-2**]       discharg...</td>\n",
       "      <td>F</td>\n",
       "      <td>None</td>\n",
       "      <td>None</td>\n",
       "    </tr>\n",
       "    <tr>\n",
       "      <th>1</th>\n",
       "      <td>0</td>\n",
       "      <td>admission date:  [**2149-9-2**]       discharg...</td>\n",
       "      <td>F</td>\n",
       "      <td>OTHER</td>\n",
       "      <td>OTHER</td>\n",
       "    </tr>\n",
       "    <tr>\n",
       "      <th>2</th>\n",
       "      <td>0</td>\n",
       "      <td>admission date:  [**2193-1-8**]              d...</td>\n",
       "      <td>M</td>\n",
       "      <td>BLACK</td>\n",
       "      <td>NON-WHITE</td>\n",
       "    </tr>\n",
       "    <tr>\n",
       "      <th>3</th>\n",
       "      <td>1</td>\n",
       "      <td>admission date:  [**2133-9-3**]              d...</td>\n",
       "      <td>M</td>\n",
       "      <td>None</td>\n",
       "      <td>None</td>\n",
       "    </tr>\n",
       "    <tr>\n",
       "      <th>4</th>\n",
       "      <td>0</td>\n",
       "      <td>admission date:  [**2103-8-16**]     discharge...</td>\n",
       "      <td>F</td>\n",
       "      <td>HISPANIC</td>\n",
       "      <td>NON-WHITE</td>\n",
       "    </tr>\n",
       "    <tr>\n",
       "      <th>...</th>\n",
       "      <td>...</td>\n",
       "      <td>...</td>\n",
       "      <td>...</td>\n",
       "      <td>...</td>\n",
       "      <td>...</td>\n",
       "    </tr>\n",
       "    <tr>\n",
       "      <th>35827</th>\n",
       "      <td>0</td>\n",
       "      <td>admission date:  [**2176-1-21**]       dischar...</td>\n",
       "      <td>M</td>\n",
       "      <td>OTHER</td>\n",
       "      <td>OTHER</td>\n",
       "    </tr>\n",
       "    <tr>\n",
       "      <th>35828</th>\n",
       "      <td>0</td>\n",
       "      <td>admission date:  [**2140-6-28**]       dischar...</td>\n",
       "      <td>F</td>\n",
       "      <td>WHITE</td>\n",
       "      <td>WHITE</td>\n",
       "    </tr>\n",
       "    <tr>\n",
       "      <th>35829</th>\n",
       "      <td>0</td>\n",
       "      <td>admission date:  [**2116-8-10**]              ...</td>\n",
       "      <td>F</td>\n",
       "      <td>WHITE</td>\n",
       "      <td>WHITE</td>\n",
       "    </tr>\n",
       "    <tr>\n",
       "      <th>35830</th>\n",
       "      <td>0</td>\n",
       "      <td>admission date:  [**2201-5-26**]              ...</td>\n",
       "      <td>F</td>\n",
       "      <td>WHITE</td>\n",
       "      <td>WHITE</td>\n",
       "    </tr>\n",
       "    <tr>\n",
       "      <th>35831</th>\n",
       "      <td>0</td>\n",
       "      <td>admission date:  [**2122-6-5**]              d...</td>\n",
       "      <td>M</td>\n",
       "      <td>WHITE</td>\n",
       "      <td>WHITE</td>\n",
       "    </tr>\n",
       "  </tbody>\n",
       "</table>\n",
       "<p>35832 rows × 5 columns</p>\n",
       "</div>"
      ],
      "text/plain": [
       "       READMISSION                                               TEXT GENDER  \\\n",
       "0                1  admission date:  [**2149-6-2**]       discharg...      F   \n",
       "1                0  admission date:  [**2149-9-2**]       discharg...      F   \n",
       "2                0  admission date:  [**2193-1-8**]              d...      M   \n",
       "3                1  admission date:  [**2133-9-3**]              d...      M   \n",
       "4                0  admission date:  [**2103-8-16**]     discharge...      F   \n",
       "...            ...                                                ...    ...   \n",
       "35827            0  admission date:  [**2176-1-21**]       dischar...      M   \n",
       "35828            0  admission date:  [**2140-6-28**]       dischar...      F   \n",
       "35829            0  admission date:  [**2116-8-10**]              ...      F   \n",
       "35830            0  admission date:  [**2201-5-26**]              ...      F   \n",
       "35831            0  admission date:  [**2122-6-5**]              d...      M   \n",
       "\n",
       "      ETHNICITY_LABEL ETHNICITY_BINARY  \n",
       "0                None             None  \n",
       "1               OTHER            OTHER  \n",
       "2               BLACK        NON-WHITE  \n",
       "3                None             None  \n",
       "4            HISPANIC        NON-WHITE  \n",
       "...               ...              ...  \n",
       "35827           OTHER            OTHER  \n",
       "35828           WHITE            WHITE  \n",
       "35829           WHITE            WHITE  \n",
       "35830           WHITE            WHITE  \n",
       "35831           WHITE            WHITE  \n",
       "\n",
       "[35832 rows x 5 columns]"
      ]
     },
     "execution_count": 21,
     "metadata": {},
     "output_type": "execute_result"
    }
   ],
   "source": [
    "mimic_path = \"/Users/samir/Dev/resources/datasets/MIMIC/full/\"\n",
    "# df_readm = get_readmissions_dataset(mimic_path, mini_patients, path_out=out_data_path+\"/mini_readmissions.csv\")\n",
    "df_readm = get_readmissions_dataset(mimic_path, patients, path_out=out_data_path+\"/readmissions.csv\")\n",
    "df_readm"
   ]
  },
  {
   "cell_type": "code",
   "execution_count": 26,
   "metadata": {
    "scrolled": false
   },
   "outputs": [
    {
     "data": {
      "image/png": "[encoded data removed]",
      "text/plain": [
       "<Figure size 720x360 with 1 Axes>"
      ]
     },
     "metadata": {},
     "output_type": "display_data"
    }
   ],
   "source": [
    "fig, ax = plt.subplots(1,1, figsize=(10,5))\n",
    "\n",
    "df_rg = df_readm.groupby(\"READMISSION\").size()/df_readm.groupby(\"READMISSION\").size().sum()\n",
    "df_rg.plot(ax=ax,kind=\"bar\", title=\"Readmissions\", rot=0)\n",
    "plt.tight_layout()"
   ]
  },
  {
   "cell_type": "code",
   "execution_count": 27,
   "metadata": {
    "scrolled": false
   },
   "outputs": [
    {
     "data": {
      "text/plain": [
       "<matplotlib.axes._subplots.AxesSubplot at 0x7fa3e76d9550>"
      ]
     },
     "execution_count": 27,
     "metadata": {},
     "output_type": "execute_result"
    },
    {
     "data": {
      "image/png": "[encoded data removed]",
      "text/plain": [
       "<Figure size 432x288 with 1 Axes>"
      ]
     },
     "metadata": {},
     "output_type": "display_data"
    }
   ],
   "source": [
    "df_readm.groupby(\"GENDER\").size().plot(kind=\"bar\", rot=0)"
   ]
  },
  {
   "cell_type": "code",
   "execution_count": 28,
   "metadata": {},
   "outputs": [
    {
     "data": {
      "text/plain": [
       "<matplotlib.axes._subplots.AxesSubplot at 0x7fa4f9384518>"
      ]
     },
     "execution_count": 28,
     "metadata": {},
     "output_type": "execute_result"
    },
    {
     "data": {
      "image/png": "[encoded data removed]",
      "text/plain": [
       "<Figure size 432x288 with 1 Axes>"
      ]
     },
     "metadata": {},
     "output_type": "display_data"
    }
   ],
   "source": [
    "df_readm.groupby(\"ETHNICITY_BINARY\").size().plot(kind=\"bar\", rot=0)"
   ]
  },
  {
   "cell_type": "code",
   "execution_count": 29,
   "metadata": {
    "scrolled": true
   },
   "outputs": [
    {
     "data": {
      "text/plain": [
       "<matplotlib.axes._subplots.AxesSubplot at 0x7fa3e76ef6a0>"
      ]
     },
     "execution_count": 29,
     "metadata": {},
     "output_type": "execute_result"
    },
    {
     "data": {
      "image/png": "[encoded data removed]",
      "text/plain": [
       "<Figure size 432x288 with 1 Axes>"
      ]
     },
     "metadata": {},
     "output_type": "display_data"
    }
   ],
   "source": [
    "df_readm.groupby(\"ETHNICITY_LABEL\").size().plot(kind=\"bar\", rot=0)"
   ]
  },
  {
   "cell_type": "markdown",
   "metadata": {},
   "source": [
    "## Split Data"
   ]
  },
  {
   "cell_type": "code",
   "execution_count": 44,
   "metadata": {},
   "outputs": [],
   "source": [
    "df_readm_train, df_readm_test, df_readm_val = split_data(df_readm, \"READMISSION\")\n",
    "\n",
    "df_readm_train.to_csv(out_data_path+\"readmissions_train.csv\",index=False, sep=\"\\t\", header=True)    \n",
    "df_readm_test.to_csv(out_data_path+\"readmissions_test.csv\",index=False, sep=\"\\t\", header=True)    \n",
    "df_readm_val.to_csv(out_data_path+\"readmissions_val.csv\",index=False, sep=\"\\t\", header=True)    "
   ]
  },
  {
   "cell_type": "code",
   "execution_count": 50,
   "metadata": {},
   "outputs": [],
   "source": [
    "SAMPLE=5000\n",
    "df_readm_train, df_readm_test, df_readm_val = split_data(df_readm.head(SAMPLE), \"READMISSION\")\n",
    "\n",
    "df_readm_train.to_csv(out_data_path+\"mini_readmissions_train.csv\",index=False, sep=\"\\t\", header=True)    \n",
    "df_readm_test.to_csv(out_data_path+\"mini_readmissions_test.csv\",index=False, sep=\"\\t\", header=True)    \n",
    "df_readm_val.to_csv(out_data_path+\"mini_readmissions_val.csv\",index=False, sep=\"\\t\", header=True)    "
   ]
  },
  {
   "cell_type": "code",
   "execution_count": 42,
   "metadata": {},
   "outputs": [
    {
     "data": {
      "image/png": "[encoded data removed]",
      "text/plain": [
       "<Figure size 720x360 with 3 Axes>"
      ]
     },
     "metadata": {},
     "output_type": "display_data"
    }
   ],
   "source": [
    "fig, ax = plt.subplots(1,3, figsize=(10,5), sharey=True)\n",
    "\n",
    "df_mg_tr = df_readm_train.groupby(\"READMISSION\").size() #/df_readm_train.groupby(\"READMISSION\").size().sum()\n",
    "df_mg_ts = df_readm_test.groupby(\"READMISSION\").size() #/df_readm_test.groupby(\"READMISSION\").size().sum()\n",
    "df_mg_val = df_readm_val.groupby(\"READMISSION\").size() #/df_readm_val.groupby(\"READMISSION\").size().sum()\n",
    "df_mg_tr.plot(ax=ax[0],kind=\"bar\", title=\"Readmissions Train\", rot=0)\n",
    "df_mg_ts.plot(ax=ax[1],kind=\"bar\", title=\"Readmissions Test\", rot=0)\n",
    "df_mg_val.plot(ax=ax[2],kind=\"bar\", title=\"Readmissions Val\", rot=0)\n",
    "plt.tight_layout()"
   ]
  },
  {
   "cell_type": "code",
   "execution_count": 36,
   "metadata": {
    "scrolled": false
   },
   "outputs": [
    {
     "data": {
      "image/png": "[encoded data removed]",
      "text/plain": [
       "<Figure size 1080x360 with 2 Axes>"
      ]
     },
     "metadata": {},
     "output_type": "display_data"
    }
   ],
   "source": [
    "fig, ax = plt.subplots(1,2, figsize=(15,5), sharey=True)\n",
    "df_readm_train.groupby(\"GENDER\").size().plot(kind=\"bar\", rot=0, ax=ax[0])\n",
    "df_readm_test.groupby(\"GENDER\").size().plot(kind=\"bar\", rot=0, ax=ax[1],color=\"r\")\n",
    "plt.tight_layout()"
   ]
  },
  {
   "cell_type": "code",
   "execution_count": 37,
   "metadata": {},
   "outputs": [
    {
     "data": {
      "image/png": "[encoded data removed]",
      "text/plain": [
       "<Figure size 1080x360 with 2 Axes>"
      ]
     },
     "metadata": {},
     "output_type": "display_data"
    }
   ],
   "source": [
    "fig, ax = plt.subplots(1,2, figsize=(15,5), sharey=True)\n",
    "df_readm_train.groupby(\"ETHNICITY_BINARY\").size().plot(kind=\"bar\", rot=0, ax=ax[0])\n",
    "df_readm_test.groupby(\"ETHNICITY_BINARY\").size().plot(kind=\"bar\", rot=0, ax=ax[1],color=\"r\")\n",
    "plt.tight_layout()"
   ]
  },
  {
   "cell_type": "code",
   "execution_count": 38,
   "metadata": {
    "scrolled": false
   },
   "outputs": [
    {
     "data": {
      "image/png": "[encoded data removed]",
      "text/plain": [
       "<Figure size 1080x360 with 2 Axes>"
      ]
     },
     "metadata": {},
     "output_type": "display_data"
    }
   ],
   "source": [
    "fig, ax = plt.subplots(1,2, figsize=(15,5), sharey=True)\n",
    "df_readm_train.groupby(\"ETHNICITY_LABEL\").size().plot(kind=\"bar\", rot=0, ax=ax[0])\n",
    "df_readm_test.groupby(\"ETHNICITY_LABEL\").size().plot(kind=\"bar\", rot=0, ax=ax[1],color=\"r\")\n",
    "plt.tight_layout()"
   ]
  },
  {
   "cell_type": "code",
   "execution_count": 15,
   "metadata": {},
   "outputs": [],
   "source": [
    "#subsample majority class (negative)\n",
    "# df_mortality_balanced = subsample(df_mortality,\"EXPIRE\",1, out_data_path+\"/mini_mortality_balanced.csv\")\n"
   ]
  },
  {
   "cell_type": "code",
   "execution_count": 23,
   "metadata": {},
   "outputs": [],
   "source": [
    "#subsample majority class (negative)\n",
    "# df_readm_balanced = subsample(df_readm,\"READMISSION\",1, out_data_path+\"/mini_readmissions_balanced.csv\")\n"
   ]
  },
  {
   "cell_type": "code",
   "execution_count": null,
   "metadata": {},
   "outputs": [],
   "source": []
  }
 ],
 "metadata": {
  "kernelspec": {
   "display_name": "Python 3",
   "language": "python",
   "name": "python3"
  },
  "language_info": {
   "codemirror_mode": {
    "name": "ipython",
    "version": 3
   },
   "file_extension": ".py",
   "mimetype": "text/x-python",
   "name": "python",
   "nbconvert_exporter": "python",
   "pygments_lexer": "ipython3",
   "version": "3.6.8"
  }
 },
 "nbformat": 4,
 "nbformat_minor": 2
}
