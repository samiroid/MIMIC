{
 "cells": [
  {
   "cell_type": "code",
   "execution_count": 1,
   "metadata": {},
   "outputs": [],
   "source": [
    "import pandas as pd\n",
    "import matplotlib.pyplot as plt\n",
    "import numpy as np\n",
    "%matplotlib inline"
   ]
  },
  {
   "cell_type": "code",
   "execution_count": 2,
   "metadata": {},
   "outputs": [],
   "source": [
    "def wide_labels(x):\n",
    "    if \"ASIAN\" in x:\n",
    "        return \"ASIAN\"\n",
    "    elif \"AFRICAN\" in x:\n",
    "        return \"BLACK\"\n",
    "    elif \"HISPANIC\" in x:\n",
    "        return \"HISPANIC\"\n",
    "    elif \"WHITE\" in x:\n",
    "        return \"WHITE\"\n",
    "    elif \"NATIVE\" in x:\n",
    "        return \"NATIVE\"\n",
    "    else:\n",
    "        return \"OTHER\"\n",
    "\n",
    "def narrow_labels(x):\n",
    "    if \"ASIAN\" in x or \"AFRICAN\" in x or \"HISPANIC\" in x or \"NATIVE\" in x: \n",
    "        return \"NON-WHITE\"\n",
    "    elif \"WHITE\" in x:\n",
    "        return \"WHITE\"\n",
    "    else:\n",
    "        return \"OTHER\"\n",
    "\n",
    "def get_ethnicity_labels(df, label_translation):\n",
    "    df[\"ETHNICITY_LABEL\"] = df[\"ETHNICITY\"].apply(lambda x:label_translation(x))\n",
    "    return df\n",
    "    \n",
    "def save_ethnicity_dataset(df, path_out, label_translation=None):\n",
    "    if label_translation:\n",
    "        df = get_ethnicity_labels(df, label_translation)\n",
    "    df_ethnicity = df[[\"ETHNICITY_LABEL\",\"TEXT\"]]\n",
    "    df_ethnicity[\"TEXT\"] = df_ethnicity[\"TEXT\"].apply(lambda x: x.replace(\"\\n\",\"\").replace(\"\\t\",\"\").lower())\n",
    "    df_ethnicity.to_csv(path_out,index=False, sep=\"\\t\", header=False)\n",
    "    "
   ]
  },
  {
   "cell_type": "markdown",
   "metadata": {},
   "source": [
    "## Read Data"
   ]
  },
  {
   "cell_type": "code",
   "execution_count": 3,
   "metadata": {
    "scrolled": true
   },
   "outputs": [
    {
     "name": "stderr",
     "output_type": "stream",
     "text": [
      "/Users/samir/anaconda3/lib/python3.6/site-packages/IPython/core/interactiveshell.py:2785: DtypeWarning: Columns (4,5) have mixed types. Specify dtype option on import or set low_memory=False.\n",
      "  interactivity=interactivity, compiler=compiler, result=result)\n"
     ]
    }
   ],
   "source": [
    "#read data\n",
    "raw_data_path = \"/Users/samir/Dev/resources/datasets/MIMIC/full/\"\n",
    "out_data_path = \"/Users/samir/Dev/projects/TADAT/experiments/MIMIC/DATA/input/\"\n",
    "\n",
    "NOTEEVENTS = raw_data_path+\"NOTEEVENTS.CSV.gz\"\n",
    "all_notes = pd.read_csv(NOTEEVENTS)\n",
    "\n",
    "PATIENTS = raw_data_path+\"PATIENTS.CSV.gz\"\n",
    "all_patients = pd.read_csv(PATIENTS)\n",
    "\n",
    "ADMISSIONS = raw_data_path+\"ADMISSIONS.CSV.gz\"\n",
    "all_admissions = pd.read_csv(ADMISSIONS)\n",
    "\n",
    "#filter relevant columns\n",
    "notes = all_notes[[\"TEXT\"]]\n",
    "patients = all_patients[[\"SUBJECT_ID\",\"GENDER\"]]\n",
    "admissions = all_admissions[[\"INSURANCE\",\"LANGUAGE\",\"RELIGION\",\"ETHNICITY\"]]"
   ]
  },
  {
   "cell_type": "code",
   "execution_count": 4,
   "metadata": {
    "scrolled": true
   },
   "outputs": [],
   "source": [
    "#small sample\n",
    "PATIENT_SAMPLE_SIZE = 3000\n",
    "mini_patients = patients[:PATIENT_SAMPLE_SIZE]\n",
    "mini_patients = mini_patients.join(admissions, how=\"inner\", on=\"SUBJECT_ID\",rsuffix=\"A_\")\n",
    "mini_patients = mini_patients.join(notes, how=\"inner\", on=\"SUBJECT_ID\",rsuffix=\"N_\")\n"
   ]
  },
  {
   "cell_type": "code",
   "execution_count": 5,
   "metadata": {},
   "outputs": [
    {
     "data": {
      "text/plain": [
       "<matplotlib.axes._subplots.AxesSubplot at 0x7f9a31b87fd0>"
      ]
     },
     "execution_count": 5,
     "metadata": {},
     "output_type": "execute_result"
    },
    {
     "data": {
      "image/png": "[encoded data removed]",
      "text/plain": [
       "<Figure size 432x288 with 1 Axes>"
      ]
     },
     "metadata": {},
     "output_type": "display_data"
    }
   ],
   "source": [
    "df = get_ethnicity_labels(mini_patients, wide_labels)\n",
    "df2 = df.groupby(\"ETHNICITY_LABEL\").size()/df.groupby(\"ETHNICITY_LABEL\").size().sum()\n",
    "df2.plot(kind=\"bar\", title=\"All Ethinicities\")"
   ]
  },
  {
   "cell_type": "code",
   "execution_count": 6,
   "metadata": {},
   "outputs": [
    {
     "data": {
      "text/plain": [
       "<matplotlib.axes._subplots.AxesSubplot at 0x7f9a323694e0>"
      ]
     },
     "execution_count": 6,
     "metadata": {},
     "output_type": "execute_result"
    },
    {
     "data": {
      "image/png": "[encoded data removed]",
      "text/plain": [
       "<Figure size 432x288 with 1 Axes>"
      ]
     },
     "metadata": {},
     "output_type": "display_data"
    }
   ],
   "source": [
    "df = get_ethnicity_labels(mini_patients, narrow_labels)\n",
    "df2 = df.groupby(\"ETHNICITY_LABEL\").size()/df.groupby(\"ETHNICITY_LABEL\").size().sum()\n",
    "df2.plot(kind=\"bar\", title=\"White vs Non-White\")"
   ]
  },
  {
   "cell_type": "code",
   "execution_count": 7,
   "metadata": {},
   "outputs": [
    {
     "name": "stderr",
     "output_type": "stream",
     "text": [
      "/Users/samir/anaconda3/lib/python3.6/site-packages/ipykernel_launcher.py:31: SettingWithCopyWarning: \n",
      "A value is trying to be set on a copy of a slice from a DataFrame.\n",
      "Try using .loc[row_indexer,col_indexer] = value instead\n",
      "\n",
      "See the caveats in the documentation: http://pandas.pydata.org/pandas-docs/stable/indexing.html#indexing-view-versus-copy\n"
     ]
    }
   ],
   "source": [
    "save_ethnicity_dataset(mini_patients, out_data_path+\"mini_ethnicity.csv\",narrow_labels)"
   ]
  },
  {
   "cell_type": "code",
   "execution_count": 38,
   "metadata": {
    "scrolled": true
   },
   "outputs": [],
   "source": [
    "#full sample\n",
    "patients = patients.join(admissions, how=\"inner\", on=\"SUBJECT_ID\",rsuffix=\"A_\")\n",
    "patients = patients.join(notes, how=\"inner\", on=\"SUBJECT_ID\",rsuffix=\"N_\")\n"
   ]
  },
  {
   "cell_type": "code",
   "execution_count": 39,
   "metadata": {},
   "outputs": [
    {
     "data": {
      "text/plain": [
       "<matplotlib.axes._subplots.AxesSubplot at 0x7fe3961909b0>"
      ]
     },
     "execution_count": 39,
     "metadata": {},
     "output_type": "execute_result"
    },
    {
     "data": {
      "image/png": "[encoded data removed]",
      "text/plain": [
       "<Figure size 432x288 with 1 Axes>"
      ]
     },
     "metadata": {},
     "output_type": "display_data"
    }
   ],
   "source": [
    "df = get_ethnicity_labels(patients, wide_labels)\n",
    "df2 = df.groupby(\"ETHNICITY_LABEL\").size()/df.groupby(\"ETHNICITY_LABEL\").size().sum()\n",
    "df2.plot(kind=\"bar\", title=\"All Ethnicities\")"
   ]
  },
  {
   "cell_type": "code",
   "execution_count": 40,
   "metadata": {},
   "outputs": [
    {
     "data": {
      "text/plain": [
       "<matplotlib.axes._subplots.AxesSubplot at 0x7fe3767516d8>"
      ]
     },
     "execution_count": 40,
     "metadata": {},
     "output_type": "execute_result"
    },
    {
     "data": {
      "image/png": "[encoded data removed]",
      "text/plain": [
       "<Figure size 432x288 with 1 Axes>"
      ]
     },
     "metadata": {},
     "output_type": "display_data"
    }
   ],
   "source": [
    "df = get_ethnicity_labels(patients, narrow_labels)\n",
    "df2 = df.groupby(\"ETHNICITY_LABEL\").size()/df.groupby(\"ETHNICITY_LABEL\").size().sum()\n",
    "df2.plot(kind=\"bar\", title=\"White vs Non-White\")"
   ]
  },
  {
   "cell_type": "code",
   "execution_count": 43,
   "metadata": {},
   "outputs": [
    {
     "name": "stderr",
     "output_type": "stream",
     "text": [
      "/Users/samir/anaconda3/lib/python3.6/site-packages/ipykernel_launcher.py:31: SettingWithCopyWarning: \n",
      "A value is trying to be set on a copy of a slice from a DataFrame.\n",
      "Try using .loc[row_indexer,col_indexer] = value instead\n",
      "\n",
      "See the caveats in the documentation: http://pandas.pydata.org/pandas-docs/stable/indexing.html#indexing-view-versus-copy\n"
     ]
    }
   ],
   "source": [
    "save_ethnicity_dataset(patients, out_data_path+\"ethnicity.csv\",narrow_labels)"
   ]
  },
  {
   "cell_type": "markdown",
   "metadata": {},
   "source": [
    "## Results"
   ]
  },
  {
   "cell_type": "code",
   "execution_count": 58,
   "metadata": {},
   "outputs": [],
   "source": [
    "from tadatk.pipeline import plots"
   ]
  },
  {
   "cell_type": "code",
   "execution_count": 71,
   "metadata": {},
   "outputs": [
    {
     "data": {
      "text/html": [
       "<div>\n",
       "<style scoped>\n",
       "    .dataframe tbody tr th:only-of-type {\n",
       "        vertical-align: middle;\n",
       "    }\n",
       "\n",
       "    .dataframe tbody tr th {\n",
       "        vertical-align: top;\n",
       "    }\n",
       "\n",
       "    .dataframe thead th {\n",
       "        text-align: right;\n",
       "    }\n",
       "</style>\n",
       "<table border=\"1\" class=\"dataframe\">\n",
       "  <thead>\n",
       "    <tr style=\"text-align: right;\">\n",
       "      <th></th>\n",
       "      <th>model</th>\n",
       "      <th>seed</th>\n",
       "      <th>acc</th>\n",
       "      <th>microF1</th>\n",
       "      <th>W-f1</th>\n",
       "      <th>N-f1</th>\n",
       "      <th>O-f1</th>\n",
       "    </tr>\n",
       "  </thead>\n",
       "  <tbody>\n",
       "    <tr>\n",
       "      <th>0</th>\n",
       "      <td>bow-bin</td>\n",
       "      <td>1</td>\n",
       "      <td>0.531</td>\n",
       "      <td>0.531</td>\n",
       "      <td>0.693</td>\n",
       "      <td>0.156</td>\n",
       "      <td>0.207</td>\n",
       "    </tr>\n",
       "    <tr>\n",
       "      <th>1</th>\n",
       "      <td>bow-bin</td>\n",
       "      <td>2</td>\n",
       "      <td>0.611</td>\n",
       "      <td>0.611</td>\n",
       "      <td>0.759</td>\n",
       "      <td>0.136</td>\n",
       "      <td>0.079</td>\n",
       "    </tr>\n",
       "    <tr>\n",
       "      <th>2</th>\n",
       "      <td>bow-bin</td>\n",
       "      <td>3</td>\n",
       "      <td>0.622</td>\n",
       "      <td>0.622</td>\n",
       "      <td>0.770</td>\n",
       "      <td>0.051</td>\n",
       "      <td>0.224</td>\n",
       "    </tr>\n",
       "    <tr>\n",
       "      <th>3</th>\n",
       "      <td>bow-bin</td>\n",
       "      <td>4</td>\n",
       "      <td>0.641</td>\n",
       "      <td>0.641</td>\n",
       "      <td>0.783</td>\n",
       "      <td>0.047</td>\n",
       "      <td>0.075</td>\n",
       "    </tr>\n",
       "    <tr>\n",
       "      <th>4</th>\n",
       "      <td>bow-bin</td>\n",
       "      <td>5</td>\n",
       "      <td>0.664</td>\n",
       "      <td>0.664</td>\n",
       "      <td>0.798</td>\n",
       "      <td>0.066</td>\n",
       "      <td>0.061</td>\n",
       "    </tr>\n",
       "    <tr>\n",
       "      <th>5</th>\n",
       "      <td>bow-freq</td>\n",
       "      <td>1</td>\n",
       "      <td>0.632</td>\n",
       "      <td>0.632</td>\n",
       "      <td>0.783</td>\n",
       "      <td>0.135</td>\n",
       "      <td>0.000</td>\n",
       "    </tr>\n",
       "    <tr>\n",
       "      <th>6</th>\n",
       "      <td>bow-freq</td>\n",
       "      <td>2</td>\n",
       "      <td>0.579</td>\n",
       "      <td>0.579</td>\n",
       "      <td>0.736</td>\n",
       "      <td>0.000</td>\n",
       "      <td>0.240</td>\n",
       "    </tr>\n",
       "    <tr>\n",
       "      <th>7</th>\n",
       "      <td>bow-freq</td>\n",
       "      <td>3</td>\n",
       "      <td>0.416</td>\n",
       "      <td>0.416</td>\n",
       "      <td>0.567</td>\n",
       "      <td>0.159</td>\n",
       "      <td>0.217</td>\n",
       "    </tr>\n",
       "    <tr>\n",
       "      <th>8</th>\n",
       "      <td>bow-freq</td>\n",
       "      <td>4</td>\n",
       "      <td>0.656</td>\n",
       "      <td>0.656</td>\n",
       "      <td>0.795</td>\n",
       "      <td>0.036</td>\n",
       "      <td>0.085</td>\n",
       "    </tr>\n",
       "    <tr>\n",
       "      <th>9</th>\n",
       "      <td>bow-freq</td>\n",
       "      <td>5</td>\n",
       "      <td>0.627</td>\n",
       "      <td>0.627</td>\n",
       "      <td>0.778</td>\n",
       "      <td>0.104</td>\n",
       "      <td>0.140</td>\n",
       "    </tr>\n",
       "  </tbody>\n",
       "</table>\n",
       "</div>"
      ],
      "text/plain": [
       "      model  seed    acc  microF1   W-f1   N-f1   O-f1\n",
       "0   bow-bin     1  0.531    0.531  0.693  0.156  0.207\n",
       "1   bow-bin     2  0.611    0.611  0.759  0.136  0.079\n",
       "2   bow-bin     3  0.622    0.622  0.770  0.051  0.224\n",
       "3   bow-bin     4  0.641    0.641  0.783  0.047  0.075\n",
       "4   bow-bin     5  0.664    0.664  0.798  0.066  0.061\n",
       "5  bow-freq     1  0.632    0.632  0.783  0.135  0.000\n",
       "6  bow-freq     2  0.579    0.579  0.736  0.000  0.240\n",
       "7  bow-freq     3  0.416    0.416  0.567  0.159  0.217\n",
       "8  bow-freq     4  0.656    0.656  0.795  0.036  0.085\n",
       "9  bow-freq     5  0.627    0.627  0.778  0.104  0.140"
      ]
     },
     "execution_count": 71,
     "metadata": {},
     "output_type": "execute_result"
    }
   ],
   "source": [
    "results_path = \"/Users/samir/Dev/projects/MIMIC/DATA/results/ble.txt\"\n",
    "res = pd.read_csv(results_path,sep=\"\\t\")\n",
    "res"
   ]
  },
  {
   "cell_type": "code",
   "execution_count": 101,
   "metadata": {},
   "outputs": [],
   "source": [
    "df_bb = res[res[\"model\"] == \"bow-bin\"]\n",
    "df_bf = res[res[\"model\"] == \"bow-freq\"]\n"
   ]
  },
  {
   "cell_type": "code",
   "execution_count": 133,
   "metadata": {},
   "outputs": [
    {
     "name": "stdout",
     "output_type": "stream",
     "text": [
      "hello\n",
      "hello\n"
     ]
    },
    {
     "data": {
      "text/plain": [
       "Text(0.5,1,'bow-bin')"
      ]
     },
     "execution_count": 133,
     "metadata": {},
     "output_type": "execute_result"
    },
    {
     "data": {
      "image/png": "[encoded data removed]",
      "text/plain": [
       "<Figure size 1080x360 with 2 Axes>"
      ]
     },
     "metadata": {},
     "output_type": "display_data"
    }
   ],
   "source": [
    "fig, ax = plt.subplots(1,2, sharey=True, figsize=(15,5))\n",
    "\n",
    "plots.plot_df(df=df_bb,ax=ax[0],x=\"seed\",ys=[\"microF1\",\"W-f1\",\"N-f1\",\"O-f1\"], annotation_size=10)\n",
    "plots.plot_df(df=df_bf,ax=ax[1],x=\"seed\",ys=[\"microF1\",\"W-f1\",\"N-f1\",\"O-f1\"], annotation_size=10)\n",
    "\n",
    "\n",
    "ax[0].set_title(\"bow-bin\")\n",
    "ax[1].set_title(\"bow-freq\")\n",
    "\n"
   ]
  },
  {
   "cell_type": "code",
   "execution_count": 138,
   "metadata": {},
   "outputs": [
    {
     "name": "stdout",
     "output_type": "stream",
     "text": [
      "hello\n"
     ]
    },
    {
     "data": {
      "image/png": "[encoded data removed]",
      "text/plain": [
       "<Figure size 1080x360 with 2 Axes>"
      ]
     },
     "metadata": {},
     "output_type": "display_data"
    }
   ],
   "source": [
    "df_bb_mean = df_bb.groupby(\"model\").mean()\n",
    "df_bb_std = df_bb.groupby(\"model\").std()\n",
    "\n",
    "df_bf_mean = df_bf.groupby(\"model\").mean()\n",
    "df_bf_std = df_bf.groupby(\"model\").std()\n",
    "\n",
    "fig2, ax2 = plt.subplots(1,2, sharey=True, figsize=(15,5))\n",
    "# df_bf_mean = df_bf.groupby(\"model\").mean().reset_index()\n",
    "\n",
    "df_bb_mean[[\"microF1\",\"W-f1\",\"N-f1\",\"O-f1\"]].plot(ax=ax2[0],legend=True,kind=\"bar\",yerr=df_bb_std, rot=0)\n",
    "df_bf_mean[[\"microF1\",\"W-f1\",\"N-f1\",\"O-f1\"]].plot(ax=ax2[1],legend=True,kind=\"bar\",yerr=df_bf_std, rot=0)\n"
   ]
  },
  {
   "cell_type": "code",
   "execution_count": 136,
   "metadata": {},
   "outputs": [
    {
     "name": "stdout",
     "output_type": "stream",
     "text": [
      "hello\n",
      "hello\n"
     ]
    },
    {
     "data": {
      "text/plain": [
       "Text(0.5,1,'bow-freq')"
      ]
     },
     "execution_count": 136,
     "metadata": {},
     "output_type": "execute_result"
    },
    {
     "data": {
      "image/png": "[encoded data removed]",
      "text/plain": [
       "<Figure size 1080x360 with 2 Axes>"
      ]
     },
     "metadata": {},
     "output_type": "display_data"
    }
   ],
   "source": [
    "fig2, ax2 = plt.subplots(1,2, sharey=True, figsize=(15,5))\n",
    "\n",
    "plots.plot_df(df=df_bb_mean.reset_index(),ax=ax2[0],x=\"model\",ys=[\"microF1\",\"W-f1\",\"N-f1\",\"O-f1\"], annotation_size=10)\n",
    "plots.plot_df(df=df_bf_mean.reset_index(),ax=ax2[1],x=\"model\",ys=[\"microF1\",\"W-f1\",\"N-f1\",\"O-f1\"], annotation_size=10)\n",
    "\n",
    "\n",
    "ax2[0].set_title(\"bow-bin\")\n",
    "ax2[1].set_title(\"bow-freq\")\n",
    "\n"
   ]
  },
  {
   "cell_type": "code",
   "execution_count": null,
   "metadata": {},
   "outputs": [],
   "source": []
  }
 ],
 "metadata": {
  "kernelspec": {
   "display_name": "Python 3",
   "language": "python",
   "name": "python3"
  },
  "language_info": {
   "codemirror_mode": {
    "name": "ipython",
    "version": 3
   },
   "file_extension": ".py",
   "mimetype": "text/x-python",
   "name": "python",
   "nbconvert_exporter": "python",
   "pygments_lexer": "ipython3",
   "version": "3.6.5"
  }
 },
 "nbformat": 4,
 "nbformat_minor": 2
}
