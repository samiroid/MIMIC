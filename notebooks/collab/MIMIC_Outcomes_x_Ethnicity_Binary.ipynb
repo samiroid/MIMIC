{
  "nbformat": 4,
  "nbformat_minor": 0,
  "metadata": {
    "accelerator": "GPU",
    "colab": {
      "name": "MIMIC - Outcomes x Ethnicity Binary.ipynb",
      "provenance": [],
      "collapsed_sections": []
    },
    "kernelspec": {
      "display_name": "Python 3",
      "language": "python",
      "name": "python3"
    },
    "language_info": {
      "codemirror_mode": {
        "name": "ipython",
        "version": 3
      },
      "file_extension": ".py",
      "mimetype": "text/x-python",
      "name": "python",
      "nbconvert_exporter": "python",
      "pygments_lexer": "ipython3",
      "version": "3.6.8"
    },
    "widgets": {
      "application/vnd.jupyter.widget-state+json": {
        "a92c26f24d6a484e8780fa40e917bbda": {
          "model_module": "@jupyter-widgets/controls",
          "model_name": "HBoxModel",
          "state": {
            "_view_name": "HBoxView",
            "_dom_classes": [],
            "_model_name": "HBoxModel",
            "_view_module": "@jupyter-widgets/controls",
            "_model_module_version": "1.5.0",
            "_view_count": null,
            "_view_module_version": "1.5.0",
            "box_style": "",
            "layout": "IPY_MODEL_1e866f72a5714eb68fafb8659f4da6a4",
            "_model_module": "@jupyter-widgets/controls",
            "children": [
              "IPY_MODEL_3808dea163634a3d8d558cf68e0e8595",
              "IPY_MODEL_e9fda019be1e4535aea6ffcb14f87d32"
            ]
          }
        },
        "1e866f72a5714eb68fafb8659f4da6a4": {
          "model_module": "@jupyter-widgets/base",
          "model_name": "LayoutModel",
          "state": {
            "_view_name": "LayoutView",
            "grid_template_rows": null,
            "right": null,
            "justify_content": null,
            "_view_module": "@jupyter-widgets/base",
            "overflow": null,
            "_model_module_version": "1.2.0",
            "_view_count": null,
            "flex_flow": null,
            "width": null,
            "min_width": null,
            "border": null,
            "align_items": null,
            "bottom": null,
            "_model_module": "@jupyter-widgets/base",
            "top": null,
            "grid_column": null,
            "overflow_y": null,
            "overflow_x": null,
            "grid_auto_flow": null,
            "grid_area": null,
            "grid_template_columns": null,
            "flex": null,
            "_model_name": "LayoutModel",
            "justify_items": null,
            "grid_row": null,
            "max_height": null,
            "align_content": null,
            "visibility": null,
            "align_self": null,
            "height": null,
            "min_height": null,
            "padding": null,
            "grid_auto_rows": null,
            "grid_gap": null,
            "max_width": null,
            "order": null,
            "_view_module_version": "1.2.0",
            "grid_template_areas": null,
            "object_position": null,
            "object_fit": null,
            "grid_auto_columns": null,
            "margin": null,
            "display": null,
            "left": null
          }
        },
        "3808dea163634a3d8d558cf68e0e8595": {
          "model_module": "@jupyter-widgets/controls",
          "model_name": "FloatProgressModel",
          "state": {
            "_view_name": "ProgressView",
            "style": "IPY_MODEL_ae163f06e1ea4c1ab604dad0e221be97",
            "_dom_classes": [],
            "description": "Downloading: 100%",
            "_model_name": "FloatProgressModel",
            "bar_style": "success",
            "max": 231508,
            "_view_module": "@jupyter-widgets/controls",
            "_model_module_version": "1.5.0",
            "value": 231508,
            "_view_count": null,
            "_view_module_version": "1.5.0",
            "orientation": "horizontal",
            "min": 0,
            "description_tooltip": null,
            "_model_module": "@jupyter-widgets/controls",
            "layout": "IPY_MODEL_534f7d0fdbe6489faf594e069678e8d5"
          }
        },
        "e9fda019be1e4535aea6ffcb14f87d32": {
          "model_module": "@jupyter-widgets/controls",
          "model_name": "HTMLModel",
          "state": {
            "_view_name": "HTMLView",
            "style": "IPY_MODEL_91dc21ea12ee400abb72d9402a755c5a",
            "_dom_classes": [],
            "description": "",
            "_model_name": "HTMLModel",
            "placeholder": "​",
            "_view_module": "@jupyter-widgets/controls",
            "_model_module_version": "1.5.0",
            "value": " 232k/232k [00:00&lt;00:00, 684kB/s]",
            "_view_count": null,
            "_view_module_version": "1.5.0",
            "description_tooltip": null,
            "_model_module": "@jupyter-widgets/controls",
            "layout": "IPY_MODEL_f77f6211ac784462a095095739e041e1"
          }
        },
        "ae163f06e1ea4c1ab604dad0e221be97": {
          "model_module": "@jupyter-widgets/controls",
          "model_name": "ProgressStyleModel",
          "state": {
            "_view_name": "StyleView",
            "_model_name": "ProgressStyleModel",
            "description_width": "initial",
            "_view_module": "@jupyter-widgets/base",
            "_model_module_version": "1.5.0",
            "_view_count": null,
            "_view_module_version": "1.2.0",
            "bar_color": null,
            "_model_module": "@jupyter-widgets/controls"
          }
        },
        "534f7d0fdbe6489faf594e069678e8d5": {
          "model_module": "@jupyter-widgets/base",
          "model_name": "LayoutModel",
          "state": {
            "_view_name": "LayoutView",
            "grid_template_rows": null,
            "right": null,
            "justify_content": null,
            "_view_module": "@jupyter-widgets/base",
            "overflow": null,
            "_model_module_version": "1.2.0",
            "_view_count": null,
            "flex_flow": null,
            "width": null,
            "min_width": null,
            "border": null,
            "align_items": null,
            "bottom": null,
            "_model_module": "@jupyter-widgets/base",
            "top": null,
            "grid_column": null,
            "overflow_y": null,
            "overflow_x": null,
            "grid_auto_flow": null,
            "grid_area": null,
            "grid_template_columns": null,
            "flex": null,
            "_model_name": "LayoutModel",
            "justify_items": null,
            "grid_row": null,
            "max_height": null,
            "align_content": null,
            "visibility": null,
            "align_self": null,
            "height": null,
            "min_height": null,
            "padding": null,
            "grid_auto_rows": null,
            "grid_gap": null,
            "max_width": null,
            "order": null,
            "_view_module_version": "1.2.0",
            "grid_template_areas": null,
            "object_position": null,
            "object_fit": null,
            "grid_auto_columns": null,
            "margin": null,
            "display": null,
            "left": null
          }
        },
        "91dc21ea12ee400abb72d9402a755c5a": {
          "model_module": "@jupyter-widgets/controls",
          "model_name": "DescriptionStyleModel",
          "state": {
            "_view_name": "StyleView",
            "_model_name": "DescriptionStyleModel",
            "description_width": "",
            "_view_module": "@jupyter-widgets/base",
            "_model_module_version": "1.5.0",
            "_view_count": null,
            "_view_module_version": "1.2.0",
            "_model_module": "@jupyter-widgets/controls"
          }
        },
        "f77f6211ac784462a095095739e041e1": {
          "model_module": "@jupyter-widgets/base",
          "model_name": "LayoutModel",
          "state": {
            "_view_name": "LayoutView",
            "grid_template_rows": null,
            "right": null,
            "justify_content": null,
            "_view_module": "@jupyter-widgets/base",
            "overflow": null,
            "_model_module_version": "1.2.0",
            "_view_count": null,
            "flex_flow": null,
            "width": null,
            "min_width": null,
            "border": null,
            "align_items": null,
            "bottom": null,
            "_model_module": "@jupyter-widgets/base",
            "top": null,
            "grid_column": null,
            "overflow_y": null,
            "overflow_x": null,
            "grid_auto_flow": null,
            "grid_area": null,
            "grid_template_columns": null,
            "flex": null,
            "_model_name": "LayoutModel",
            "justify_items": null,
            "grid_row": null,
            "max_height": null,
            "align_content": null,
            "visibility": null,
            "align_self": null,
            "height": null,
            "min_height": null,
            "padding": null,
            "grid_auto_rows": null,
            "grid_gap": null,
            "max_width": null,
            "order": null,
            "_view_module_version": "1.2.0",
            "grid_template_areas": null,
            "object_position": null,
            "object_fit": null,
            "grid_auto_columns": null,
            "margin": null,
            "display": null,
            "left": null
          }
        },
        "00c9ea1e935a4200a8df178e39ebd8ad": {
          "model_module": "@jupyter-widgets/controls",
          "model_name": "HBoxModel",
          "state": {
            "_view_name": "HBoxView",
            "_dom_classes": [],
            "_model_name": "HBoxModel",
            "_view_module": "@jupyter-widgets/controls",
            "_model_module_version": "1.5.0",
            "_view_count": null,
            "_view_module_version": "1.5.0",
            "box_style": "",
            "layout": "IPY_MODEL_bad8ea3554bd454ea49e075cd21c6b41",
            "_model_module": "@jupyter-widgets/controls",
            "children": [
              "IPY_MODEL_c7fbbda8ebd34eb4a4f99612abb96eed",
              "IPY_MODEL_f49ba3abc0b540d487fc84471eea51d9"
            ]
          }
        },
        "bad8ea3554bd454ea49e075cd21c6b41": {
          "model_module": "@jupyter-widgets/base",
          "model_name": "LayoutModel",
          "state": {
            "_view_name": "LayoutView",
            "grid_template_rows": null,
            "right": null,
            "justify_content": null,
            "_view_module": "@jupyter-widgets/base",
            "overflow": null,
            "_model_module_version": "1.2.0",
            "_view_count": null,
            "flex_flow": null,
            "width": null,
            "min_width": null,
            "border": null,
            "align_items": null,
            "bottom": null,
            "_model_module": "@jupyter-widgets/base",
            "top": null,
            "grid_column": null,
            "overflow_y": null,
            "overflow_x": null,
            "grid_auto_flow": null,
            "grid_area": null,
            "grid_template_columns": null,
            "flex": null,
            "_model_name": "LayoutModel",
            "justify_items": null,
            "grid_row": null,
            "max_height": null,
            "align_content": null,
            "visibility": null,
            "align_self": null,
            "height": null,
            "min_height": null,
            "padding": null,
            "grid_auto_rows": null,
            "grid_gap": null,
            "max_width": null,
            "order": null,
            "_view_module_version": "1.2.0",
            "grid_template_areas": null,
            "object_position": null,
            "object_fit": null,
            "grid_auto_columns": null,
            "margin": null,
            "display": null,
            "left": null
          }
        },
        "c7fbbda8ebd34eb4a4f99612abb96eed": {
          "model_module": "@jupyter-widgets/controls",
          "model_name": "FloatProgressModel",
          "state": {
            "_view_name": "ProgressView",
            "style": "IPY_MODEL_ecd343f513584f04bd71c22fd7b3e82f",
            "_dom_classes": [],
            "description": "Downloading: 100%",
            "_model_name": "FloatProgressModel",
            "bar_style": "success",
            "max": 433,
            "_view_module": "@jupyter-widgets/controls",
            "_model_module_version": "1.5.0",
            "value": 433,
            "_view_count": null,
            "_view_module_version": "1.5.0",
            "orientation": "horizontal",
            "min": 0,
            "description_tooltip": null,
            "_model_module": "@jupyter-widgets/controls",
            "layout": "IPY_MODEL_aa1dfae43f5a4b3ab7af5c01741d39c1"
          }
        },
        "f49ba3abc0b540d487fc84471eea51d9": {
          "model_module": "@jupyter-widgets/controls",
          "model_name": "HTMLModel",
          "state": {
            "_view_name": "HTMLView",
            "style": "IPY_MODEL_496063f7fb52436883903fdc6f07d895",
            "_dom_classes": [],
            "description": "",
            "_model_name": "HTMLModel",
            "placeholder": "​",
            "_view_module": "@jupyter-widgets/controls",
            "_model_module_version": "1.5.0",
            "value": " 433/433 [00:00&lt;00:00, 589B/s]",
            "_view_count": null,
            "_view_module_version": "1.5.0",
            "description_tooltip": null,
            "_model_module": "@jupyter-widgets/controls",
            "layout": "IPY_MODEL_1ed2f5aabd0d4779bb64ac8d3d07d529"
          }
        },
        "ecd343f513584f04bd71c22fd7b3e82f": {
          "model_module": "@jupyter-widgets/controls",
          "model_name": "ProgressStyleModel",
          "state": {
            "_view_name": "StyleView",
            "_model_name": "ProgressStyleModel",
            "description_width": "initial",
            "_view_module": "@jupyter-widgets/base",
            "_model_module_version": "1.5.0",
            "_view_count": null,
            "_view_module_version": "1.2.0",
            "bar_color": null,
            "_model_module": "@jupyter-widgets/controls"
          }
        },
        "aa1dfae43f5a4b3ab7af5c01741d39c1": {
          "model_module": "@jupyter-widgets/base",
          "model_name": "LayoutModel",
          "state": {
            "_view_name": "LayoutView",
            "grid_template_rows": null,
            "right": null,
            "justify_content": null,
            "_view_module": "@jupyter-widgets/base",
            "overflow": null,
            "_model_module_version": "1.2.0",
            "_view_count": null,
            "flex_flow": null,
            "width": null,
            "min_width": null,
            "border": null,
            "align_items": null,
            "bottom": null,
            "_model_module": "@jupyter-widgets/base",
            "top": null,
            "grid_column": null,
            "overflow_y": null,
            "overflow_x": null,
            "grid_auto_flow": null,
            "grid_area": null,
            "grid_template_columns": null,
            "flex": null,
            "_model_name": "LayoutModel",
            "justify_items": null,
            "grid_row": null,
            "max_height": null,
            "align_content": null,
            "visibility": null,
            "align_self": null,
            "height": null,
            "min_height": null,
            "padding": null,
            "grid_auto_rows": null,
            "grid_gap": null,
            "max_width": null,
            "order": null,
            "_view_module_version": "1.2.0",
            "grid_template_areas": null,
            "object_position": null,
            "object_fit": null,
            "grid_auto_columns": null,
            "margin": null,
            "display": null,
            "left": null
          }
        },
        "496063f7fb52436883903fdc6f07d895": {
          "model_module": "@jupyter-widgets/controls",
          "model_name": "DescriptionStyleModel",
          "state": {
            "_view_name": "StyleView",
            "_model_name": "DescriptionStyleModel",
            "description_width": "",
            "_view_module": "@jupyter-widgets/base",
            "_model_module_version": "1.5.0",
            "_view_count": null,
            "_view_module_version": "1.2.0",
            "_model_module": "@jupyter-widgets/controls"
          }
        },
        "1ed2f5aabd0d4779bb64ac8d3d07d529": {
          "model_module": "@jupyter-widgets/base",
          "model_name": "LayoutModel",
          "state": {
            "_view_name": "LayoutView",
            "grid_template_rows": null,
            "right": null,
            "justify_content": null,
            "_view_module": "@jupyter-widgets/base",
            "overflow": null,
            "_model_module_version": "1.2.0",
            "_view_count": null,
            "flex_flow": null,
            "width": null,
            "min_width": null,
            "border": null,
            "align_items": null,
            "bottom": null,
            "_model_module": "@jupyter-widgets/base",
            "top": null,
            "grid_column": null,
            "overflow_y": null,
            "overflow_x": null,
            "grid_auto_flow": null,
            "grid_area": null,
            "grid_template_columns": null,
            "flex": null,
            "_model_name": "LayoutModel",
            "justify_items": null,
            "grid_row": null,
            "max_height": null,
            "align_content": null,
            "visibility": null,
            "align_self": null,
            "height": null,
            "min_height": null,
            "padding": null,
            "grid_auto_rows": null,
            "grid_gap": null,
            "max_width": null,
            "order": null,
            "_view_module_version": "1.2.0",
            "grid_template_areas": null,
            "object_position": null,
            "object_fit": null,
            "grid_auto_columns": null,
            "margin": null,
            "display": null,
            "left": null
          }
        },
        "0c513af7c4814a45a1eb7767d72417a8": {
          "model_module": "@jupyter-widgets/controls",
          "model_name": "HBoxModel",
          "state": {
            "_view_name": "HBoxView",
            "_dom_classes": [],
            "_model_name": "HBoxModel",
            "_view_module": "@jupyter-widgets/controls",
            "_model_module_version": "1.5.0",
            "_view_count": null,
            "_view_module_version": "1.5.0",
            "box_style": "",
            "layout": "IPY_MODEL_263eec20e4cd4ea8af1acbc4b9847023",
            "_model_module": "@jupyter-widgets/controls",
            "children": [
              "IPY_MODEL_1461ab71575b4971a96b1094fef250fe",
              "IPY_MODEL_df66c31103b9430482a283fd034796dc"
            ]
          }
        },
        "263eec20e4cd4ea8af1acbc4b9847023": {
          "model_module": "@jupyter-widgets/base",
          "model_name": "LayoutModel",
          "state": {
            "_view_name": "LayoutView",
            "grid_template_rows": null,
            "right": null,
            "justify_content": null,
            "_view_module": "@jupyter-widgets/base",
            "overflow": null,
            "_model_module_version": "1.2.0",
            "_view_count": null,
            "flex_flow": null,
            "width": null,
            "min_width": null,
            "border": null,
            "align_items": null,
            "bottom": null,
            "_model_module": "@jupyter-widgets/base",
            "top": null,
            "grid_column": null,
            "overflow_y": null,
            "overflow_x": null,
            "grid_auto_flow": null,
            "grid_area": null,
            "grid_template_columns": null,
            "flex": null,
            "_model_name": "LayoutModel",
            "justify_items": null,
            "grid_row": null,
            "max_height": null,
            "align_content": null,
            "visibility": null,
            "align_self": null,
            "height": null,
            "min_height": null,
            "padding": null,
            "grid_auto_rows": null,
            "grid_gap": null,
            "max_width": null,
            "order": null,
            "_view_module_version": "1.2.0",
            "grid_template_areas": null,
            "object_position": null,
            "object_fit": null,
            "grid_auto_columns": null,
            "margin": null,
            "display": null,
            "left": null
          }
        },
        "1461ab71575b4971a96b1094fef250fe": {
          "model_module": "@jupyter-widgets/controls",
          "model_name": "FloatProgressModel",
          "state": {
            "_view_name": "ProgressView",
            "style": "IPY_MODEL_054043608c164a4db4c5540182e470c2",
            "_dom_classes": [],
            "description": "Downloading: 100%",
            "_model_name": "FloatProgressModel",
            "bar_style": "success",
            "max": 440473133,
            "_view_module": "@jupyter-widgets/controls",
            "_model_module_version": "1.5.0",
            "value": 440473133,
            "_view_count": null,
            "_view_module_version": "1.5.0",
            "orientation": "horizontal",
            "min": 0,
            "description_tooltip": null,
            "_model_module": "@jupyter-widgets/controls",
            "layout": "IPY_MODEL_fea871edc06f468180e4d2f79a7242ff"
          }
        },
        "df66c31103b9430482a283fd034796dc": {
          "model_module": "@jupyter-widgets/controls",
          "model_name": "HTMLModel",
          "state": {
            "_view_name": "HTMLView",
            "style": "IPY_MODEL_50de0d2c99f8441ea16b1bfc8d0d85bc",
            "_dom_classes": [],
            "description": "",
            "_model_name": "HTMLModel",
            "placeholder": "​",
            "_view_module": "@jupyter-widgets/controls",
            "_model_module_version": "1.5.0",
            "value": " 440M/440M [03:47&lt;00:00, 1.93MB/s]",
            "_view_count": null,
            "_view_module_version": "1.5.0",
            "description_tooltip": null,
            "_model_module": "@jupyter-widgets/controls",
            "layout": "IPY_MODEL_b3e9379e365746c6a81ee90257178e10"
          }
        },
        "054043608c164a4db4c5540182e470c2": {
          "model_module": "@jupyter-widgets/controls",
          "model_name": "ProgressStyleModel",
          "state": {
            "_view_name": "StyleView",
            "_model_name": "ProgressStyleModel",
            "description_width": "initial",
            "_view_module": "@jupyter-widgets/base",
            "_model_module_version": "1.5.0",
            "_view_count": null,
            "_view_module_version": "1.2.0",
            "bar_color": null,
            "_model_module": "@jupyter-widgets/controls"
          }
        },
        "fea871edc06f468180e4d2f79a7242ff": {
          "model_module": "@jupyter-widgets/base",
          "model_name": "LayoutModel",
          "state": {
            "_view_name": "LayoutView",
            "grid_template_rows": null,
            "right": null,
            "justify_content": null,
            "_view_module": "@jupyter-widgets/base",
            "overflow": null,
            "_model_module_version": "1.2.0",
            "_view_count": null,
            "flex_flow": null,
            "width": null,
            "min_width": null,
            "border": null,
            "align_items": null,
            "bottom": null,
            "_model_module": "@jupyter-widgets/base",
            "top": null,
            "grid_column": null,
            "overflow_y": null,
            "overflow_x": null,
            "grid_auto_flow": null,
            "grid_area": null,
            "grid_template_columns": null,
            "flex": null,
            "_model_name": "LayoutModel",
            "justify_items": null,
            "grid_row": null,
            "max_height": null,
            "align_content": null,
            "visibility": null,
            "align_self": null,
            "height": null,
            "min_height": null,
            "padding": null,
            "grid_auto_rows": null,
            "grid_gap": null,
            "max_width": null,
            "order": null,
            "_view_module_version": "1.2.0",
            "grid_template_areas": null,
            "object_position": null,
            "object_fit": null,
            "grid_auto_columns": null,
            "margin": null,
            "display": null,
            "left": null
          }
        },
        "50de0d2c99f8441ea16b1bfc8d0d85bc": {
          "model_module": "@jupyter-widgets/controls",
          "model_name": "DescriptionStyleModel",
          "state": {
            "_view_name": "StyleView",
            "_model_name": "DescriptionStyleModel",
            "description_width": "",
            "_view_module": "@jupyter-widgets/base",
            "_model_module_version": "1.5.0",
            "_view_count": null,
            "_view_module_version": "1.2.0",
            "_model_module": "@jupyter-widgets/controls"
          }
        },
        "b3e9379e365746c6a81ee90257178e10": {
          "model_module": "@jupyter-widgets/base",
          "model_name": "LayoutModel",
          "state": {
            "_view_name": "LayoutView",
            "grid_template_rows": null,
            "right": null,
            "justify_content": null,
            "_view_module": "@jupyter-widgets/base",
            "overflow": null,
            "_model_module_version": "1.2.0",
            "_view_count": null,
            "flex_flow": null,
            "width": null,
            "min_width": null,
            "border": null,
            "align_items": null,
            "bottom": null,
            "_model_module": "@jupyter-widgets/base",
            "top": null,
            "grid_column": null,
            "overflow_y": null,
            "overflow_x": null,
            "grid_auto_flow": null,
            "grid_area": null,
            "grid_template_columns": null,
            "flex": null,
            "_model_name": "LayoutModel",
            "justify_items": null,
            "grid_row": null,
            "max_height": null,
            "align_content": null,
            "visibility": null,
            "align_self": null,
            "height": null,
            "min_height": null,
            "padding": null,
            "grid_auto_rows": null,
            "grid_gap": null,
            "max_width": null,
            "order": null,
            "_view_module_version": "1.2.0",
            "grid_template_areas": null,
            "object_position": null,
            "object_fit": null,
            "grid_auto_columns": null,
            "margin": null,
            "display": null,
            "left": null
          }
        }
      }
    }
  },
  "cells": [
    {
      "cell_type": "code",
      "metadata": {
        "colab_type": "code",
        "id": "nTNg0aoYxumN",
        "colab": {
          "base_uri": "https://localhost:8080/",
          "height": 122
        },
        "outputId": "fbcaafed-60aa-4ea2-aa3d-2e653b80eb24"
      },
      "source": [
        "from google.colab import drive\n",
        "drive.mount('/content/drive')"
      ],
      "execution_count": 1,
      "outputs": [
        {
          "output_type": "stream",
          "text": [
            "Go to this URL in a browser: https://accounts.google.com/o/oauth2/auth?client_id=947318989803-6bn6qk8qdgf4n4g3pfee6491hc0brc4i.apps.googleusercontent.com&redirect_uri=urn%3aietf%3awg%3aoauth%3a2.0%3aoob&scope=email%20https%3a%2f%2fwww.googleapis.com%2fauth%2fdocs.test%20https%3a%2f%2fwww.googleapis.com%2fauth%2fdrive%20https%3a%2f%2fwww.googleapis.com%2fauth%2fdrive.photos.readonly%20https%3a%2f%2fwww.googleapis.com%2fauth%2fpeopleapi.readonly&response_type=code\n",
            "\n",
            "Enter your authorization code:\n",
            "··········\n",
            "Mounted at /content/drive\n"
          ],
          "name": "stdout"
        }
      ]
    },
    {
      "cell_type": "code",
      "metadata": {
        "colab_type": "code",
        "id": "tWBAvaw5zIe_",
        "colab": {
          "base_uri": "https://localhost:8080/",
          "height": 595
        },
        "outputId": "aa73cf5e-8e38-444a-ea70-425f4fdcb3a8"
      },
      "source": [
        "!pip install transformers"
      ],
      "execution_count": 2,
      "outputs": [
        {
          "output_type": "stream",
          "text": [
            "Collecting transformers\n",
            "\u001b[?25l  Downloading https://files.pythonhosted.org/packages/ae/05/c8c55b600308dc04e95100dc8ad8a244dd800fe75dfafcf1d6348c6f6209/transformers-3.1.0-py3-none-any.whl (884kB)\n",
            "\u001b[K     |████████████████████████████████| 890kB 4.7MB/s \n",
            "\u001b[?25hCollecting sacremoses\n",
            "\u001b[?25l  Downloading https://files.pythonhosted.org/packages/7d/34/09d19aff26edcc8eb2a01bed8e98f13a1537005d31e95233fd48216eed10/sacremoses-0.0.43.tar.gz (883kB)\n",
            "\u001b[K     |████████████████████████████████| 890kB 23.4MB/s \n",
            "\u001b[?25hRequirement already satisfied: tqdm>=4.27 in /usr/local/lib/python3.6/dist-packages (from transformers) (4.41.1)\n",
            "Requirement already satisfied: requests in /usr/local/lib/python3.6/dist-packages (from transformers) (2.23.0)\n",
            "Collecting sentencepiece!=0.1.92\n",
            "\u001b[?25l  Downloading https://files.pythonhosted.org/packages/d4/a4/d0a884c4300004a78cca907a6ff9a5e9fe4f090f5d95ab341c53d28cbc58/sentencepiece-0.1.91-cp36-cp36m-manylinux1_x86_64.whl (1.1MB)\n",
            "\u001b[K     |████████████████████████████████| 1.1MB 30.2MB/s \n",
            "\u001b[?25hRequirement already satisfied: filelock in /usr/local/lib/python3.6/dist-packages (from transformers) (3.0.12)\n",
            "Requirement already satisfied: numpy in /usr/local/lib/python3.6/dist-packages (from transformers) (1.18.5)\n",
            "Requirement already satisfied: dataclasses; python_version < \"3.7\" in /usr/local/lib/python3.6/dist-packages (from transformers) (0.7)\n",
            "Requirement already satisfied: regex!=2019.12.17 in /usr/local/lib/python3.6/dist-packages (from transformers) (2019.12.20)\n",
            "Requirement already satisfied: packaging in /usr/local/lib/python3.6/dist-packages (from transformers) (20.4)\n",
            "Collecting tokenizers==0.8.1.rc2\n",
            "\u001b[?25l  Downloading https://files.pythonhosted.org/packages/80/83/8b9fccb9e48eeb575ee19179e2bdde0ee9a1904f97de5f02d19016b8804f/tokenizers-0.8.1rc2-cp36-cp36m-manylinux1_x86_64.whl (3.0MB)\n",
            "\u001b[K     |████████████████████████████████| 3.0MB 24.8MB/s \n",
            "\u001b[?25hRequirement already satisfied: six in /usr/local/lib/python3.6/dist-packages (from sacremoses->transformers) (1.15.0)\n",
            "Requirement already satisfied: click in /usr/local/lib/python3.6/dist-packages (from sacremoses->transformers) (7.1.2)\n",
            "Requirement already satisfied: joblib in /usr/local/lib/python3.6/dist-packages (from sacremoses->transformers) (0.16.0)\n",
            "Requirement already satisfied: idna<3,>=2.5 in /usr/local/lib/python3.6/dist-packages (from requests->transformers) (2.10)\n",
            "Requirement already satisfied: urllib3!=1.25.0,!=1.25.1,<1.26,>=1.21.1 in /usr/local/lib/python3.6/dist-packages (from requests->transformers) (1.24.3)\n",
            "Requirement already satisfied: certifi>=2017.4.17 in /usr/local/lib/python3.6/dist-packages (from requests->transformers) (2020.6.20)\n",
            "Requirement already satisfied: chardet<4,>=3.0.2 in /usr/local/lib/python3.6/dist-packages (from requests->transformers) (3.0.4)\n",
            "Requirement already satisfied: pyparsing>=2.0.2 in /usr/local/lib/python3.6/dist-packages (from packaging->transformers) (2.4.7)\n",
            "Building wheels for collected packages: sacremoses\n",
            "  Building wheel for sacremoses (setup.py) ... \u001b[?25l\u001b[?25hdone\n",
            "  Created wheel for sacremoses: filename=sacremoses-0.0.43-cp36-none-any.whl size=893257 sha256=536c84136b58de9b9304e2ea1e62b28a2ec97b1b20fcdd00aaa54316579ceb63\n",
            "  Stored in directory: /root/.cache/pip/wheels/29/3c/fd/7ce5c3f0666dab31a50123635e6fb5e19ceb42ce38d4e58f45\n",
            "Successfully built sacremoses\n",
            "Installing collected packages: sacremoses, sentencepiece, tokenizers, transformers\n",
            "Successfully installed sacremoses-0.0.43 sentencepiece-0.1.91 tokenizers-0.8.1rc2 transformers-3.1.0\n"
          ],
          "name": "stdout"
        }
      ]
    },
    {
      "cell_type": "code",
      "metadata": {
        "colab_type": "code",
        "id": "vUQ7MBldvx5d",
        "colab": {
          "base_uri": "https://localhost:8080/",
          "height": 51
        },
        "outputId": "f19ff422-9b11-4c48-8b4a-fc32c2bde28a"
      },
      "source": [
        "import os\n",
        "import pandas as pd\n",
        "import matplotlib.pyplot as plt\n",
        "import numpy as np\n",
        "from sklearn.linear_model import SGDClassifier \n",
        "from sklearn.metrics import f1_score, accuracy_score\n",
        "from sklearn.metrics import precision_recall_fscore_support as score\n",
        "from datetime import datetime\n",
        "import sys\n",
        "import seaborn as sns\n",
        "sns.set(style=\"darkgrid\")\n",
        "\n",
        "#local\n",
        "BASE_PATH = \"/content/drive/My Drive/collab/\"\n",
        "# BASE_PATH = \"/Users/samir/Dev/projects/MIMIC/\"\n",
        "sys.path.append(BASE_PATH+\"TADAT/\")\n",
        "\n",
        "from tadat.pipeline import plots\n",
        "from tadat.core import data, vectorizer, features, helpers, embeddings\n",
        "\n",
        "%matplotlib inline\n",
        "%load_ext autoreload\n",
        "%autoreload 2"
      ],
      "execution_count": 3,
      "outputs": [
        {
          "output_type": "stream",
          "text": [
            "/usr/local/lib/python3.6/dist-packages/statsmodels/tools/_testing.py:19: FutureWarning: pandas.util.testing is deprecated. Use the functions in the public API at pandas.testing instead.\n",
            "  import pandas.util.testing as tm\n"
          ],
          "name": "stderr"
        }
      ]
    },
    {
      "cell_type": "code",
      "metadata": {
        "colab_type": "code",
        "id": "lgNQKgX2vx5y",
        "colab": {
          "base_uri": "https://localhost:8080/",
          "height": 37
        },
        "outputId": "cacc8be3-a794-4deb-e83e-a514f61f2bfe"
      },
      "source": [
        "raw_data_path = \"/Users/samir/Dev/resources/datasets/MIMIC/full/\"\n",
        "out_data_path = BASE_PATH+\"MIMIC/DATA/input/\"\n",
        "out_data_path"
      ],
      "execution_count": 4,
      "outputs": [
        {
          "output_type": "execute_result",
          "data": {
            "application/vnd.google.colaboratory.intrinsic+json": {
              "type": "string"
            },
            "text/plain": [
              "'/content/drive/My Drive/collab/MIMIC/DATA/input/'"
            ]
          },
          "metadata": {
            "tags": []
          },
          "execution_count": 4
        }
      ]
    },
    {
      "cell_type": "markdown",
      "metadata": {
        "colab_type": "text",
        "id": "KL-ua7-6vx60"
      },
      "source": [
        "## Analytics"
      ]
    },
    {
      "cell_type": "code",
      "metadata": {
        "colab_type": "code",
        "id": "p-uckRCEvx61",
        "scrolled": true,
        "colab": {}
      },
      "source": [
        "def vectorize_data(train_split, test_split, test_split_M, test_split_F):\n",
        "    #vectorize instances\n",
        "    train_X = data.getX(train_split)\n",
        "    test_X_M = data.getX(test_split_M)\n",
        "    test_X_F = data.getX(test_split_F)\n",
        "    test_X = data.getX(test_split)\n",
        "    \n",
        "    train_X, word_vocab = vectorizer.docs2idx(train_X)\n",
        "    test_X_M,_ = vectorizer.docs2idx(test_X_M, word_vocab)\n",
        "    test_X_F,_ = vectorizer.docs2idx(test_X_F, word_vocab)\n",
        "    test_X,_ = vectorizer.docs2idx(test_X, word_vocab)\n",
        "    \n",
        "    #vectorize labels\n",
        "    train_Y = data.getY(train_split)\n",
        "    test_Y_M = data.getY(test_split_M) \n",
        "    test_Y_F = data.getY(test_split_F)   \n",
        "    test_Y = data.getY(test_split)   \n",
        "    \n",
        "    label_vocab = vectorizer.get_labels_vocab(train_Y+test_Y)\n",
        "    train_Y,_ = vectorizer.label2idx(train_Y, label_vocab)\n",
        "    test_Y,_ = vectorizer.label2idx(test_Y, label_vocab)\n",
        "    test_Y_M,_ = vectorizer.label2idx(test_Y_M, label_vocab)\n",
        "    test_Y_F,_ = vectorizer.label2idx(test_Y_F, label_vocab)\n",
        "    \n",
        "    return train_X, train_Y, test_X, test_Y, test_X_M, test_Y_M, test_X_F, test_Y_F, word_vocab, label_vocab\n",
        "\n",
        "def get_features(data, vocab_size, feature_type, word_vectors=None):\n",
        "    if feature_type == \"BOW-bin\":\n",
        "        X = features.BOW(data, vocab_size,sparse=True)\n",
        "    elif feature_type == \"BOW-freq\":\n",
        "        X = features.BOW_freq(data, vocab_size,sparse=True)\n",
        "    elif feature_type == \"BOE-bin\":\n",
        "        X = features.BOE(data, word_vectors,\"bin\")\n",
        "    elif feature_type == \"BOE-sum\": \n",
        "        X = features.BOE(data, word_vectors,\"sum\")\n",
        "    else:\n",
        "        raise NotImplementedError\n",
        "    return X\n",
        "    \n",
        "def get_BERT_embedding(X):\n",
        "    X_cls, X_pool =  embeddings.transformer_encode_batches(X, batchsize=200, device=\"cuda\")\n",
        "    return X_cls, X_pool\n",
        "    \n",
        "\n",
        "def evaluate_classifier(model, X_test, Y_test,\n",
        "                   labels, model_name, random_seed, res_path=None):\n",
        "    Y_hat = model.predict(X_test)\n",
        "    microF1 = f1_score(Y_test, Y_hat, average=\"micro\") \n",
        "    macroF1 = f1_score(Y_test, Y_hat, average=\"macro\") \n",
        "    acc = accuracy_score(Y_test, Y_hat)\n",
        "    precision, recall, fscore, support = score(Y_test, Y_hat)\n",
        "\n",
        "    res = {\"model\":model_name, \\\n",
        "            \"seed\":random_seed, \\\n",
        "            \"acc\":round(acc,3), \\\n",
        "            \"microF1\":round(microF1,3), \\\n",
        "            \"macroF1\":round(macroF1,3)\n",
        "            }\n",
        "\n",
        "    for l, i in labels.items():\n",
        "        try:\n",
        "            fs = round(fscore[i],3)\n",
        "        except IndexError:\n",
        "            fs = 0\n",
        "        res[\"{}-f1\".format(l)] = fs\n",
        "    if res_path is not None:\n",
        "        cols = [\"dataset\", \"model\", \"acc\", \"avgF1\"]        \n",
        "        helpers.save_results(res, res_path, sep=\"\\t\")\n",
        "    return res\n",
        "\n",
        "\n",
        "def get_deltas(results_M, results_F):\n",
        "    #resuts\n",
        "    df_M = pd.DataFrame(results_M)\n",
        "    df_F = pd.DataFrame(results_F)\n",
        "    #compute deltas\n",
        "    df_delta = df_M.sub(df_F.iloc[:,2:])\n",
        "    df_delta[\"model\"] = df_M[\"model\"]\n",
        "    df_delta[\"seed\"] = df_M[\"seed\"]   \n",
        "    return df_delta\n",
        "\n",
        "def run(df, x_label, y_label, feature_type, target_label, target_value, split=0.8):\n",
        "    #split into training and test sets\n",
        "    train_split, test_split = data.shuffle_split_idx(df[y_label], split)\n",
        "    df_train = df.iloc[train_split,:]\n",
        "    df_test = df.iloc[test_split,:]\n",
        "    df_test_M = df_test[df_test[target_label] == target_value]\n",
        "    df_test_F = df_test[df_test[target_label] != target_value]\n",
        "    \n",
        "    print(\"M: {} | F: {}\".format(len(df_test_M),len(df_test_F)))\n",
        "    #transform the data into the right format\n",
        "    train = data.read_dataframe(df_train, x_label, y_label)\n",
        "    test_M = data.read_dataframe(df_test_M, x_label, y_label)\n",
        "    test_F = data.read_dataframe(df_test_F, x_label, y_label)\n",
        "    test = data.read_dataframe(df_test, x_label, y_label)\n",
        "    #get vectorized train/test data \n",
        "    train_X, train_Y, test_X, test_Y, test_X_M, test_Y_M, test_X_F, test_Y_F, word_vocab, label_vocab = vectorize_data(train, test, test_M, test_F)\n",
        "\n",
        "    if \"BOW\" in feature_type:\n",
        "        #extract features\n",
        "        train_feats = get_features(train_X, len(word_vocab), feature_type)\n",
        "        test_feats_M = get_features(test_X_M, len(word_vocab), feature_type)\n",
        "        test_feats_F = get_features(test_X_F, len(word_vocab), feature_type)        \n",
        "        test_feats = get_features(test_X, len(word_vocab), feature_type)        \n",
        "    elif \"BERT_CLS\" == feature_type:\n",
        "        train_feats, _ = get_BERT_embedding(train)\n",
        "        test_feats_M, _ = get_BERT_embedding(test_M)\n",
        "        test_feats_F, _ = get_BERT_embedding(test_F)\n",
        "        test_feats, _ = get_BERT_embedding(test)\n",
        "    elif \"BERT_POOL\" == feature_type:\n",
        "        _, train_feats = get_BERT_embedding(train)\n",
        "        _, test_feats_M = get_BERT_embedding(test_M)\n",
        "        _, test_feats_F = get_BERT_embedding(test_F)\n",
        "        _, test_feats = get_BERT_embedding(test)\n",
        "    else:\n",
        "        raise NotImplementedError    \n",
        "#     set_trace()\n",
        "    #train/test classifier for each random seed\n",
        "    random_seeds = list(range(20))\n",
        "    results = []\n",
        "    results_m = []\n",
        "    results_f = []\n",
        "#     set_trace()\n",
        "    for r in random_seeds:\n",
        "        print(\"[running seed: {}]\".format(r))\n",
        "        model = SGDClassifier(random_state=r)\n",
        "        model.fit(train_feats, train_Y)\n",
        "        res = evaluate_classifier(model, test_feats, test_Y, label_vocab, feature_type, r)\n",
        "        results.append(res)\n",
        "        res_m = evaluate_classifier(model, test_feats_M, test_Y_M, label_vocab, feature_type, r)\n",
        "        results_m.append(res_m)\n",
        "        res_f = evaluate_classifier(model, test_feats_F, test_Y_F, label_vocab, feature_type, r)\n",
        "        results_f.append(res_f)\n",
        "    return results, results_m, results_f\n",
        "\n"
      ],
      "execution_count": 5,
      "outputs": []
    },
    {
      "cell_type": "markdown",
      "metadata": {
        "colab_type": "text",
        "id": "kTyzgoy4vx64"
      },
      "source": [
        "# Analyses"
      ]
    },
    {
      "cell_type": "code",
      "metadata": {
        "colab_type": "code",
        "id": "kNxNa35Cvx65",
        "colab": {}
      },
      "source": [
        "def outcome_anaylsis(df, x_label, y_label, feature_type):\n",
        "    \n",
        "    results_W, results_M_W, results_F_W = run(df, x_label, y_label, feature_type, \"ETHNICITY_BINARY\", \"WHITE\", split=0.8)\n",
        "    results_N, results_M_N, results_F_N = run(df, x_label, y_label, feature_type, \"ETHNICITY_BINARY\", \"NON-WHITE\", split=0.8)\n",
        "    df_delta_W = get_deltas(results_M_W,results_F_W)\n",
        "    df_delta_N = get_deltas(results_M_N,results_F_N)    \n",
        "    df_delta_W[\"target\"] = [\"White v Others\"]*len(df_delta_W)\n",
        "    df_delta_N[\"target\"] = [\"Non-White v Others\"]*len(df_delta_N)\n",
        "\n",
        "    df_results = pd.DataFrame(results_W)\n",
        "        \n",
        "    return df_results, df_delta_W, df_delta_N \n",
        "    \n",
        "    \n",
        "def plot_catplot(df_delta_W,df_delta_N, title, LIM):\n",
        "    df_delta = pd.concat([df_delta_W,df_delta_N])    \n",
        "    #transform results into \"long format\"\n",
        "    df_delta_long = df_delta.melt(id_vars=[\"seed\",\"model\",\"target\"], value_vars=[\"microF1\",\"0-f1\",\"1-f1\"], \n",
        "                                        var_name=\"metric\", value_name=\"delta\")\n",
        "\n",
        "    g = sns.catplot(x=\"metric\", y=\"delta\", hue=\"seed\", data=df_delta_long, \n",
        "                    col=\"target\",sharey=True,legend_out=True)\n",
        "    ax1, ax2 = g.axes[0]\n",
        "    ax1.axhline(0, ls='--',c=\"r\")\n",
        "    ax2.axhline(0, ls='--',c=\"r\")\n",
        "    ax1.set_ylim([-LIM,LIM])\n",
        "    ax2.set_ylim([-LIM,LIM])\n",
        "    plt.suptitle(title, y=1.01)\n",
        "    plt.tight_layout()\n",
        "    plt.show()  \n",
        "        \n",
        "def plot_performance(df, title):\n",
        "    #plots\n",
        "    fig, ax = plt.subplots(1,1, sharey=True, figsize=(18,5))\n",
        "#   plots.plot_df(df=df,ax=ax,x=\"seed\",ys=[\"microF1\",\"macroF1\",\"1-f1\",\"0-f1\"], annotation_size=10, max_y=LIM, min_y=-LIM)\n",
        "    plots.plot_df(df=df,ax=ax,x=\"seed\",ys=[\"microF1\",\"1-f1\",\"0-f1\"], annotation_size=10)\n",
        "    ax.legend(loc='best')\n",
        "    fig.suptitle(title ,y=1.01)\n",
        "    plt.tight_layout()\n",
        "\n",
        "\n",
        "\n"
      ],
      "execution_count": 6,
      "outputs": []
    },
    {
      "cell_type": "markdown",
      "metadata": {
        "colab_type": "text",
        "id": "B2HdNGDjvx7C"
      },
      "source": [
        "## mortality "
      ]
    },
    {
      "cell_type": "code",
      "metadata": {
        "colab_type": "code",
        "id": "9jsLzwUBvx6C",
        "scrolled": true,
        "colab": {
          "base_uri": "https://localhost:8080/",
          "height": 419
        },
        "outputId": "931e048e-2c4b-45a4-fbce-8937b8c289c3"
      },
      "source": [
        "df_mortality = pd.read_csv(out_data_path+\"mini_mortality_balanced.csv\",sep=\"\\t\", header=None, names=[\"EXPIRE\",\"TEXT\",\"GENDER\",\"ETHNICITY_LABEL\",\"ETHNICITY_BINARY\"])\n",
        "df_mortality "
      ],
      "execution_count": 7,
      "outputs": [
        {
          "output_type": "execute_result",
          "data": {
            "text/html": [
              "<div>\n",
              "<style scoped>\n",
              "    .dataframe tbody tr th:only-of-type {\n",
              "        vertical-align: middle;\n",
              "    }\n",
              "\n",
              "    .dataframe tbody tr th {\n",
              "        vertical-align: top;\n",
              "    }\n",
              "\n",
              "    .dataframe thead th {\n",
              "        text-align: right;\n",
              "    }\n",
              "</style>\n",
              "<table border=\"1\" class=\"dataframe\">\n",
              "  <thead>\n",
              "    <tr style=\"text-align: right;\">\n",
              "      <th></th>\n",
              "      <th>EXPIRE</th>\n",
              "      <th>TEXT</th>\n",
              "      <th>GENDER</th>\n",
              "      <th>ETHNICITY_LABEL</th>\n",
              "      <th>ETHNICITY_BINARY</th>\n",
              "    </tr>\n",
              "  </thead>\n",
              "  <tbody>\n",
              "    <tr>\n",
              "      <th>0</th>\n",
              "      <td>1</td>\n",
              "      <td>admission date:  [**2158-1-5**]              d...</td>\n",
              "      <td>F</td>\n",
              "      <td>OTHER</td>\n",
              "      <td>OTHER</td>\n",
              "    </tr>\n",
              "    <tr>\n",
              "      <th>1</th>\n",
              "      <td>1</td>\n",
              "      <td>admission date:  [**2169-9-11**]              ...</td>\n",
              "      <td>M</td>\n",
              "      <td>OTHER</td>\n",
              "      <td>OTHER</td>\n",
              "    </tr>\n",
              "    <tr>\n",
              "      <th>2</th>\n",
              "      <td>1</td>\n",
              "      <td>admission date:  [**2131-6-17**]              ...</td>\n",
              "      <td>M</td>\n",
              "      <td>OTHER</td>\n",
              "      <td>OTHER</td>\n",
              "    </tr>\n",
              "    <tr>\n",
              "      <th>3</th>\n",
              "      <td>1</td>\n",
              "      <td>admission date: [**2140-7-27**]        dischar...</td>\n",
              "      <td>F</td>\n",
              "      <td>WHITE</td>\n",
              "      <td>WHITE</td>\n",
              "    </tr>\n",
              "    <tr>\n",
              "      <th>4</th>\n",
              "      <td>1</td>\n",
              "      <td>admission date:  [**2140-7-15**]              ...</td>\n",
              "      <td>F</td>\n",
              "      <td>OTHER</td>\n",
              "      <td>OTHER</td>\n",
              "    </tr>\n",
              "    <tr>\n",
              "      <th>...</th>\n",
              "      <td>...</td>\n",
              "      <td>...</td>\n",
              "      <td>...</td>\n",
              "      <td>...</td>\n",
              "      <td>...</td>\n",
              "    </tr>\n",
              "    <tr>\n",
              "      <th>3927</th>\n",
              "      <td>0</td>\n",
              "      <td>admission date:  [**2184-7-5**]     discharge ...</td>\n",
              "      <td>F</td>\n",
              "      <td>WHITE</td>\n",
              "      <td>WHITE</td>\n",
              "    </tr>\n",
              "    <tr>\n",
              "      <th>3928</th>\n",
              "      <td>0</td>\n",
              "      <td>admission date:  [**2103-7-17**]              ...</td>\n",
              "      <td>M</td>\n",
              "      <td>ASIAN</td>\n",
              "      <td>NON-WHITE</td>\n",
              "    </tr>\n",
              "    <tr>\n",
              "      <th>3929</th>\n",
              "      <td>0</td>\n",
              "      <td>admission date:  [**2191-2-23**]              ...</td>\n",
              "      <td>M</td>\n",
              "      <td>ASIAN</td>\n",
              "      <td>NON-WHITE</td>\n",
              "    </tr>\n",
              "    <tr>\n",
              "      <th>3930</th>\n",
              "      <td>0</td>\n",
              "      <td>admission date:  [**2157-12-1**]              ...</td>\n",
              "      <td>M</td>\n",
              "      <td>WHITE</td>\n",
              "      <td>WHITE</td>\n",
              "    </tr>\n",
              "    <tr>\n",
              "      <th>3931</th>\n",
              "      <td>0</td>\n",
              "      <td>admission date:  [**2160-8-4**]              d...</td>\n",
              "      <td>M</td>\n",
              "      <td>WHITE</td>\n",
              "      <td>WHITE</td>\n",
              "    </tr>\n",
              "  </tbody>\n",
              "</table>\n",
              "<p>3932 rows × 5 columns</p>\n",
              "</div>"
            ],
            "text/plain": [
              "      EXPIRE  ... ETHNICITY_BINARY\n",
              "0          1  ...            OTHER\n",
              "1          1  ...            OTHER\n",
              "2          1  ...            OTHER\n",
              "3          1  ...            WHITE\n",
              "4          1  ...            OTHER\n",
              "...      ...  ...              ...\n",
              "3927       0  ...            WHITE\n",
              "3928       0  ...        NON-WHITE\n",
              "3929       0  ...        NON-WHITE\n",
              "3930       0  ...            WHITE\n",
              "3931       0  ...            WHITE\n",
              "\n",
              "[3932 rows x 5 columns]"
            ]
          },
          "metadata": {
            "tags": []
          },
          "execution_count": 7
        }
      ]
    },
    {
      "cell_type": "code",
      "metadata": {
        "colab_type": "code",
        "id": "x04hkj8zvx7D",
        "scrolled": true,
        "colab": {
          "base_uri": "https://localhost:8080/",
          "height": 1000,
          "referenced_widgets": [
            "a92c26f24d6a484e8780fa40e917bbda",
            "1e866f72a5714eb68fafb8659f4da6a4",
            "3808dea163634a3d8d558cf68e0e8595",
            "e9fda019be1e4535aea6ffcb14f87d32",
            "ae163f06e1ea4c1ab604dad0e221be97",
            "534f7d0fdbe6489faf594e069678e8d5",
            "91dc21ea12ee400abb72d9402a755c5a",
            "f77f6211ac784462a095095739e041e1",
            "00c9ea1e935a4200a8df178e39ebd8ad",
            "bad8ea3554bd454ea49e075cd21c6b41",
            "c7fbbda8ebd34eb4a4f99612abb96eed",
            "f49ba3abc0b540d487fc84471eea51d9",
            "ecd343f513584f04bd71c22fd7b3e82f",
            "aa1dfae43f5a4b3ab7af5c01741d39c1",
            "496063f7fb52436883903fdc6f07d895",
            "1ed2f5aabd0d4779bb64ac8d3d07d529",
            "0c513af7c4814a45a1eb7767d72417a8",
            "263eec20e4cd4ea8af1acbc4b9847023",
            "1461ab71575b4971a96b1094fef250fe",
            "df66c31103b9430482a283fd034796dc",
            "054043608c164a4db4c5540182e470c2",
            "fea871edc06f468180e4d2f79a7242ff",
            "50de0d2c99f8441ea16b1bfc8d0d85bc",
            "b3e9379e365746c6a81ee90257178e10"
          ]
        },
        "outputId": "906ba6f9-f47e-4920-8d2e-81409597b0a2"
      },
      "source": [
        "df_bb, df_bb_delta_W, df_bb_delta_N = outcome_anaylsis(df_mortality,\"TEXT\",\"EXPIRE\", \"BOW-bin\")\n",
        "df_bf, df_bf_delta_W, df_bf_delta_N = outcome_anaylsis(df_mortality,\"TEXT\",\"EXPIRE\", \"BOW-freq\")\n",
        "df_bertcls, df_bertcls_delta_W, df_bertcls_delta_N = outcome_anaylsis(df_mortality,\"TEXT\",\"EXPIRE\", \"BERT_CLS\")\n",
        "df_bertpool, df_bertpool_delta_W, df_bertpool_delta_N = outcome_anaylsis(df_mortality,\"TEXT\",\"EXPIRE\", \"BERT_POOL\")\n"
      ],
      "execution_count": 8,
      "outputs": [
        {
          "output_type": "stream",
          "text": [
            "M: 545 | F: 243\n",
            "(sparse BOW)\n",
            "(sparse BOW)\n",
            "(sparse BOW)\n",
            "(sparse BOW)\n",
            "[running seed: 0]\n",
            "[running seed: 1]\n",
            "[running seed: 2]\n",
            "[running seed: 3]\n",
            "[running seed: 4]\n",
            "[running seed: 5]\n",
            "[running seed: 6]\n",
            "[running seed: 7]\n",
            "[running seed: 8]\n",
            "[running seed: 9]\n",
            "[running seed: 10]\n",
            "[running seed: 11]\n",
            "[running seed: 12]\n",
            "[running seed: 13]\n",
            "[running seed: 14]\n",
            "[running seed: 15]\n",
            "[running seed: 16]\n",
            "[running seed: 17]\n",
            "[running seed: 18]\n",
            "[running seed: 19]\n",
            "M: 93 | F: 695\n",
            "(sparse BOW)\n",
            "(sparse BOW)\n",
            "(sparse BOW)\n",
            "(sparse BOW)\n",
            "[running seed: 0]\n",
            "[running seed: 1]\n",
            "[running seed: 2]\n",
            "[running seed: 3]\n",
            "[running seed: 4]\n",
            "[running seed: 5]\n",
            "[running seed: 6]\n",
            "[running seed: 7]\n",
            "[running seed: 8]\n",
            "[running seed: 9]\n",
            "[running seed: 10]\n",
            "[running seed: 11]\n",
            "[running seed: 12]\n",
            "[running seed: 13]\n",
            "[running seed: 14]\n",
            "[running seed: 15]\n",
            "[running seed: 16]\n",
            "[running seed: 17]\n",
            "[running seed: 18]\n",
            "[running seed: 19]\n",
            "M: 545 | F: 243\n",
            "(sparse BOW)\n",
            "(sparse BOW)\n",
            "(sparse BOW)\n",
            "(sparse BOW)\n",
            "[running seed: 0]\n",
            "[running seed: 1]\n",
            "[running seed: 2]\n",
            "[running seed: 3]\n",
            "[running seed: 4]\n",
            "[running seed: 5]\n",
            "[running seed: 6]\n",
            "[running seed: 7]\n",
            "[running seed: 8]\n",
            "[running seed: 9]\n",
            "[running seed: 10]\n",
            "[running seed: 11]\n",
            "[running seed: 12]\n",
            "[running seed: 13]\n",
            "[running seed: 14]\n",
            "[running seed: 15]\n",
            "[running seed: 16]\n",
            "[running seed: 17]\n",
            "[running seed: 18]\n",
            "[running seed: 19]\n",
            "M: 93 | F: 695\n",
            "(sparse BOW)\n",
            "(sparse BOW)\n",
            "(sparse BOW)\n",
            "(sparse BOW)\n",
            "[running seed: 0]\n",
            "[running seed: 1]\n",
            "[running seed: 2]\n",
            "[running seed: 3]\n",
            "[running seed: 4]\n",
            "[running seed: 5]\n",
            "[running seed: 6]\n",
            "[running seed: 7]\n",
            "[running seed: 8]\n",
            "[running seed: 9]\n",
            "[running seed: 10]\n",
            "[running seed: 11]\n",
            "[running seed: 12]\n",
            "[running seed: 13]\n",
            "[running seed: 14]\n",
            "[running seed: 15]\n",
            "[running seed: 16]\n",
            "[running seed: 17]\n",
            "[running seed: 18]\n",
            "[running seed: 19]\n",
            "M: 545 | F: 243\n"
          ],
          "name": "stdout"
        },
        {
          "output_type": "display_data",
          "data": {
            "application/vnd.jupyter.widget-view+json": {
              "model_id": "a92c26f24d6a484e8780fa40e917bbda",
              "version_minor": 0,
              "version_major": 2
            },
            "text/plain": [
              "HBox(children=(FloatProgress(value=0.0, description='Downloading', max=231508.0, style=ProgressStyle(descripti…"
            ]
          },
          "metadata": {
            "tags": []
          }
        },
        {
          "output_type": "stream",
          "text": [
            "\n"
          ],
          "name": "stdout"
        },
        {
          "output_type": "display_data",
          "data": {
            "application/vnd.jupyter.widget-view+json": {
              "model_id": "00c9ea1e935a4200a8df178e39ebd8ad",
              "version_minor": 0,
              "version_major": 2
            },
            "text/plain": [
              "HBox(children=(FloatProgress(value=0.0, description='Downloading', max=433.0, style=ProgressStyle(description_…"
            ]
          },
          "metadata": {
            "tags": []
          }
        },
        {
          "output_type": "stream",
          "text": [
            "\n"
          ],
          "name": "stdout"
        },
        {
          "output_type": "display_data",
          "data": {
            "application/vnd.jupyter.widget-view+json": {
              "model_id": "0c513af7c4814a45a1eb7767d72417a8",
              "version_minor": 0,
              "version_major": 2
            },
            "text/plain": [
              "HBox(children=(FloatProgress(value=0.0, description='Downloading', max=440473133.0, style=ProgressStyle(descri…"
            ]
          },
          "metadata": {
            "tags": []
          }
        },
        {
          "output_type": "stream",
          "text": [
            "\n",
            "\n",
            "batch:1/16 (size: 200)[max len: 510]\n",
            "\n",
            "batch:2/16 (size: 200)[max len: 510]\n",
            "\n",
            "batch:3/16 (size: 200)[max len: 510]\n",
            "\n",
            "batch:4/16 (size: 200)[max len: 510]\n",
            "\n",
            "batch:5/16 (size: 200)[max len: 510]\n",
            "\n",
            "batch:6/16 (size: 200)[max len: 510]\n",
            "\n",
            "batch:7/16 (size: 200)[max len: 510]\n",
            "\n",
            "batch:8/16 (size: 200)[max len: 510]\n",
            "\n",
            "batch:9/16 (size: 200)[max len: 510]\n",
            "\n",
            "batch:10/16 (size: 200)[max len: 510]\n",
            "\n",
            "batch:11/16 (size: 200)[max len: 510]\n",
            "\n",
            "batch:12/16 (size: 200)[max len: 510]\n",
            "\n",
            "batch:13/16 (size: 200)[max len: 510]\n",
            "\n",
            "batch:14/16 (size: 200)[max len: 510]\n",
            "\n",
            "batch:15/16 (size: 200)[max len: 510]\n",
            "\n",
            "batch:16/16 (size: 144)[max len: 510]\n",
            "\n",
            "batch:1/3 (size: 200)[max len: 510]\n",
            "\n",
            "batch:2/3 (size: 200)[max len: 510]\n",
            "\n",
            "batch:3/3 (size: 145)[max len: 510]\n",
            "\n",
            "batch:1/2 (size: 200)[max len: 510]\n",
            "\n",
            "batch:2/2 (size: 43)[max len: 510]\n",
            "\n",
            "batch:1/4 (size: 200)[max len: 510]\n",
            "\n",
            "batch:2/4 (size: 200)[max len: 510]\n",
            "\n",
            "batch:3/4 (size: 200)[max len: 510]\n",
            "\n",
            "batch:4/4 (size: 188)[max len: 510]\n",
            "[running seed: 0]\n",
            "[running seed: 1]\n",
            "[running seed: 2]\n",
            "[running seed: 3]\n",
            "[running seed: 4]\n",
            "[running seed: 5]\n",
            "[running seed: 6]\n",
            "[running seed: 7]\n",
            "[running seed: 8]\n",
            "[running seed: 9]\n",
            "[running seed: 10]\n",
            "[running seed: 11]\n",
            "[running seed: 12]\n",
            "[running seed: 13]\n",
            "[running seed: 14]\n",
            "[running seed: 15]\n",
            "[running seed: 16]\n",
            "[running seed: 17]\n",
            "[running seed: 18]\n",
            "[running seed: 19]\n",
            "M: 93 | F: 695\n",
            "\n",
            "batch:1/16 (size: 200)[max len: 510]\n",
            "\n",
            "batch:2/16 (size: 200)[max len: 510]\n",
            "\n",
            "batch:3/16 (size: 200)[max len: 510]\n",
            "\n",
            "batch:4/16 (size: 200)[max len: 510]\n",
            "\n",
            "batch:5/16 (size: 200)[max len: 510]\n",
            "\n",
            "batch:6/16 (size: 200)[max len: 510]\n",
            "\n",
            "batch:7/16 (size: 200)[max len: 510]\n",
            "\n",
            "batch:8/16 (size: 200)[max len: 510]\n",
            "\n",
            "batch:9/16 (size: 200)[max len: 510]\n",
            "\n",
            "batch:10/16 (size: 200)[max len: 510]\n",
            "\n",
            "batch:11/16 (size: 200)[max len: 510]\n",
            "\n",
            "batch:12/16 (size: 200)[max len: 510]\n",
            "\n",
            "batch:13/16 (size: 200)[max len: 510]\n",
            "\n",
            "batch:14/16 (size: 200)[max len: 510]\n",
            "\n",
            "batch:15/16 (size: 200)[max len: 510]\n",
            "\n",
            "batch:16/16 (size: 144)[max len: 510]\n",
            "\n",
            "batch:1/1 (size: 93)[max len: 510]\n",
            "\n",
            "batch:1/4 (size: 200)[max len: 510]\n",
            "\n",
            "batch:2/4 (size: 200)[max len: 510]\n",
            "\n",
            "batch:3/4 (size: 200)[max len: 510]\n",
            "\n",
            "batch:4/4 (size: 95)[max len: 510]\n",
            "\n",
            "batch:1/4 (size: 200)[max len: 510]\n",
            "\n",
            "batch:2/4 (size: 200)[max len: 510]\n",
            "\n",
            "batch:3/4 (size: 200)[max len: 510]\n",
            "\n",
            "batch:4/4 (size: 188)[max len: 510]\n",
            "[running seed: 0]\n",
            "[running seed: 1]\n",
            "[running seed: 2]\n",
            "[running seed: 3]\n",
            "[running seed: 4]\n",
            "[running seed: 5]\n",
            "[running seed: 6]\n",
            "[running seed: 7]\n",
            "[running seed: 8]\n",
            "[running seed: 9]\n",
            "[running seed: 10]\n",
            "[running seed: 11]\n",
            "[running seed: 12]\n",
            "[running seed: 13]\n",
            "[running seed: 14]\n",
            "[running seed: 15]\n",
            "[running seed: 16]\n",
            "[running seed: 17]\n",
            "[running seed: 18]\n",
            "[running seed: 19]\n",
            "M: 545 | F: 243\n",
            "\n",
            "batch:1/16 (size: 200)[max len: 510]\n",
            "\n",
            "batch:2/16 (size: 200)[max len: 510]\n",
            "\n",
            "batch:3/16 (size: 200)[max len: 510]\n",
            "\n",
            "batch:4/16 (size: 200)[max len: 510]\n",
            "\n",
            "batch:5/16 (size: 200)[max len: 510]\n",
            "\n",
            "batch:6/16 (size: 200)[max len: 510]\n",
            "\n",
            "batch:7/16 (size: 200)[max len: 510]\n",
            "\n",
            "batch:8/16 (size: 200)[max len: 510]\n",
            "\n",
            "batch:9/16 (size: 200)[max len: 510]\n",
            "\n",
            "batch:10/16 (size: 200)[max len: 510]\n",
            "\n",
            "batch:11/16 (size: 200)[max len: 510]\n",
            "\n",
            "batch:12/16 (size: 200)[max len: 510]\n",
            "\n",
            "batch:13/16 (size: 200)[max len: 510]\n",
            "\n",
            "batch:14/16 (size: 200)[max len: 510]\n",
            "\n",
            "batch:15/16 (size: 200)[max len: 510]\n",
            "\n",
            "batch:16/16 (size: 144)[max len: 510]\n",
            "\n",
            "batch:1/3 (size: 200)[max len: 510]\n",
            "\n",
            "batch:2/3 (size: 200)[max len: 510]\n",
            "\n",
            "batch:3/3 (size: 145)[max len: 510]\n",
            "\n",
            "batch:1/2 (size: 200)[max len: 510]\n",
            "\n",
            "batch:2/2 (size: 43)[max len: 510]\n",
            "\n",
            "batch:1/4 (size: 200)[max len: 510]\n",
            "\n",
            "batch:2/4 (size: 200)[max len: 510]\n",
            "\n",
            "batch:3/4 (size: 200)[max len: 510]\n",
            "\n",
            "batch:4/4 (size: 188)[max len: 510]\n",
            "[running seed: 0]\n",
            "[running seed: 1]\n",
            "[running seed: 2]\n",
            "[running seed: 3]\n",
            "[running seed: 4]\n",
            "[running seed: 5]\n",
            "[running seed: 6]\n",
            "[running seed: 7]\n",
            "[running seed: 8]\n",
            "[running seed: 9]\n",
            "[running seed: 10]\n",
            "[running seed: 11]\n",
            "[running seed: 12]\n",
            "[running seed: 13]\n",
            "[running seed: 14]\n",
            "[running seed: 15]\n",
            "[running seed: 16]\n",
            "[running seed: 17]\n",
            "[running seed: 18]\n",
            "[running seed: 19]\n",
            "M: 93 | F: 695\n",
            "\n",
            "batch:1/16 (size: 200)[max len: 510]\n",
            "\n",
            "batch:2/16 (size: 200)[max len: 510]\n",
            "\n",
            "batch:3/16 (size: 200)[max len: 510]\n",
            "\n",
            "batch:4/16 (size: 200)[max len: 510]\n",
            "\n",
            "batch:5/16 (size: 200)[max len: 510]\n",
            "\n",
            "batch:6/16 (size: 200)[max len: 510]\n",
            "\n",
            "batch:7/16 (size: 200)[max len: 510]\n",
            "\n",
            "batch:8/16 (size: 200)[max len: 510]\n",
            "\n",
            "batch:9/16 (size: 200)[max len: 510]\n",
            "\n",
            "batch:10/16 (size: 200)[max len: 510]\n",
            "\n",
            "batch:11/16 (size: 200)[max len: 510]\n",
            "\n",
            "batch:12/16 (size: 200)[max len: 510]\n",
            "\n",
            "batch:13/16 (size: 200)[max len: 510]\n",
            "\n",
            "batch:14/16 (size: 200)[max len: 510]\n",
            "\n",
            "batch:15/16 (size: 200)[max len: 510]\n",
            "\n",
            "batch:16/16 (size: 144)[max len: 510]\n",
            "\n",
            "batch:1/1 (size: 93)[max len: 510]\n",
            "\n",
            "batch:1/4 (size: 200)[max len: 510]\n",
            "\n",
            "batch:2/4 (size: 200)[max len: 510]\n",
            "\n",
            "batch:3/4 (size: 200)[max len: 510]\n",
            "\n",
            "batch:4/4 (size: 95)[max len: 510]\n",
            "\n",
            "batch:1/4 (size: 200)[max len: 510]\n",
            "\n",
            "batch:2/4 (size: 200)[max len: 510]\n",
            "\n",
            "batch:3/4 (size: 200)[max len: 510]\n",
            "\n",
            "batch:4/4 (size: 188)[max len: 510]\n",
            "[running seed: 0]\n",
            "[running seed: 1]\n",
            "[running seed: 2]\n",
            "[running seed: 3]\n",
            "[running seed: 4]\n",
            "[running seed: 5]\n",
            "[running seed: 6]\n",
            "[running seed: 7]\n",
            "[running seed: 8]\n",
            "[running seed: 9]\n",
            "[running seed: 10]\n",
            "[running seed: 11]\n",
            "[running seed: 12]\n",
            "[running seed: 13]\n",
            "[running seed: 14]\n",
            "[running seed: 15]\n",
            "[running seed: 16]\n",
            "[running seed: 17]\n",
            "[running seed: 18]\n",
            "[running seed: 19]\n"
          ],
          "name": "stdout"
        }
      ]
    },
    {
      "cell_type": "code",
      "metadata": {
        "colab_type": "code",
        "id": "TOH6MaUWvx7G",
        "colab": {
          "base_uri": "https://localhost:8080/",
          "height": 1000
        },
        "outputId": "97477cea-fa65-4dca-e650-045740ca1113"
      },
      "source": [
        "plot_performance(df_bb, \"Mortality (bow-bin)\")\n",
        "plot_performance(df_bf, \"Mortality (bow-freq)\")\n",
        "plot_performance(df_bertpool, \"Mortality (BERT POOL)\")\n",
        "plot_performance(df_bf, \"Mortality (BERT CLS)\")\n"
      ],
      "execution_count": 9,
      "outputs": [
        {
          "output_type": "display_data",
          "data": {
            "image/png": "[encoded data removed]",
            "text/plain": [
              "<Figure size 1296x360 with 1 Axes>"
            ]
          },
          "metadata": {
            "tags": [],
            "needs_background": "light"
          }
        },
        {
          "output_type": "display_data",
          "data": {
            "image/png": "[encoded data removed]",
            "text/plain": [
              "<Figure size 1296x360 with 1 Axes>"
            ]
          },
          "metadata": {
            "tags": [],
            "needs_background": "light"
          }
        },
        {
          "output_type": "display_data",
          "data": {
            "image/png": "[encoded data removed]",
            "text/plain": [
              "<Figure size 1296x360 with 1 Axes>"
            ]
          },
          "metadata": {
            "tags": [],
            "needs_background": "light"
          }
        },
        {
          "output_type": "display_data",
          "data": {
            "image/png": "[encoded data removed]",
            "text/plain": [
              "<Figure size 1296x360 with 1 Axes>"
            ]
          },
          "metadata": {
            "tags": [],
            "needs_background": "light"
          }
        }
      ]
    },
    {
      "cell_type": "code",
      "metadata": {
        "colab_type": "code",
        "id": "M54ogy2fvx7J",
        "scrolled": false,
        "colab": {
          "base_uri": "https://localhost:8080/",
          "height": 1000
        },
        "outputId": "99e11215-d76c-460f-bee5-4ee93852fb52"
      },
      "source": [
        "LIM=0.3\n",
        "plot_catplot(df_bb_delta_W, df_bb_delta_N, \"Mortality x Ethnicity Binary (bow-bin)\", LIM)\n",
        "plot_catplot(df_bf_delta_W, df_bf_delta_N, \"Mortality x Ethnicity Binary (bow-freq)\", LIM)\n",
        "plot_catplot(df_bertpool_delta_W, df_bertpool_delta_N, \"Mortality x Ethnicity Binary (BERT POOL)\", LIM)\n",
        "plot_catplot(df_bertcls_delta_W, df_bertcls_delta_N, \"Mortality x Ethnicity Binary (BERT CLS)\", LIM)"
      ],
      "execution_count": 10,
      "outputs": [
        {
          "output_type": "display_data",
          "data": {
            "image/png": "[encoded data removed]",
            "text/plain": [
              "<Figure size 773.6x360 with 2 Axes>"
            ]
          },
          "metadata": {
            "tags": [],
            "needs_background": "light"
          }
        },
        {
          "output_type": "display_data",
          "data": {
            "image/png": "[encoded data removed]",
            "text/plain": [
              "<Figure size 773.6x360 with 2 Axes>"
            ]
          },
          "metadata": {
            "tags": [],
            "needs_background": "light"
          }
        },
        {
          "output_type": "display_data",
          "data": {
            "image/png": "[encoded data removed]",
            "text/plain": [
              "<Figure size 773.6x360 with 2 Axes>"
            ]
          },
          "metadata": {
            "tags": [],
            "needs_background": "light"
          }
        },
        {
          "output_type": "display_data",
          "data": {
            "image/png": "[encoded data removed]",
            "text/plain": [
              "<Figure size 773.6x360 with 2 Axes>"
            ]
          },
          "metadata": {
            "tags": [],
            "needs_background": "light"
          }
        }
      ]
    },
    {
      "cell_type": "markdown",
      "metadata": {
        "colab_type": "text",
        "id": "TtqNiFv5vx7M"
      },
      "source": [
        "## readmissions\n"
      ]
    },
    {
      "cell_type": "code",
      "metadata": {
        "colab_type": "code",
        "id": "DnH1b6p5vx6g",
        "scrolled": true,
        "colab": {
          "base_uri": "https://localhost:8080/",
          "height": 419
        },
        "outputId": "0ea9f5fa-ed5e-41a3-9279-af7a5d679854"
      },
      "source": [
        "df_readmission = pd.read_csv(out_data_path+\"mini_readmissions_balanced.csv\",sep=\"\\t\", header=None, names=[\"READMISSION\",\"TEXT\",\"GENDER\",\"ETHNICITY_LABEL\",\"ETHNICITY_BINARY\"])\n",
        "df_readmission"
      ],
      "execution_count": 11,
      "outputs": [
        {
          "output_type": "execute_result",
          "data": {
            "text/html": [
              "<div>\n",
              "<style scoped>\n",
              "    .dataframe tbody tr th:only-of-type {\n",
              "        vertical-align: middle;\n",
              "    }\n",
              "\n",
              "    .dataframe tbody tr th {\n",
              "        vertical-align: top;\n",
              "    }\n",
              "\n",
              "    .dataframe thead th {\n",
              "        text-align: right;\n",
              "    }\n",
              "</style>\n",
              "<table border=\"1\" class=\"dataframe\">\n",
              "  <thead>\n",
              "    <tr style=\"text-align: right;\">\n",
              "      <th></th>\n",
              "      <th>READMISSION</th>\n",
              "      <th>TEXT</th>\n",
              "      <th>GENDER</th>\n",
              "      <th>ETHNICITY_LABEL</th>\n",
              "      <th>ETHNICITY_BINARY</th>\n",
              "    </tr>\n",
              "  </thead>\n",
              "  <tbody>\n",
              "    <tr>\n",
              "      <th>0</th>\n",
              "      <td>1</td>\n",
              "      <td>admission date:  [**2149-6-2**]       discharg...</td>\n",
              "      <td>F</td>\n",
              "      <td>NaN</td>\n",
              "      <td>NaN</td>\n",
              "    </tr>\n",
              "    <tr>\n",
              "      <th>1</th>\n",
              "      <td>1</td>\n",
              "      <td>admission date:  [**2133-9-3**]              d...</td>\n",
              "      <td>M</td>\n",
              "      <td>NaN</td>\n",
              "      <td>NaN</td>\n",
              "    </tr>\n",
              "    <tr>\n",
              "      <th>2</th>\n",
              "      <td>1</td>\n",
              "      <td>admission date:  [**2113-5-10**]     discharge...</td>\n",
              "      <td>M</td>\n",
              "      <td>NaN</td>\n",
              "      <td>NaN</td>\n",
              "    </tr>\n",
              "    <tr>\n",
              "      <th>3</th>\n",
              "      <td>1</td>\n",
              "      <td>admission date:  [**2159-8-1**]              d...</td>\n",
              "      <td>M</td>\n",
              "      <td>NaN</td>\n",
              "      <td>NaN</td>\n",
              "    </tr>\n",
              "    <tr>\n",
              "      <th>4</th>\n",
              "      <td>1</td>\n",
              "      <td>admission date: [**2140-7-27**]        dischar...</td>\n",
              "      <td>F</td>\n",
              "      <td>NaN</td>\n",
              "      <td>NaN</td>\n",
              "    </tr>\n",
              "    <tr>\n",
              "      <th>...</th>\n",
              "      <td>...</td>\n",
              "      <td>...</td>\n",
              "      <td>...</td>\n",
              "      <td>...</td>\n",
              "      <td>...</td>\n",
              "    </tr>\n",
              "    <tr>\n",
              "      <th>6627</th>\n",
              "      <td>0</td>\n",
              "      <td>admission date:  [**2142-7-16**]              ...</td>\n",
              "      <td>M</td>\n",
              "      <td>WHITE</td>\n",
              "      <td>WHITE</td>\n",
              "    </tr>\n",
              "    <tr>\n",
              "      <th>6628</th>\n",
              "      <td>0</td>\n",
              "      <td>admission date:  [**2145-7-25**]              ...</td>\n",
              "      <td>F</td>\n",
              "      <td>OTHER</td>\n",
              "      <td>OTHER</td>\n",
              "    </tr>\n",
              "    <tr>\n",
              "      <th>6629</th>\n",
              "      <td>0</td>\n",
              "      <td>admission date:  [**2143-11-16**]             ...</td>\n",
              "      <td>F</td>\n",
              "      <td>WHITE</td>\n",
              "      <td>WHITE</td>\n",
              "    </tr>\n",
              "    <tr>\n",
              "      <th>6630</th>\n",
              "      <td>0</td>\n",
              "      <td>admission date:  [**2176-7-15**]       dischar...</td>\n",
              "      <td>M</td>\n",
              "      <td>OTHER</td>\n",
              "      <td>OTHER</td>\n",
              "    </tr>\n",
              "    <tr>\n",
              "      <th>6631</th>\n",
              "      <td>0</td>\n",
              "      <td>admission date:  [**2176-8-2**]       discharg...</td>\n",
              "      <td>F</td>\n",
              "      <td>OTHER</td>\n",
              "      <td>OTHER</td>\n",
              "    </tr>\n",
              "  </tbody>\n",
              "</table>\n",
              "<p>6632 rows × 5 columns</p>\n",
              "</div>"
            ],
            "text/plain": [
              "      READMISSION  ... ETHNICITY_BINARY\n",
              "0               1  ...              NaN\n",
              "1               1  ...              NaN\n",
              "2               1  ...              NaN\n",
              "3               1  ...              NaN\n",
              "4               1  ...              NaN\n",
              "...           ...  ...              ...\n",
              "6627            0  ...            WHITE\n",
              "6628            0  ...            OTHER\n",
              "6629            0  ...            WHITE\n",
              "6630            0  ...            OTHER\n",
              "6631            0  ...            OTHER\n",
              "\n",
              "[6632 rows x 5 columns]"
            ]
          },
          "metadata": {
            "tags": []
          },
          "execution_count": 11
        }
      ]
    },
    {
      "cell_type": "code",
      "metadata": {
        "colab_type": "code",
        "id": "RLgZKreEvx7N",
        "scrolled": true,
        "colab": {
          "base_uri": "https://localhost:8080/",
          "height": 1000
        },
        "outputId": "851e7ecf-cf50-4aa8-b9c4-d875a90e919a"
      },
      "source": [
        "df_rea_bb, df_rea_bb_delta_W, df_rea_bb_delta_N = outcome_anaylsis(df_readmission,\"TEXT\",\"READMISSION\", \"BOW-bin\")\n",
        "df_rea_bf, df_rea_bf_delta_W, df_rea_bf_delta_N = outcome_anaylsis(df_readmission,\"TEXT\",\"READMISSION\", \"BOW-freq\")\n",
        "df_rea_bertpool, df_rea_bertpool_delta_W, df_rea_bertpool_delta_N = outcome_anaylsis(df_readmission,\"TEXT\",\"READMISSION\", \"BERT_POOL\")\n",
        "df_rea_bertcls, df_rea_bertcls_delta_W, df_rea_bertcls_delta_N = outcome_anaylsis(df_readmission,\"TEXT\",\"READMISSION\", \"BERT_CLS\")\n",
        "\n",
        "\n"
      ],
      "execution_count": 12,
      "outputs": [
        {
          "output_type": "stream",
          "text": [
            "M: 451 | F: 877\n",
            "(sparse BOW)\n",
            "(sparse BOW)\n",
            "(sparse BOW)\n",
            "(sparse BOW)\n",
            "[running seed: 0]\n"
          ],
          "name": "stdout"
        },
        {
          "output_type": "stream",
          "text": [
            "/usr/local/lib/python3.6/dist-packages/sklearn/metrics/_classification.py:1272: UndefinedMetricWarning: Recall and F-score are ill-defined and being set to 0.0 in labels with no true samples. Use `zero_division` parameter to control this behavior.\n",
            "  _warn_prf(average, modifier, msg_start, len(result))\n"
          ],
          "name": "stderr"
        },
        {
          "output_type": "stream",
          "text": [
            "[running seed: 1]\n",
            "[running seed: 2]\n",
            "[running seed: 3]\n",
            "[running seed: 4]\n",
            "[running seed: 5]\n",
            "[running seed: 6]\n",
            "[running seed: 7]\n",
            "[running seed: 8]\n",
            "[running seed: 9]\n",
            "[running seed: 10]\n",
            "[running seed: 11]\n",
            "[running seed: 12]\n",
            "[running seed: 13]\n",
            "[running seed: 14]\n",
            "[running seed: 15]\n",
            "[running seed: 16]\n",
            "[running seed: 17]\n",
            "[running seed: 18]\n",
            "[running seed: 19]\n",
            "M: 119 | F: 1209\n",
            "(sparse BOW)\n",
            "(sparse BOW)\n",
            "(sparse BOW)\n",
            "(sparse BOW)\n",
            "[running seed: 0]\n",
            "[running seed: 1]\n",
            "[running seed: 2]\n",
            "[running seed: 3]\n",
            "[running seed: 4]\n",
            "[running seed: 5]\n",
            "[running seed: 6]\n",
            "[running seed: 7]\n",
            "[running seed: 8]\n",
            "[running seed: 9]\n",
            "[running seed: 10]\n",
            "[running seed: 11]\n",
            "[running seed: 12]\n",
            "[running seed: 13]\n",
            "[running seed: 14]\n",
            "[running seed: 15]\n",
            "[running seed: 16]\n",
            "[running seed: 17]\n",
            "[running seed: 18]\n",
            "[running seed: 19]\n",
            "M: 451 | F: 877\n",
            "(sparse BOW)\n",
            "(sparse BOW)\n",
            "(sparse BOW)\n",
            "(sparse BOW)\n",
            "[running seed: 0]\n",
            "[running seed: 1]\n",
            "[running seed: 2]\n",
            "[running seed: 3]\n",
            "[running seed: 4]\n",
            "[running seed: 5]\n",
            "[running seed: 6]\n",
            "[running seed: 7]\n",
            "[running seed: 8]\n",
            "[running seed: 9]\n",
            "[running seed: 10]\n",
            "[running seed: 11]\n",
            "[running seed: 12]\n",
            "[running seed: 13]\n",
            "[running seed: 14]\n",
            "[running seed: 15]\n",
            "[running seed: 16]\n",
            "[running seed: 17]\n",
            "[running seed: 18]\n",
            "[running seed: 19]\n",
            "M: 119 | F: 1209\n",
            "(sparse BOW)\n",
            "(sparse BOW)\n",
            "(sparse BOW)\n",
            "(sparse BOW)\n",
            "[running seed: 0]\n",
            "[running seed: 1]\n",
            "[running seed: 2]\n",
            "[running seed: 3]\n",
            "[running seed: 4]\n",
            "[running seed: 5]\n",
            "[running seed: 6]\n",
            "[running seed: 7]\n",
            "[running seed: 8]\n",
            "[running seed: 9]\n",
            "[running seed: 10]\n",
            "[running seed: 11]\n",
            "[running seed: 12]\n",
            "[running seed: 13]\n",
            "[running seed: 14]\n",
            "[running seed: 15]\n",
            "[running seed: 16]\n",
            "[running seed: 17]\n",
            "[running seed: 18]\n",
            "[running seed: 19]\n",
            "M: 451 | F: 877\n",
            "\n",
            "batch:1/27 (size: 200)[max len: 510]\n",
            "\n",
            "batch:2/27 (size: 200)[max len: 510]\n",
            "\n",
            "batch:3/27 (size: 200)[max len: 510]\n",
            "\n",
            "batch:4/27 (size: 200)[max len: 510]\n",
            "\n",
            "batch:5/27 (size: 200)[max len: 510]\n",
            "\n",
            "batch:6/27 (size: 200)[max len: 510]\n",
            "\n",
            "batch:7/27 (size: 200)[max len: 510]\n",
            "\n",
            "batch:8/27 (size: 200)[max len: 510]\n",
            "\n",
            "batch:9/27 (size: 200)[max len: 510]\n",
            "\n",
            "batch:10/27 (size: 200)[max len: 510]\n",
            "\n",
            "batch:11/27 (size: 200)[max len: 510]\n",
            "\n",
            "batch:12/27 (size: 200)[max len: 510]\n",
            "\n",
            "batch:13/27 (size: 200)[max len: 510]\n",
            "\n",
            "batch:14/27 (size: 200)[max len: 510]\n",
            "\n",
            "batch:15/27 (size: 200)[max len: 510]\n",
            "\n",
            "batch:16/27 (size: 200)[max len: 510]\n",
            "\n",
            "batch:17/27 (size: 200)[max len: 510]\n",
            "\n",
            "batch:18/27 (size: 200)[max len: 510]\n",
            "\n",
            "batch:19/27 (size: 200)[max len: 510]\n",
            "\n",
            "batch:20/27 (size: 200)[max len: 510]\n",
            "\n",
            "batch:21/27 (size: 200)[max len: 510]\n",
            "\n",
            "batch:22/27 (size: 200)[max len: 510]\n",
            "\n",
            "batch:23/27 (size: 200)[max len: 510]\n",
            "\n",
            "batch:24/27 (size: 200)[max len: 510]\n",
            "\n",
            "batch:25/27 (size: 200)[max len: 510]\n",
            "\n",
            "batch:26/27 (size: 200)[max len: 510]\n",
            "\n",
            "batch:27/27 (size: 104)[max len: 510]\n",
            "\n",
            "batch:1/3 (size: 200)[max len: 510]\n",
            "\n",
            "batch:2/3 (size: 200)[max len: 510]\n",
            "\n",
            "batch:3/3 (size: 51)[max len: 510]\n",
            "\n",
            "batch:1/5 (size: 200)[max len: 510]\n",
            "\n",
            "batch:2/5 (size: 200)[max len: 510]\n",
            "\n",
            "batch:3/5 (size: 200)[max len: 510]\n",
            "\n",
            "batch:4/5 (size: 200)[max len: 510]\n",
            "\n",
            "batch:5/5 (size: 77)[max len: 510]\n",
            "\n",
            "batch:1/7 (size: 200)[max len: 510]\n",
            "\n",
            "batch:2/7 (size: 200)[max len: 510]\n",
            "\n",
            "batch:3/7 (size: 200)[max len: 510]\n",
            "\n",
            "batch:4/7 (size: 200)[max len: 510]\n",
            "\n",
            "batch:5/7 (size: 200)[max len: 510]\n",
            "\n",
            "batch:6/7 (size: 200)[max len: 510]\n",
            "\n",
            "batch:7/7 (size: 128)[max len: 510]\n",
            "[running seed: 0]\n"
          ],
          "name": "stdout"
        },
        {
          "output_type": "stream",
          "text": [
            "/usr/local/lib/python3.6/dist-packages/sklearn/metrics/_classification.py:1272: UndefinedMetricWarning: Recall and F-score are ill-defined and being set to 0.0 in labels with no true samples. Use `zero_division` parameter to control this behavior.\n",
            "  _warn_prf(average, modifier, msg_start, len(result))\n"
          ],
          "name": "stderr"
        },
        {
          "output_type": "stream",
          "text": [
            "[running seed: 1]\n"
          ],
          "name": "stdout"
        },
        {
          "output_type": "stream",
          "text": [
            "/usr/local/lib/python3.6/dist-packages/sklearn/metrics/_classification.py:1272: UndefinedMetricWarning: Recall and F-score are ill-defined and being set to 0.0 in labels with no true samples. Use `zero_division` parameter to control this behavior.\n",
            "  _warn_prf(average, modifier, msg_start, len(result))\n"
          ],
          "name": "stderr"
        },
        {
          "output_type": "stream",
          "text": [
            "[running seed: 2]\n"
          ],
          "name": "stdout"
        },
        {
          "output_type": "stream",
          "text": [
            "/usr/local/lib/python3.6/dist-packages/sklearn/metrics/_classification.py:1272: UndefinedMetricWarning: Recall and F-score are ill-defined and being set to 0.0 in labels with no true samples. Use `zero_division` parameter to control this behavior.\n",
            "  _warn_prf(average, modifier, msg_start, len(result))\n"
          ],
          "name": "stderr"
        },
        {
          "output_type": "stream",
          "text": [
            "[running seed: 3]\n"
          ],
          "name": "stdout"
        },
        {
          "output_type": "stream",
          "text": [
            "/usr/local/lib/python3.6/dist-packages/sklearn/metrics/_classification.py:1272: UndefinedMetricWarning: Recall and F-score are ill-defined and being set to 0.0 in labels with no true samples. Use `zero_division` parameter to control this behavior.\n",
            "  _warn_prf(average, modifier, msg_start, len(result))\n"
          ],
          "name": "stderr"
        },
        {
          "output_type": "stream",
          "text": [
            "[running seed: 4]\n"
          ],
          "name": "stdout"
        },
        {
          "output_type": "stream",
          "text": [
            "/usr/local/lib/python3.6/dist-packages/sklearn/metrics/_classification.py:1272: UndefinedMetricWarning: Recall and F-score are ill-defined and being set to 0.0 in labels with no true samples. Use `zero_division` parameter to control this behavior.\n",
            "  _warn_prf(average, modifier, msg_start, len(result))\n"
          ],
          "name": "stderr"
        },
        {
          "output_type": "stream",
          "text": [
            "[running seed: 5]\n"
          ],
          "name": "stdout"
        },
        {
          "output_type": "stream",
          "text": [
            "/usr/local/lib/python3.6/dist-packages/sklearn/metrics/_classification.py:1272: UndefinedMetricWarning: Recall and F-score are ill-defined and being set to 0.0 in labels with no true samples. Use `zero_division` parameter to control this behavior.\n",
            "  _warn_prf(average, modifier, msg_start, len(result))\n"
          ],
          "name": "stderr"
        },
        {
          "output_type": "stream",
          "text": [
            "[running seed: 6]\n"
          ],
          "name": "stdout"
        },
        {
          "output_type": "stream",
          "text": [
            "/usr/local/lib/python3.6/dist-packages/sklearn/metrics/_classification.py:1272: UndefinedMetricWarning: Recall and F-score are ill-defined and being set to 0.0 in labels with no true samples. Use `zero_division` parameter to control this behavior.\n",
            "  _warn_prf(average, modifier, msg_start, len(result))\n"
          ],
          "name": "stderr"
        },
        {
          "output_type": "stream",
          "text": [
            "[running seed: 7]\n"
          ],
          "name": "stdout"
        },
        {
          "output_type": "stream",
          "text": [
            "/usr/local/lib/python3.6/dist-packages/sklearn/metrics/_classification.py:1272: UndefinedMetricWarning: Recall and F-score are ill-defined and being set to 0.0 in labels with no true samples. Use `zero_division` parameter to control this behavior.\n",
            "  _warn_prf(average, modifier, msg_start, len(result))\n"
          ],
          "name": "stderr"
        },
        {
          "output_type": "stream",
          "text": [
            "[running seed: 8]\n"
          ],
          "name": "stdout"
        },
        {
          "output_type": "stream",
          "text": [
            "/usr/local/lib/python3.6/dist-packages/sklearn/metrics/_classification.py:1272: UndefinedMetricWarning: Recall and F-score are ill-defined and being set to 0.0 in labels with no true samples. Use `zero_division` parameter to control this behavior.\n",
            "  _warn_prf(average, modifier, msg_start, len(result))\n"
          ],
          "name": "stderr"
        },
        {
          "output_type": "stream",
          "text": [
            "[running seed: 9]\n"
          ],
          "name": "stdout"
        },
        {
          "output_type": "stream",
          "text": [
            "/usr/local/lib/python3.6/dist-packages/sklearn/metrics/_classification.py:1272: UndefinedMetricWarning: Recall and F-score are ill-defined and being set to 0.0 in labels with no true samples. Use `zero_division` parameter to control this behavior.\n",
            "  _warn_prf(average, modifier, msg_start, len(result))\n"
          ],
          "name": "stderr"
        },
        {
          "output_type": "stream",
          "text": [
            "[running seed: 10]\n"
          ],
          "name": "stdout"
        },
        {
          "output_type": "stream",
          "text": [
            "/usr/local/lib/python3.6/dist-packages/sklearn/metrics/_classification.py:1272: UndefinedMetricWarning: Recall and F-score are ill-defined and being set to 0.0 in labels with no true samples. Use `zero_division` parameter to control this behavior.\n",
            "  _warn_prf(average, modifier, msg_start, len(result))\n"
          ],
          "name": "stderr"
        },
        {
          "output_type": "stream",
          "text": [
            "[running seed: 11]\n"
          ],
          "name": "stdout"
        },
        {
          "output_type": "stream",
          "text": [
            "/usr/local/lib/python3.6/dist-packages/sklearn/metrics/_classification.py:1272: UndefinedMetricWarning: Recall and F-score are ill-defined and being set to 0.0 in labels with no true samples. Use `zero_division` parameter to control this behavior.\n",
            "  _warn_prf(average, modifier, msg_start, len(result))\n"
          ],
          "name": "stderr"
        },
        {
          "output_type": "stream",
          "text": [
            "[running seed: 12]\n"
          ],
          "name": "stdout"
        },
        {
          "output_type": "stream",
          "text": [
            "/usr/local/lib/python3.6/dist-packages/sklearn/metrics/_classification.py:1272: UndefinedMetricWarning: Recall and F-score are ill-defined and being set to 0.0 in labels with no true samples. Use `zero_division` parameter to control this behavior.\n",
            "  _warn_prf(average, modifier, msg_start, len(result))\n"
          ],
          "name": "stderr"
        },
        {
          "output_type": "stream",
          "text": [
            "[running seed: 13]\n"
          ],
          "name": "stdout"
        },
        {
          "output_type": "stream",
          "text": [
            "/usr/local/lib/python3.6/dist-packages/sklearn/metrics/_classification.py:1272: UndefinedMetricWarning: Recall and F-score are ill-defined and being set to 0.0 in labels with no true samples. Use `zero_division` parameter to control this behavior.\n",
            "  _warn_prf(average, modifier, msg_start, len(result))\n"
          ],
          "name": "stderr"
        },
        {
          "output_type": "stream",
          "text": [
            "[running seed: 14]\n"
          ],
          "name": "stdout"
        },
        {
          "output_type": "stream",
          "text": [
            "/usr/local/lib/python3.6/dist-packages/sklearn/metrics/_classification.py:1272: UndefinedMetricWarning: Recall and F-score are ill-defined and being set to 0.0 in labels with no true samples. Use `zero_division` parameter to control this behavior.\n",
            "  _warn_prf(average, modifier, msg_start, len(result))\n"
          ],
          "name": "stderr"
        },
        {
          "output_type": "stream",
          "text": [
            "[running seed: 15]\n"
          ],
          "name": "stdout"
        },
        {
          "output_type": "stream",
          "text": [
            "/usr/local/lib/python3.6/dist-packages/sklearn/metrics/_classification.py:1272: UndefinedMetricWarning: Recall and F-score are ill-defined and being set to 0.0 in labels with no true samples. Use `zero_division` parameter to control this behavior.\n",
            "  _warn_prf(average, modifier, msg_start, len(result))\n"
          ],
          "name": "stderr"
        },
        {
          "output_type": "stream",
          "text": [
            "[running seed: 16]\n"
          ],
          "name": "stdout"
        },
        {
          "output_type": "stream",
          "text": [
            "/usr/local/lib/python3.6/dist-packages/sklearn/metrics/_classification.py:1272: UndefinedMetricWarning: Recall and F-score are ill-defined and being set to 0.0 in labels with no true samples. Use `zero_division` parameter to control this behavior.\n",
            "  _warn_prf(average, modifier, msg_start, len(result))\n"
          ],
          "name": "stderr"
        },
        {
          "output_type": "stream",
          "text": [
            "[running seed: 17]\n"
          ],
          "name": "stdout"
        },
        {
          "output_type": "stream",
          "text": [
            "/usr/local/lib/python3.6/dist-packages/sklearn/metrics/_classification.py:1272: UndefinedMetricWarning: Recall and F-score are ill-defined and being set to 0.0 in labels with no true samples. Use `zero_division` parameter to control this behavior.\n",
            "  _warn_prf(average, modifier, msg_start, len(result))\n"
          ],
          "name": "stderr"
        },
        {
          "output_type": "stream",
          "text": [
            "[running seed: 18]\n"
          ],
          "name": "stdout"
        },
        {
          "output_type": "stream",
          "text": [
            "/usr/local/lib/python3.6/dist-packages/sklearn/metrics/_classification.py:1272: UndefinedMetricWarning: Recall and F-score are ill-defined and being set to 0.0 in labels with no true samples. Use `zero_division` parameter to control this behavior.\n",
            "  _warn_prf(average, modifier, msg_start, len(result))\n"
          ],
          "name": "stderr"
        },
        {
          "output_type": "stream",
          "text": [
            "[running seed: 19]\n"
          ],
          "name": "stdout"
        },
        {
          "output_type": "stream",
          "text": [
            "/usr/local/lib/python3.6/dist-packages/sklearn/metrics/_classification.py:1272: UndefinedMetricWarning: Recall and F-score are ill-defined and being set to 0.0 in labels with no true samples. Use `zero_division` parameter to control this behavior.\n",
            "  _warn_prf(average, modifier, msg_start, len(result))\n"
          ],
          "name": "stderr"
        },
        {
          "output_type": "stream",
          "text": [
            "M: 119 | F: 1209\n",
            "\n",
            "batch:1/27 (size: 200)[max len: 510]\n",
            "\n",
            "batch:2/27 (size: 200)[max len: 510]\n",
            "\n",
            "batch:3/27 (size: 200)[max len: 510]\n",
            "\n",
            "batch:4/27 (size: 200)[max len: 510]\n",
            "\n",
            "batch:5/27 (size: 200)[max len: 510]\n",
            "\n",
            "batch:6/27 (size: 200)[max len: 510]\n",
            "\n",
            "batch:7/27 (size: 200)[max len: 510]\n",
            "\n",
            "batch:8/27 (size: 200)[max len: 510]\n",
            "\n",
            "batch:9/27 (size: 200)[max len: 510]\n",
            "\n",
            "batch:10/27 (size: 200)[max len: 510]\n",
            "\n",
            "batch:11/27 (size: 200)[max len: 510]\n",
            "\n",
            "batch:12/27 (size: 200)[max len: 510]\n",
            "\n",
            "batch:13/27 (size: 200)[max len: 510]\n",
            "\n",
            "batch:14/27 (size: 200)[max len: 510]\n",
            "\n",
            "batch:15/27 (size: 200)[max len: 510]\n",
            "\n",
            "batch:16/27 (size: 200)[max len: 510]\n",
            "\n",
            "batch:17/27 (size: 200)[max len: 510]\n",
            "\n",
            "batch:18/27 (size: 200)[max len: 510]\n",
            "\n",
            "batch:19/27 (size: 200)[max len: 510]\n",
            "\n",
            "batch:20/27 (size: 200)[max len: 510]\n",
            "\n",
            "batch:21/27 (size: 200)[max len: 510]\n",
            "\n",
            "batch:22/27 (size: 200)[max len: 510]\n",
            "\n",
            "batch:23/27 (size: 200)[max len: 510]\n",
            "\n",
            "batch:24/27 (size: 200)[max len: 510]\n",
            "\n",
            "batch:25/27 (size: 200)[max len: 510]\n",
            "\n",
            "batch:26/27 (size: 200)[max len: 510]\n",
            "\n",
            "batch:27/27 (size: 104)[max len: 510]\n",
            "\n",
            "batch:1/1 (size: 119)[max len: 510]\n",
            "\n",
            "batch:1/7 (size: 200)[max len: 510]\n",
            "\n",
            "batch:2/7 (size: 200)[max len: 510]\n",
            "\n",
            "batch:3/7 (size: 200)[max len: 510]\n",
            "\n",
            "batch:4/7 (size: 200)[max len: 510]\n",
            "\n",
            "batch:5/7 (size: 200)[max len: 510]\n",
            "\n",
            "batch:6/7 (size: 200)[max len: 510]\n",
            "\n",
            "batch:7/7 (size: 9)[max len: 510]\n",
            "\n",
            "batch:1/7 (size: 200)[max len: 510]\n",
            "\n",
            "batch:2/7 (size: 200)[max len: 510]\n",
            "\n",
            "batch:3/7 (size: 200)[max len: 510]\n",
            "\n",
            "batch:4/7 (size: 200)[max len: 510]\n",
            "\n",
            "batch:5/7 (size: 200)[max len: 510]\n",
            "\n",
            "batch:6/7 (size: 200)[max len: 510]\n",
            "\n",
            "batch:7/7 (size: 128)[max len: 510]\n",
            "[running seed: 0]\n"
          ],
          "name": "stdout"
        },
        {
          "output_type": "stream",
          "text": [
            "/usr/local/lib/python3.6/dist-packages/sklearn/metrics/_classification.py:1272: UndefinedMetricWarning: Recall and F-score are ill-defined and being set to 0.0 in labels with no true samples. Use `zero_division` parameter to control this behavior.\n",
            "  _warn_prf(average, modifier, msg_start, len(result))\n"
          ],
          "name": "stderr"
        },
        {
          "output_type": "stream",
          "text": [
            "[running seed: 1]\n"
          ],
          "name": "stdout"
        },
        {
          "output_type": "stream",
          "text": [
            "/usr/local/lib/python3.6/dist-packages/sklearn/metrics/_classification.py:1272: UndefinedMetricWarning: Recall and F-score are ill-defined and being set to 0.0 in labels with no true samples. Use `zero_division` parameter to control this behavior.\n",
            "  _warn_prf(average, modifier, msg_start, len(result))\n"
          ],
          "name": "stderr"
        },
        {
          "output_type": "stream",
          "text": [
            "[running seed: 2]\n"
          ],
          "name": "stdout"
        },
        {
          "output_type": "stream",
          "text": [
            "/usr/local/lib/python3.6/dist-packages/sklearn/metrics/_classification.py:1272: UndefinedMetricWarning: Recall and F-score are ill-defined and being set to 0.0 in labels with no true samples. Use `zero_division` parameter to control this behavior.\n",
            "  _warn_prf(average, modifier, msg_start, len(result))\n"
          ],
          "name": "stderr"
        },
        {
          "output_type": "stream",
          "text": [
            "[running seed: 3]\n"
          ],
          "name": "stdout"
        },
        {
          "output_type": "stream",
          "text": [
            "/usr/local/lib/python3.6/dist-packages/sklearn/metrics/_classification.py:1272: UndefinedMetricWarning: Recall and F-score are ill-defined and being set to 0.0 in labels with no true samples. Use `zero_division` parameter to control this behavior.\n",
            "  _warn_prf(average, modifier, msg_start, len(result))\n"
          ],
          "name": "stderr"
        },
        {
          "output_type": "stream",
          "text": [
            "[running seed: 4]\n"
          ],
          "name": "stdout"
        },
        {
          "output_type": "stream",
          "text": [
            "/usr/local/lib/python3.6/dist-packages/sklearn/metrics/_classification.py:1272: UndefinedMetricWarning: Recall and F-score are ill-defined and being set to 0.0 in labels with no true samples. Use `zero_division` parameter to control this behavior.\n",
            "  _warn_prf(average, modifier, msg_start, len(result))\n"
          ],
          "name": "stderr"
        },
        {
          "output_type": "stream",
          "text": [
            "[running seed: 5]\n"
          ],
          "name": "stdout"
        },
        {
          "output_type": "stream",
          "text": [
            "/usr/local/lib/python3.6/dist-packages/sklearn/metrics/_classification.py:1272: UndefinedMetricWarning: Recall and F-score are ill-defined and being set to 0.0 in labels with no true samples. Use `zero_division` parameter to control this behavior.\n",
            "  _warn_prf(average, modifier, msg_start, len(result))\n"
          ],
          "name": "stderr"
        },
        {
          "output_type": "stream",
          "text": [
            "[running seed: 6]\n"
          ],
          "name": "stdout"
        },
        {
          "output_type": "stream",
          "text": [
            "/usr/local/lib/python3.6/dist-packages/sklearn/metrics/_classification.py:1272: UndefinedMetricWarning: Recall and F-score are ill-defined and being set to 0.0 in labels with no true samples. Use `zero_division` parameter to control this behavior.\n",
            "  _warn_prf(average, modifier, msg_start, len(result))\n"
          ],
          "name": "stderr"
        },
        {
          "output_type": "stream",
          "text": [
            "[running seed: 7]\n"
          ],
          "name": "stdout"
        },
        {
          "output_type": "stream",
          "text": [
            "/usr/local/lib/python3.6/dist-packages/sklearn/metrics/_classification.py:1272: UndefinedMetricWarning: Recall and F-score are ill-defined and being set to 0.0 in labels with no true samples. Use `zero_division` parameter to control this behavior.\n",
            "  _warn_prf(average, modifier, msg_start, len(result))\n"
          ],
          "name": "stderr"
        },
        {
          "output_type": "stream",
          "text": [
            "[running seed: 8]\n"
          ],
          "name": "stdout"
        },
        {
          "output_type": "stream",
          "text": [
            "/usr/local/lib/python3.6/dist-packages/sklearn/metrics/_classification.py:1272: UndefinedMetricWarning: Recall and F-score are ill-defined and being set to 0.0 in labels with no true samples. Use `zero_division` parameter to control this behavior.\n",
            "  _warn_prf(average, modifier, msg_start, len(result))\n"
          ],
          "name": "stderr"
        },
        {
          "output_type": "stream",
          "text": [
            "[running seed: 9]\n"
          ],
          "name": "stdout"
        },
        {
          "output_type": "stream",
          "text": [
            "/usr/local/lib/python3.6/dist-packages/sklearn/metrics/_classification.py:1272: UndefinedMetricWarning: Recall and F-score are ill-defined and being set to 0.0 in labels with no true samples. Use `zero_division` parameter to control this behavior.\n",
            "  _warn_prf(average, modifier, msg_start, len(result))\n"
          ],
          "name": "stderr"
        },
        {
          "output_type": "stream",
          "text": [
            "[running seed: 10]\n"
          ],
          "name": "stdout"
        },
        {
          "output_type": "stream",
          "text": [
            "/usr/local/lib/python3.6/dist-packages/sklearn/metrics/_classification.py:1272: UndefinedMetricWarning: Recall and F-score are ill-defined and being set to 0.0 in labels with no true samples. Use `zero_division` parameter to control this behavior.\n",
            "  _warn_prf(average, modifier, msg_start, len(result))\n"
          ],
          "name": "stderr"
        },
        {
          "output_type": "stream",
          "text": [
            "[running seed: 11]\n"
          ],
          "name": "stdout"
        },
        {
          "output_type": "stream",
          "text": [
            "/usr/local/lib/python3.6/dist-packages/sklearn/metrics/_classification.py:1272: UndefinedMetricWarning: Recall and F-score are ill-defined and being set to 0.0 in labels with no true samples. Use `zero_division` parameter to control this behavior.\n",
            "  _warn_prf(average, modifier, msg_start, len(result))\n"
          ],
          "name": "stderr"
        },
        {
          "output_type": "stream",
          "text": [
            "[running seed: 12]\n",
            "[running seed: 13]\n"
          ],
          "name": "stdout"
        },
        {
          "output_type": "stream",
          "text": [
            "/usr/local/lib/python3.6/dist-packages/sklearn/metrics/_classification.py:1272: UndefinedMetricWarning: Recall and F-score are ill-defined and being set to 0.0 in labels with no true samples. Use `zero_division` parameter to control this behavior.\n",
            "  _warn_prf(average, modifier, msg_start, len(result))\n"
          ],
          "name": "stderr"
        },
        {
          "output_type": "stream",
          "text": [
            "[running seed: 14]\n"
          ],
          "name": "stdout"
        },
        {
          "output_type": "stream",
          "text": [
            "/usr/local/lib/python3.6/dist-packages/sklearn/metrics/_classification.py:1272: UndefinedMetricWarning: Recall and F-score are ill-defined and being set to 0.0 in labels with no true samples. Use `zero_division` parameter to control this behavior.\n",
            "  _warn_prf(average, modifier, msg_start, len(result))\n"
          ],
          "name": "stderr"
        },
        {
          "output_type": "stream",
          "text": [
            "[running seed: 15]\n"
          ],
          "name": "stdout"
        },
        {
          "output_type": "stream",
          "text": [
            "/usr/local/lib/python3.6/dist-packages/sklearn/metrics/_classification.py:1272: UndefinedMetricWarning: Recall and F-score are ill-defined and being set to 0.0 in labels with no true samples. Use `zero_division` parameter to control this behavior.\n",
            "  _warn_prf(average, modifier, msg_start, len(result))\n"
          ],
          "name": "stderr"
        },
        {
          "output_type": "stream",
          "text": [
            "[running seed: 16]\n"
          ],
          "name": "stdout"
        },
        {
          "output_type": "stream",
          "text": [
            "/usr/local/lib/python3.6/dist-packages/sklearn/metrics/_classification.py:1272: UndefinedMetricWarning: Recall and F-score are ill-defined and being set to 0.0 in labels with no true samples. Use `zero_division` parameter to control this behavior.\n",
            "  _warn_prf(average, modifier, msg_start, len(result))\n"
          ],
          "name": "stderr"
        },
        {
          "output_type": "stream",
          "text": [
            "[running seed: 17]\n"
          ],
          "name": "stdout"
        },
        {
          "output_type": "stream",
          "text": [
            "/usr/local/lib/python3.6/dist-packages/sklearn/metrics/_classification.py:1272: UndefinedMetricWarning: Recall and F-score are ill-defined and being set to 0.0 in labels with no true samples. Use `zero_division` parameter to control this behavior.\n",
            "  _warn_prf(average, modifier, msg_start, len(result))\n"
          ],
          "name": "stderr"
        },
        {
          "output_type": "stream",
          "text": [
            "[running seed: 18]\n"
          ],
          "name": "stdout"
        },
        {
          "output_type": "stream",
          "text": [
            "/usr/local/lib/python3.6/dist-packages/sklearn/metrics/_classification.py:1272: UndefinedMetricWarning: Recall and F-score are ill-defined and being set to 0.0 in labels with no true samples. Use `zero_division` parameter to control this behavior.\n",
            "  _warn_prf(average, modifier, msg_start, len(result))\n"
          ],
          "name": "stderr"
        },
        {
          "output_type": "stream",
          "text": [
            "[running seed: 19]\n"
          ],
          "name": "stdout"
        },
        {
          "output_type": "stream",
          "text": [
            "/usr/local/lib/python3.6/dist-packages/sklearn/metrics/_classification.py:1272: UndefinedMetricWarning: Recall and F-score are ill-defined and being set to 0.0 in labels with no true samples. Use `zero_division` parameter to control this behavior.\n",
            "  _warn_prf(average, modifier, msg_start, len(result))\n"
          ],
          "name": "stderr"
        },
        {
          "output_type": "stream",
          "text": [
            "M: 451 | F: 877\n",
            "\n",
            "batch:1/27 (size: 200)[max len: 510]\n",
            "\n",
            "batch:2/27 (size: 200)[max len: 510]\n",
            "\n",
            "batch:3/27 (size: 200)[max len: 510]\n",
            "\n",
            "batch:4/27 (size: 200)[max len: 510]\n",
            "\n",
            "batch:5/27 (size: 200)[max len: 510]\n",
            "\n",
            "batch:6/27 (size: 200)[max len: 510]\n",
            "\n",
            "batch:7/27 (size: 200)[max len: 510]\n",
            "\n",
            "batch:8/27 (size: 200)[max len: 510]\n",
            "\n",
            "batch:9/27 (size: 200)[max len: 510]\n",
            "\n",
            "batch:10/27 (size: 200)[max len: 510]\n",
            "\n",
            "batch:11/27 (size: 200)[max len: 510]\n",
            "\n",
            "batch:12/27 (size: 200)[max len: 510]\n",
            "\n",
            "batch:13/27 (size: 200)[max len: 510]\n",
            "\n",
            "batch:14/27 (size: 200)[max len: 510]\n",
            "\n",
            "batch:15/27 (size: 200)[max len: 510]\n",
            "\n",
            "batch:16/27 (size: 200)[max len: 510]\n",
            "\n",
            "batch:17/27 (size: 200)[max len: 510]\n",
            "\n",
            "batch:18/27 (size: 200)[max len: 510]\n",
            "\n",
            "batch:19/27 (size: 200)[max len: 510]\n",
            "\n",
            "batch:20/27 (size: 200)[max len: 510]\n",
            "\n",
            "batch:21/27 (size: 200)[max len: 510]\n",
            "\n",
            "batch:22/27 (size: 200)[max len: 510]\n",
            "\n",
            "batch:23/27 (size: 200)[max len: 510]\n",
            "\n",
            "batch:24/27 (size: 200)[max len: 510]\n",
            "\n",
            "batch:25/27 (size: 200)[max len: 510]\n",
            "\n",
            "batch:26/27 (size: 200)[max len: 510]\n",
            "\n",
            "batch:27/27 (size: 104)[max len: 510]\n",
            "\n",
            "batch:1/3 (size: 200)[max len: 510]\n",
            "\n",
            "batch:2/3 (size: 200)[max len: 510]\n",
            "\n",
            "batch:3/3 (size: 51)[max len: 510]\n",
            "\n",
            "batch:1/5 (size: 200)[max len: 510]\n",
            "\n",
            "batch:2/5 (size: 200)[max len: 510]\n",
            "\n",
            "batch:3/5 (size: 200)[max len: 510]\n",
            "\n",
            "batch:4/5 (size: 200)[max len: 510]\n",
            "\n",
            "batch:5/5 (size: 77)[max len: 510]\n",
            "\n",
            "batch:1/7 (size: 200)[max len: 510]\n",
            "\n",
            "batch:2/7 (size: 200)[max len: 510]\n",
            "\n",
            "batch:3/7 (size: 200)[max len: 510]\n",
            "\n",
            "batch:4/7 (size: 200)[max len: 510]\n",
            "\n",
            "batch:5/7 (size: 200)[max len: 510]\n",
            "\n",
            "batch:6/7 (size: 200)[max len: 510]\n",
            "\n",
            "batch:7/7 (size: 128)[max len: 510]\n",
            "[running seed: 0]\n"
          ],
          "name": "stdout"
        },
        {
          "output_type": "stream",
          "text": [
            "/usr/local/lib/python3.6/dist-packages/sklearn/metrics/_classification.py:1272: UndefinedMetricWarning: Recall and F-score are ill-defined and being set to 0.0 in labels with no true samples. Use `zero_division` parameter to control this behavior.\n",
            "  _warn_prf(average, modifier, msg_start, len(result))\n"
          ],
          "name": "stderr"
        },
        {
          "output_type": "stream",
          "text": [
            "[running seed: 1]\n"
          ],
          "name": "stdout"
        },
        {
          "output_type": "stream",
          "text": [
            "/usr/local/lib/python3.6/dist-packages/sklearn/metrics/_classification.py:1272: UndefinedMetricWarning: Recall and F-score are ill-defined and being set to 0.0 in labels with no true samples. Use `zero_division` parameter to control this behavior.\n",
            "  _warn_prf(average, modifier, msg_start, len(result))\n"
          ],
          "name": "stderr"
        },
        {
          "output_type": "stream",
          "text": [
            "[running seed: 2]\n"
          ],
          "name": "stdout"
        },
        {
          "output_type": "stream",
          "text": [
            "/usr/local/lib/python3.6/dist-packages/sklearn/metrics/_classification.py:1272: UndefinedMetricWarning: Recall and F-score are ill-defined and being set to 0.0 in labels with no true samples. Use `zero_division` parameter to control this behavior.\n",
            "  _warn_prf(average, modifier, msg_start, len(result))\n"
          ],
          "name": "stderr"
        },
        {
          "output_type": "stream",
          "text": [
            "[running seed: 3]\n"
          ],
          "name": "stdout"
        },
        {
          "output_type": "stream",
          "text": [
            "/usr/local/lib/python3.6/dist-packages/sklearn/metrics/_classification.py:1272: UndefinedMetricWarning: Recall and F-score are ill-defined and being set to 0.0 in labels with no true samples. Use `zero_division` parameter to control this behavior.\n",
            "  _warn_prf(average, modifier, msg_start, len(result))\n"
          ],
          "name": "stderr"
        },
        {
          "output_type": "stream",
          "text": [
            "[running seed: 4]\n"
          ],
          "name": "stdout"
        },
        {
          "output_type": "stream",
          "text": [
            "/usr/local/lib/python3.6/dist-packages/sklearn/metrics/_classification.py:1272: UndefinedMetricWarning: Recall and F-score are ill-defined and being set to 0.0 in labels with no true samples. Use `zero_division` parameter to control this behavior.\n",
            "  _warn_prf(average, modifier, msg_start, len(result))\n"
          ],
          "name": "stderr"
        },
        {
          "output_type": "stream",
          "text": [
            "[running seed: 5]\n"
          ],
          "name": "stdout"
        },
        {
          "output_type": "stream",
          "text": [
            "/usr/local/lib/python3.6/dist-packages/sklearn/metrics/_classification.py:1272: UndefinedMetricWarning: Recall and F-score are ill-defined and being set to 0.0 in labels with no true samples. Use `zero_division` parameter to control this behavior.\n",
            "  _warn_prf(average, modifier, msg_start, len(result))\n"
          ],
          "name": "stderr"
        },
        {
          "output_type": "stream",
          "text": [
            "[running seed: 6]\n"
          ],
          "name": "stdout"
        },
        {
          "output_type": "stream",
          "text": [
            "/usr/local/lib/python3.6/dist-packages/sklearn/metrics/_classification.py:1272: UndefinedMetricWarning: Recall and F-score are ill-defined and being set to 0.0 in labels with no true samples. Use `zero_division` parameter to control this behavior.\n",
            "  _warn_prf(average, modifier, msg_start, len(result))\n"
          ],
          "name": "stderr"
        },
        {
          "output_type": "stream",
          "text": [
            "[running seed: 7]\n"
          ],
          "name": "stdout"
        },
        {
          "output_type": "stream",
          "text": [
            "/usr/local/lib/python3.6/dist-packages/sklearn/metrics/_classification.py:1272: UndefinedMetricWarning: Recall and F-score are ill-defined and being set to 0.0 in labels with no true samples. Use `zero_division` parameter to control this behavior.\n",
            "  _warn_prf(average, modifier, msg_start, len(result))\n"
          ],
          "name": "stderr"
        },
        {
          "output_type": "stream",
          "text": [
            "[running seed: 8]\n"
          ],
          "name": "stdout"
        },
        {
          "output_type": "stream",
          "text": [
            "/usr/local/lib/python3.6/dist-packages/sklearn/metrics/_classification.py:1272: UndefinedMetricWarning: Recall and F-score are ill-defined and being set to 0.0 in labels with no true samples. Use `zero_division` parameter to control this behavior.\n",
            "  _warn_prf(average, modifier, msg_start, len(result))\n"
          ],
          "name": "stderr"
        },
        {
          "output_type": "stream",
          "text": [
            "[running seed: 9]\n"
          ],
          "name": "stdout"
        },
        {
          "output_type": "stream",
          "text": [
            "/usr/local/lib/python3.6/dist-packages/sklearn/metrics/_classification.py:1272: UndefinedMetricWarning: Recall and F-score are ill-defined and being set to 0.0 in labels with no true samples. Use `zero_division` parameter to control this behavior.\n",
            "  _warn_prf(average, modifier, msg_start, len(result))\n"
          ],
          "name": "stderr"
        },
        {
          "output_type": "stream",
          "text": [
            "[running seed: 10]\n"
          ],
          "name": "stdout"
        },
        {
          "output_type": "stream",
          "text": [
            "/usr/local/lib/python3.6/dist-packages/sklearn/metrics/_classification.py:1272: UndefinedMetricWarning: Recall and F-score are ill-defined and being set to 0.0 in labels with no true samples. Use `zero_division` parameter to control this behavior.\n",
            "  _warn_prf(average, modifier, msg_start, len(result))\n"
          ],
          "name": "stderr"
        },
        {
          "output_type": "stream",
          "text": [
            "[running seed: 11]\n"
          ],
          "name": "stdout"
        },
        {
          "output_type": "stream",
          "text": [
            "/usr/local/lib/python3.6/dist-packages/sklearn/metrics/_classification.py:1272: UndefinedMetricWarning: Recall and F-score are ill-defined and being set to 0.0 in labels with no true samples. Use `zero_division` parameter to control this behavior.\n",
            "  _warn_prf(average, modifier, msg_start, len(result))\n"
          ],
          "name": "stderr"
        },
        {
          "output_type": "stream",
          "text": [
            "[running seed: 12]\n"
          ],
          "name": "stdout"
        },
        {
          "output_type": "stream",
          "text": [
            "/usr/local/lib/python3.6/dist-packages/sklearn/metrics/_classification.py:1272: UndefinedMetricWarning: Recall and F-score are ill-defined and being set to 0.0 in labels with no true samples. Use `zero_division` parameter to control this behavior.\n",
            "  _warn_prf(average, modifier, msg_start, len(result))\n"
          ],
          "name": "stderr"
        },
        {
          "output_type": "stream",
          "text": [
            "[running seed: 13]\n"
          ],
          "name": "stdout"
        },
        {
          "output_type": "stream",
          "text": [
            "/usr/local/lib/python3.6/dist-packages/sklearn/metrics/_classification.py:1272: UndefinedMetricWarning: Recall and F-score are ill-defined and being set to 0.0 in labels with no true samples. Use `zero_division` parameter to control this behavior.\n",
            "  _warn_prf(average, modifier, msg_start, len(result))\n"
          ],
          "name": "stderr"
        },
        {
          "output_type": "stream",
          "text": [
            "[running seed: 14]\n"
          ],
          "name": "stdout"
        },
        {
          "output_type": "stream",
          "text": [
            "/usr/local/lib/python3.6/dist-packages/sklearn/metrics/_classification.py:1272: UndefinedMetricWarning: Recall and F-score are ill-defined and being set to 0.0 in labels with no true samples. Use `zero_division` parameter to control this behavior.\n",
            "  _warn_prf(average, modifier, msg_start, len(result))\n"
          ],
          "name": "stderr"
        },
        {
          "output_type": "stream",
          "text": [
            "[running seed: 15]\n"
          ],
          "name": "stdout"
        },
        {
          "output_type": "stream",
          "text": [
            "/usr/local/lib/python3.6/dist-packages/sklearn/metrics/_classification.py:1272: UndefinedMetricWarning: Recall and F-score are ill-defined and being set to 0.0 in labels with no true samples. Use `zero_division` parameter to control this behavior.\n",
            "  _warn_prf(average, modifier, msg_start, len(result))\n"
          ],
          "name": "stderr"
        },
        {
          "output_type": "stream",
          "text": [
            "[running seed: 16]\n"
          ],
          "name": "stdout"
        },
        {
          "output_type": "stream",
          "text": [
            "/usr/local/lib/python3.6/dist-packages/sklearn/metrics/_classification.py:1272: UndefinedMetricWarning: Recall and F-score are ill-defined and being set to 0.0 in labels with no true samples. Use `zero_division` parameter to control this behavior.\n",
            "  _warn_prf(average, modifier, msg_start, len(result))\n"
          ],
          "name": "stderr"
        },
        {
          "output_type": "stream",
          "text": [
            "[running seed: 17]\n"
          ],
          "name": "stdout"
        },
        {
          "output_type": "stream",
          "text": [
            "/usr/local/lib/python3.6/dist-packages/sklearn/metrics/_classification.py:1272: UndefinedMetricWarning: Recall and F-score are ill-defined and being set to 0.0 in labels with no true samples. Use `zero_division` parameter to control this behavior.\n",
            "  _warn_prf(average, modifier, msg_start, len(result))\n"
          ],
          "name": "stderr"
        },
        {
          "output_type": "stream",
          "text": [
            "[running seed: 18]\n"
          ],
          "name": "stdout"
        },
        {
          "output_type": "stream",
          "text": [
            "/usr/local/lib/python3.6/dist-packages/sklearn/metrics/_classification.py:1272: UndefinedMetricWarning: Recall and F-score are ill-defined and being set to 0.0 in labels with no true samples. Use `zero_division` parameter to control this behavior.\n",
            "  _warn_prf(average, modifier, msg_start, len(result))\n"
          ],
          "name": "stderr"
        },
        {
          "output_type": "stream",
          "text": [
            "[running seed: 19]\n"
          ],
          "name": "stdout"
        },
        {
          "output_type": "stream",
          "text": [
            "/usr/local/lib/python3.6/dist-packages/sklearn/metrics/_classification.py:1272: UndefinedMetricWarning: Recall and F-score are ill-defined and being set to 0.0 in labels with no true samples. Use `zero_division` parameter to control this behavior.\n",
            "  _warn_prf(average, modifier, msg_start, len(result))\n"
          ],
          "name": "stderr"
        },
        {
          "output_type": "stream",
          "text": [
            "M: 119 | F: 1209\n",
            "\n",
            "batch:1/27 (size: 200)[max len: 510]\n",
            "\n",
            "batch:2/27 (size: 200)[max len: 510]\n",
            "\n",
            "batch:3/27 (size: 200)[max len: 510]\n",
            "\n",
            "batch:4/27 (size: 200)[max len: 510]\n",
            "\n",
            "batch:5/27 (size: 200)[max len: 510]\n",
            "\n",
            "batch:6/27 (size: 200)[max len: 510]\n",
            "\n",
            "batch:7/27 (size: 200)[max len: 510]\n",
            "\n",
            "batch:8/27 (size: 200)[max len: 510]\n",
            "\n",
            "batch:9/27 (size: 200)[max len: 510]\n",
            "\n",
            "batch:10/27 (size: 200)[max len: 510]\n",
            "\n",
            "batch:11/27 (size: 200)[max len: 510]\n",
            "\n",
            "batch:12/27 (size: 200)[max len: 510]\n",
            "\n",
            "batch:13/27 (size: 200)[max len: 510]\n",
            "\n",
            "batch:14/27 (size: 200)[max len: 510]\n",
            "\n",
            "batch:15/27 (size: 200)[max len: 510]\n",
            "\n",
            "batch:16/27 (size: 200)[max len: 510]\n",
            "\n",
            "batch:17/27 (size: 200)[max len: 510]\n",
            "\n",
            "batch:18/27 (size: 200)[max len: 510]\n",
            "\n",
            "batch:19/27 (size: 200)[max len: 510]\n",
            "\n",
            "batch:20/27 (size: 200)[max len: 510]\n",
            "\n",
            "batch:21/27 (size: 200)[max len: 510]\n",
            "\n",
            "batch:22/27 (size: 200)[max len: 510]\n",
            "\n",
            "batch:23/27 (size: 200)[max len: 510]\n",
            "\n",
            "batch:24/27 (size: 200)[max len: 510]\n",
            "\n",
            "batch:25/27 (size: 200)[max len: 510]\n",
            "\n",
            "batch:26/27 (size: 200)[max len: 510]\n",
            "\n",
            "batch:27/27 (size: 104)[max len: 510]\n",
            "\n",
            "batch:1/1 (size: 119)[max len: 510]\n",
            "\n",
            "batch:1/7 (size: 200)[max len: 510]\n",
            "\n",
            "batch:2/7 (size: 200)[max len: 510]\n",
            "\n",
            "batch:3/7 (size: 200)[max len: 510]\n",
            "\n",
            "batch:4/7 (size: 200)[max len: 510]\n",
            "\n",
            "batch:5/7 (size: 200)[max len: 510]\n",
            "\n",
            "batch:6/7 (size: 200)[max len: 510]\n",
            "\n",
            "batch:7/7 (size: 9)[max len: 510]\n",
            "\n",
            "batch:1/7 (size: 200)[max len: 510]\n",
            "\n",
            "batch:2/7 (size: 200)[max len: 510]\n",
            "\n",
            "batch:3/7 (size: 200)[max len: 510]\n",
            "\n",
            "batch:4/7 (size: 200)[max len: 510]\n",
            "\n",
            "batch:5/7 (size: 200)[max len: 510]\n",
            "\n",
            "batch:6/7 (size: 200)[max len: 510]\n",
            "\n",
            "batch:7/7 (size: 128)[max len: 510]\n",
            "[running seed: 0]\n"
          ],
          "name": "stdout"
        },
        {
          "output_type": "stream",
          "text": [
            "/usr/local/lib/python3.6/dist-packages/sklearn/metrics/_classification.py:1272: UndefinedMetricWarning: Recall and F-score are ill-defined and being set to 0.0 in labels with no true samples. Use `zero_division` parameter to control this behavior.\n",
            "  _warn_prf(average, modifier, msg_start, len(result))\n"
          ],
          "name": "stderr"
        },
        {
          "output_type": "stream",
          "text": [
            "[running seed: 1]\n"
          ],
          "name": "stdout"
        },
        {
          "output_type": "stream",
          "text": [
            "/usr/local/lib/python3.6/dist-packages/sklearn/metrics/_classification.py:1272: UndefinedMetricWarning: Recall and F-score are ill-defined and being set to 0.0 in labels with no true samples. Use `zero_division` parameter to control this behavior.\n",
            "  _warn_prf(average, modifier, msg_start, len(result))\n"
          ],
          "name": "stderr"
        },
        {
          "output_type": "stream",
          "text": [
            "[running seed: 2]\n"
          ],
          "name": "stdout"
        },
        {
          "output_type": "stream",
          "text": [
            "/usr/local/lib/python3.6/dist-packages/sklearn/metrics/_classification.py:1272: UndefinedMetricWarning: Recall and F-score are ill-defined and being set to 0.0 in labels with no true samples. Use `zero_division` parameter to control this behavior.\n",
            "  _warn_prf(average, modifier, msg_start, len(result))\n"
          ],
          "name": "stderr"
        },
        {
          "output_type": "stream",
          "text": [
            "[running seed: 3]\n"
          ],
          "name": "stdout"
        },
        {
          "output_type": "stream",
          "text": [
            "/usr/local/lib/python3.6/dist-packages/sklearn/metrics/_classification.py:1272: UndefinedMetricWarning: Recall and F-score are ill-defined and being set to 0.0 in labels with no true samples. Use `zero_division` parameter to control this behavior.\n",
            "  _warn_prf(average, modifier, msg_start, len(result))\n"
          ],
          "name": "stderr"
        },
        {
          "output_type": "stream",
          "text": [
            "[running seed: 4]\n"
          ],
          "name": "stdout"
        },
        {
          "output_type": "stream",
          "text": [
            "/usr/local/lib/python3.6/dist-packages/sklearn/metrics/_classification.py:1272: UndefinedMetricWarning: Recall and F-score are ill-defined and being set to 0.0 in labels with no true samples. Use `zero_division` parameter to control this behavior.\n",
            "  _warn_prf(average, modifier, msg_start, len(result))\n"
          ],
          "name": "stderr"
        },
        {
          "output_type": "stream",
          "text": [
            "[running seed: 5]\n"
          ],
          "name": "stdout"
        },
        {
          "output_type": "stream",
          "text": [
            "/usr/local/lib/python3.6/dist-packages/sklearn/metrics/_classification.py:1272: UndefinedMetricWarning: Recall and F-score are ill-defined and being set to 0.0 in labels with no true samples. Use `zero_division` parameter to control this behavior.\n",
            "  _warn_prf(average, modifier, msg_start, len(result))\n"
          ],
          "name": "stderr"
        },
        {
          "output_type": "stream",
          "text": [
            "[running seed: 6]\n"
          ],
          "name": "stdout"
        },
        {
          "output_type": "stream",
          "text": [
            "/usr/local/lib/python3.6/dist-packages/sklearn/metrics/_classification.py:1272: UndefinedMetricWarning: Recall and F-score are ill-defined and being set to 0.0 in labels with no true samples. Use `zero_division` parameter to control this behavior.\n",
            "  _warn_prf(average, modifier, msg_start, len(result))\n"
          ],
          "name": "stderr"
        },
        {
          "output_type": "stream",
          "text": [
            "[running seed: 7]\n"
          ],
          "name": "stdout"
        },
        {
          "output_type": "stream",
          "text": [
            "/usr/local/lib/python3.6/dist-packages/sklearn/metrics/_classification.py:1272: UndefinedMetricWarning: Recall and F-score are ill-defined and being set to 0.0 in labels with no true samples. Use `zero_division` parameter to control this behavior.\n",
            "  _warn_prf(average, modifier, msg_start, len(result))\n"
          ],
          "name": "stderr"
        },
        {
          "output_type": "stream",
          "text": [
            "[running seed: 8]\n"
          ],
          "name": "stdout"
        },
        {
          "output_type": "stream",
          "text": [
            "/usr/local/lib/python3.6/dist-packages/sklearn/metrics/_classification.py:1272: UndefinedMetricWarning: Recall and F-score are ill-defined and being set to 0.0 in labels with no true samples. Use `zero_division` parameter to control this behavior.\n",
            "  _warn_prf(average, modifier, msg_start, len(result))\n"
          ],
          "name": "stderr"
        },
        {
          "output_type": "stream",
          "text": [
            "[running seed: 9]\n"
          ],
          "name": "stdout"
        },
        {
          "output_type": "stream",
          "text": [
            "/usr/local/lib/python3.6/dist-packages/sklearn/metrics/_classification.py:1272: UndefinedMetricWarning: Recall and F-score are ill-defined and being set to 0.0 in labels with no true samples. Use `zero_division` parameter to control this behavior.\n",
            "  _warn_prf(average, modifier, msg_start, len(result))\n"
          ],
          "name": "stderr"
        },
        {
          "output_type": "stream",
          "text": [
            "[running seed: 10]\n"
          ],
          "name": "stdout"
        },
        {
          "output_type": "stream",
          "text": [
            "/usr/local/lib/python3.6/dist-packages/sklearn/metrics/_classification.py:1272: UndefinedMetricWarning: Recall and F-score are ill-defined and being set to 0.0 in labels with no true samples. Use `zero_division` parameter to control this behavior.\n",
            "  _warn_prf(average, modifier, msg_start, len(result))\n"
          ],
          "name": "stderr"
        },
        {
          "output_type": "stream",
          "text": [
            "[running seed: 11]\n"
          ],
          "name": "stdout"
        },
        {
          "output_type": "stream",
          "text": [
            "/usr/local/lib/python3.6/dist-packages/sklearn/metrics/_classification.py:1272: UndefinedMetricWarning: Recall and F-score are ill-defined and being set to 0.0 in labels with no true samples. Use `zero_division` parameter to control this behavior.\n",
            "  _warn_prf(average, modifier, msg_start, len(result))\n"
          ],
          "name": "stderr"
        },
        {
          "output_type": "stream",
          "text": [
            "[running seed: 12]\n"
          ],
          "name": "stdout"
        },
        {
          "output_type": "stream",
          "text": [
            "/usr/local/lib/python3.6/dist-packages/sklearn/metrics/_classification.py:1272: UndefinedMetricWarning: Recall and F-score are ill-defined and being set to 0.0 in labels with no true samples. Use `zero_division` parameter to control this behavior.\n",
            "  _warn_prf(average, modifier, msg_start, len(result))\n"
          ],
          "name": "stderr"
        },
        {
          "output_type": "stream",
          "text": [
            "[running seed: 13]\n"
          ],
          "name": "stdout"
        },
        {
          "output_type": "stream",
          "text": [
            "/usr/local/lib/python3.6/dist-packages/sklearn/metrics/_classification.py:1272: UndefinedMetricWarning: Recall and F-score are ill-defined and being set to 0.0 in labels with no true samples. Use `zero_division` parameter to control this behavior.\n",
            "  _warn_prf(average, modifier, msg_start, len(result))\n"
          ],
          "name": "stderr"
        },
        {
          "output_type": "stream",
          "text": [
            "[running seed: 14]\n"
          ],
          "name": "stdout"
        },
        {
          "output_type": "stream",
          "text": [
            "/usr/local/lib/python3.6/dist-packages/sklearn/metrics/_classification.py:1272: UndefinedMetricWarning: Recall and F-score are ill-defined and being set to 0.0 in labels with no true samples. Use `zero_division` parameter to control this behavior.\n",
            "  _warn_prf(average, modifier, msg_start, len(result))\n"
          ],
          "name": "stderr"
        },
        {
          "output_type": "stream",
          "text": [
            "[running seed: 15]\n"
          ],
          "name": "stdout"
        },
        {
          "output_type": "stream",
          "text": [
            "/usr/local/lib/python3.6/dist-packages/sklearn/metrics/_classification.py:1272: UndefinedMetricWarning: Recall and F-score are ill-defined and being set to 0.0 in labels with no true samples. Use `zero_division` parameter to control this behavior.\n",
            "  _warn_prf(average, modifier, msg_start, len(result))\n"
          ],
          "name": "stderr"
        },
        {
          "output_type": "stream",
          "text": [
            "[running seed: 16]\n"
          ],
          "name": "stdout"
        },
        {
          "output_type": "stream",
          "text": [
            "/usr/local/lib/python3.6/dist-packages/sklearn/metrics/_classification.py:1272: UndefinedMetricWarning: Recall and F-score are ill-defined and being set to 0.0 in labels with no true samples. Use `zero_division` parameter to control this behavior.\n",
            "  _warn_prf(average, modifier, msg_start, len(result))\n"
          ],
          "name": "stderr"
        },
        {
          "output_type": "stream",
          "text": [
            "[running seed: 17]\n"
          ],
          "name": "stdout"
        },
        {
          "output_type": "stream",
          "text": [
            "/usr/local/lib/python3.6/dist-packages/sklearn/metrics/_classification.py:1272: UndefinedMetricWarning: Recall and F-score are ill-defined and being set to 0.0 in labels with no true samples. Use `zero_division` parameter to control this behavior.\n",
            "  _warn_prf(average, modifier, msg_start, len(result))\n"
          ],
          "name": "stderr"
        },
        {
          "output_type": "stream",
          "text": [
            "[running seed: 18]\n"
          ],
          "name": "stdout"
        },
        {
          "output_type": "stream",
          "text": [
            "/usr/local/lib/python3.6/dist-packages/sklearn/metrics/_classification.py:1272: UndefinedMetricWarning: Recall and F-score are ill-defined and being set to 0.0 in labels with no true samples. Use `zero_division` parameter to control this behavior.\n",
            "  _warn_prf(average, modifier, msg_start, len(result))\n"
          ],
          "name": "stderr"
        },
        {
          "output_type": "stream",
          "text": [
            "[running seed: 19]\n"
          ],
          "name": "stdout"
        },
        {
          "output_type": "stream",
          "text": [
            "/usr/local/lib/python3.6/dist-packages/sklearn/metrics/_classification.py:1272: UndefinedMetricWarning: Recall and F-score are ill-defined and being set to 0.0 in labels with no true samples. Use `zero_division` parameter to control this behavior.\n",
            "  _warn_prf(average, modifier, msg_start, len(result))\n"
          ],
          "name": "stderr"
        }
      ]
    },
    {
      "cell_type": "code",
      "metadata": {
        "colab_type": "code",
        "id": "egunNPtMvx7Q",
        "colab": {
          "base_uri": "https://localhost:8080/",
          "height": 1000
        },
        "outputId": "67cc4b9a-0910-4ca4-ac46-2d100617c320"
      },
      "source": [
        "plot_performance(df_rea_bb, \"Readmission (bow-bin)\")\n",
        "plot_performance(df_rea_bf, \"Readmission (bow-freq)\")\n",
        "plot_performance(df_rea_bertpool, \"Readmission (BERT POOL)\")\n",
        "plot_performance(df_rea_bertcls, \"Readmission (BERT CLS)\")"
      ],
      "execution_count": 15,
      "outputs": [
        {
          "output_type": "display_data",
          "data": {
            "image/png": "[encoded data removed]",
            "text/plain": [
              "<Figure size 1296x360 with 1 Axes>"
            ]
          },
          "metadata": {
            "tags": [],
            "needs_background": "light"
          }
        },
        {
          "output_type": "display_data",
          "data": {
            "image/png": "[encoded data removed]",
            "text/plain": [
              "<Figure size 1296x360 with 1 Axes>"
            ]
          },
          "metadata": {
            "tags": [],
            "needs_background": "light"
          }
        },
        {
          "output_type": "display_data",
          "data": {
            "image/png": "[encoded data removed]",
            "text/plain": [
              "<Figure size 1296x360 with 1 Axes>"
            ]
          },
          "metadata": {
            "tags": [],
            "needs_background": "light"
          }
        },
        {
          "output_type": "display_data",
          "data": {
            "image/png": "[encoded data removed]",
            "text/plain": [
              "<Figure size 1296x360 with 1 Axes>"
            ]
          },
          "metadata": {
            "tags": [],
            "needs_background": "light"
          }
        }
      ]
    },
    {
      "cell_type": "code",
      "metadata": {
        "colab_type": "code",
        "id": "mFcswnC9vx7S",
        "scrolled": false,
        "colab": {
          "base_uri": "https://localhost:8080/",
          "height": 1000
        },
        "outputId": "e819bde4-cf81-4959-d5d6-178af1f57b62"
      },
      "source": [
        "LIM = 1\n",
        "plot_catplot(df_rea_bb_delta_W, df_rea_bb_delta_N, \"Readmission x Ethnicity Binary (bow-bin)\", LIM)\n",
        "plot_catplot(df_rea_bf_delta_W, df_rea_bf_delta_N, \"Readmission x Ethnicity Binary (bow-freq)\", LIM)\n",
        "plot_catplot(df_rea_bertpool_delta_W, df_rea_bertpool_delta_N, \"Readmission x Ethnicity Binary (BERT POOL)\", LIM)\n",
        "plot_catplot(df_rea_bertcls_delta_W, df_rea_bertcls_delta_N, \"Readmission x Ethnicity Binary (BERT CLS)\", LIM)\n"
      ],
      "execution_count": 16,
      "outputs": [
        {
          "output_type": "display_data",
          "data": {
            "image/png": "[encoded data removed]",
            "text/plain": [
              "<Figure size 773.6x360 with 2 Axes>"
            ]
          },
          "metadata": {
            "tags": [],
            "needs_background": "light"
          }
        },
        {
          "output_type": "display_data",
          "data": {
            "image/png": "[encoded data removed]",
            "text/plain": [
              "<Figure size 773.6x360 with 2 Axes>"
            ]
          },
          "metadata": {
            "tags": [],
            "needs_background": "light"
          }
        },
        {
          "output_type": "display_data",
          "data": {
            "image/png": "[encoded data removed]",
            "text/plain": [
              "<Figure size 773.6x360 with 2 Axes>"
            ]
          },
          "metadata": {
            "tags": [],
            "needs_background": "light"
          }
        },
        {
          "output_type": "display_data",
          "data": {
            "image/png": "[encoded data removed]",
            "text/plain": [
              "<Figure size 773.6x360 with 2 Axes>"
            ]
          },
          "metadata": {
            "tags": [],
            "needs_background": "light"
          }
        }
      ]
    },
    {
      "cell_type": "code",
      "metadata": {
        "id": "eqlp7VBpdF_o",
        "colab_type": "code",
        "colab": {}
      },
      "source": [
        ""
      ],
      "execution_count": 14,
      "outputs": []
    }
  ]
}